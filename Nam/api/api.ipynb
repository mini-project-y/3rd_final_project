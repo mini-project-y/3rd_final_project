{
 "cells": [
  {
   "cell_type": "code",
   "execution_count": 8,
   "metadata": {},
   "outputs": [],
   "source": [
    "# ! pip install requests\n"
   ]
  },
  {
   "cell_type": "code",
   "execution_count": 6,
   "metadata": {},
   "outputs": [
    {
     "name": "stdout",
     "output_type": "stream",
     "text": [
      "1. 맘마쿡 - 서울 영등포구 영등포동6가 76 - ('126.90260986212897', '37.52060795713209') (거리: 97m)\n",
      "2. 엔에이일공일 - 서울 영등포구 영등포동6가 81 - ('126.902139128833', '37.5207237973799') (거리: 138m)\n",
      "3. 꾸덕파스타 - 서울 영등포구 영등포동6가 107-1 - ('126.902018398479', '37.5213525970767') (거리: 162m)\n",
      "4. 애비뉴428 - 서울 영등포구 영등포동6가 126-14 - ('126.90223962557808', '37.52172939943654') (거리: 167m)\n",
      "5. 지르박 - 서울 영등포구 영등포동4가 127 - ('126.903311994349', '37.5191236814648') (거리: 185m)\n",
      "6. 돼지게티 서울영등포점 - 서울 영등포구 영등포동5가 123-5 - ('126.905823924044', '37.5212664935171') (거리: 195m)\n",
      "7. 피자선생 영등포점 - 서울 영등포구 영등포동5가 56-2 - ('126.905976321018', '37.5224207990973') (거리: 272m)\n",
      "8. 구름공방 - 서울 영등포구 영등포동3가 7-31 - ('126.906722635145', '37.5190273139007') (거리: 329m)\n",
      "9. 잭슨피자 영등포점 - 서울 영등포구 영등포동4가 443 - ('126.90219581658796', '37.51802624189041') (거리: 332m)\n",
      "10. 사육장 - 서울 영등포구 영등포동7가 203 - ('126.90606142150342', '37.52311734161314') (거리: 334m)\n",
      "11. 주제 - 서울 영등포구 영등포동3가 4-12 - ('126.9069804215674', '37.519126627521715') (거리: 342m)\n",
      "12. 프로젝트너굴상점 - 서울 영등포구 당산동3가 1-6 - ('126.90160278408776', '37.523423655974625') (거리: 348m)\n",
      "13. 까사피에스타 - 서울 영등포구 영등포동7가 208 - ('126.90559250540214', '37.52357828086793') (거리: 354m)\n",
      "14. 37.5 시그니처 타임스퀘어점 - 서울 영등포구 영등포동4가 442 - ('126.90560420662', '37.5178821515505') (거리: 361m)\n",
      "15. 와빈 - 서울 영등포구 영등포동3가 17 - ('126.906930146111', '37.5186211252729') (거리: 371m)\n"
     ]
    }
   ],
   "source": [
    "import requests\n",
    "import json\n",
    "\n",
    "# 카카오 API 키 설정\n",
    "KAKAO_API_KEY = \"74a779368cf2713c3d5a3cc365f45edf\"\n",
    "\n",
    "# 음식점 검색 함수\n",
    "def search_restaurants_nearby(query, latitude, longitude, radius=500):\n",
    "    url = \"https://dapi.kakao.com/v2/local/search/keyword.json\"\n",
    "    headers = {\n",
    "        \"Authorization\": f\"KakaoAK {KAKAO_API_KEY}\"\n",
    "    }\n",
    "    params = {\n",
    "        \"query\": query,  \n",
    "        \"x\": longitude,  \n",
    "        \"y\": latitude,   \n",
    "        \"radius\": radius,  \n",
    "        \"sort\": \"distance\", \n",
    "        \"size\": 15 \n",
    "    }\n",
    "\n",
    "    response = requests.get(url, headers=headers, params=params)\n",
    "    if response.status_code == 200:\n",
    "        data = response.json()\n",
    "        return data[\"documents\"]  \n",
    "    else:\n",
    "        print(f\"Error {response.status_code}: {response.text}\")\n",
    "        return None\n",
    "\n",
    "latitude = 37.5207652\n",
    "longitude = 126.9037018\n",
    "query = \"파스타\"\n",
    "\n",
    "restaurants = search_restaurants_nearby(query, latitude, longitude)\n",
    "\n",
    "# 결과 출력\n",
    "if restaurants:\n",
    "    for idx, place in enumerate(restaurants, start=1):\n",
    "        # print(f\"{idx}. {place['place_name']} - {place['address_name']} (거리: {place['distance']}m)\")\n",
    "        print(f\"{idx}. {place['place_name']} - {place['address_name']} - {place['x'], place['y']} (거리: {place['distance']}m)\")\n",
    "else:\n",
    "    print(\"검색 결과 없음\")\n"
   ]
  },
  {
   "cell_type": "code",
   "execution_count": null,
   "metadata": {},
   "outputs": [],
   "source": []
  }
 ],
 "metadata": {
  "kernelspec": {
   "display_name": "human-dl-env2",
   "language": "python",
   "name": "python3"
  },
  "language_info": {
   "codemirror_mode": {
    "name": "ipython",
    "version": 3
   },
   "file_extension": ".py",
   "mimetype": "text/x-python",
   "name": "python",
   "nbconvert_exporter": "python",
   "pygments_lexer": "ipython3",
   "version": "3.9.21"
  }
 },
 "nbformat": 4,
 "nbformat_minor": 2
}
