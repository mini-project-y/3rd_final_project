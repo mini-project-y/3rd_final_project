{
 "cells": [
  {
   "cell_type": "code",
   "execution_count": 2,
   "metadata": {
    "executionInfo": {
     "elapsed": 2555,
     "status": "ok",
     "timestamp": 1736318506258,
     "user": {
      "displayName": "이유리",
      "userId": "07944853073863522042"
     },
     "user_tz": -540
    },
    "id": "HGuzynxKpcXN"
   },
   "outputs": [],
   "source": [
    "import pandas as pd\n",
    "import numpy as np\n",
    "import matplotlib.pyplot as plt\n",
    "import seaborn as sns"
   ]
  },
  {
   "cell_type": "code",
   "execution_count": 4,
   "metadata": {
    "executionInfo": {
     "elapsed": 662,
     "status": "ok",
     "timestamp": 1736318579408,
     "user": {
      "displayName": "이유리",
      "userId": "07944853073863522042"
     },
     "user_tz": -540
    },
    "id": "tXeRzwQfo30N"
   },
   "outputs": [],
   "source": [
    "food_150_df = pd.read_csv(\"../data_preprocessing/merged_food_150_by_Mook.csv\")\n",
    "food_6000_df = pd.read_csv(\"../data_preprocessing/recipe_6000_by_Mook.csv\")\n",
    "recipe_df = pd.read_csv(\"../data_preprocessing/recipe_clean.csv\")"
   ]
  },
  {
   "cell_type": "code",
   "execution_count": null,
   "metadata": {
    "colab": {
     "base_uri": "https://localhost:8080/",
     "height": 112
    },
    "executionInfo": {
     "elapsed": 363,
     "status": "ok",
     "timestamp": 1736318585997,
     "user": {
      "displayName": "이유리",
      "userId": "07944853073863522042"
     },
     "user_tz": -540
    },
    "id": "UWImB7Ztpik0",
    "outputId": "868c3195-f854-442f-9f65-49e3d72a3913"
   },
   "outputs": [],
   "source": [
    "food_6000_df.head(5)"
   ]
  },
  {
   "cell_type": "code",
   "execution_count": null,
   "metadata": {
    "colab": {
     "base_uri": "https://localhost:8080/",
     "height": 182
    },
    "executionInfo": {
     "elapsed": 347,
     "status": "ok",
     "timestamp": 1736318592182,
     "user": {
      "displayName": "이유리",
      "userId": "07944853073863522042"
     },
     "user_tz": -540
    },
    "id": "giZ0jIpApkBc",
    "outputId": "c0b137a7-c07d-491c-bcd0-455fb7f55a19"
   },
   "outputs": [],
   "source": [
    "food_6000_df.info()\n",
    "# food_6000_df.isna().sum()\n",
    "food_6000_df.dropna(subset=\"CKG_NM\")\n",
    "food_6000_df.isna().sum()"
   ]
  },
  {
   "cell_type": "code",
   "execution_count": 14,
   "metadata": {},
   "outputs": [
    {
     "data": {
      "text/plain": [
       "Index(['CKG_NM', 'INQ_CNT', 'RCMM_CNT', 'SRAP_CNT', 'CKG_MTH_ACTO_NM',\n",
       "       'CKG_MTRL_ACTO_NM', 'CKG_KND_ACTO_NM', 'CKG_MTRL_CN',\n",
       "       'vegetarian_type'],\n",
       "      dtype='object')"
      ]
     },
     "execution_count": 14,
     "metadata": {},
     "output_type": "execute_result"
    }
   ],
   "source": [
    "recipe_df.columns"
   ]
  },
  {
   "cell_type": "code",
   "execution_count": 15,
   "metadata": {
    "colab": {
     "base_uri": "https://localhost:8080/"
    },
    "executionInfo": {
     "elapsed": 319,
     "status": "ok",
     "timestamp": 1736318661824,
     "user": {
      "displayName": "이유리",
      "userId": "07944853073863522042"
     },
     "user_tz": -540
    },
    "id": "9RdB0KIFqBpu",
    "outputId": "a4784153-70e5-432b-ac81-799f267ae1ef"
   },
   "outputs": [
    {
     "data": {
      "text/plain": [
       "Index(['RCP_SNO', 'RCP_TTL', 'CKG_NM', 'RGTR_ID', 'RGTR_NM', 'INQ_CNT',\n",
       "       'RCMM_CNT', 'SRAP_CNT', 'CKG_MTH_ACTO_NM', 'CKG_STA_ACTO_NM',\n",
       "       'CKG_MTRL_ACTO_NM', 'CKG_KND_ACTO_NM', 'CKG_IPDC', 'CKG_MTRL_CN',\n",
       "       'CKG_INBUN_NM', 'CKG_DODF_NM', 'CKG_TIME_NM', 'FIRST_REG_DT',\n",
       "       'RCP_IMG_URL', '대표명칭'],\n",
       "      dtype='object')"
      ]
     },
     "execution_count": 15,
     "metadata": {},
     "output_type": "execute_result"
    }
   ],
   "source": [
    "food_6000_df.columns"
   ]
  },
  {
   "cell_type": "code",
   "execution_count": 21,
   "metadata": {
    "colab": {
     "base_uri": "https://localhost:8080/"
    },
    "executionInfo": {
     "elapsed": 346,
     "status": "ok",
     "timestamp": 1736319383760,
     "user": {
      "displayName": "이유리",
      "userId": "07944853073863522042"
     },
     "user_tz": -540
    },
    "id": "qKDxnq4Qq9Jo",
    "outputId": "6e44c876-1304-4d27-aa3c-3651ada0f219"
   },
   "outputs": [
    {
     "name": "stdout",
     "output_type": "stream",
     "text": [
      "3         곱창구이\n",
      "14      떡국_만두국\n",
      "18        시래기국\n",
      "21         과매기\n",
      "23          젓갈\n",
      "27     후라이드_치킨\n",
      "44          경단\n",
      "45          꿀떡\n",
      "48        조개구이\n",
      "67        꽁치조림\n",
      "75         닭계장\n",
      "81     곰탕(설렁탕)\n",
      "95          약과\n",
      "96          약식\n",
      "97          한과\n",
      "98          멍게\n",
      "101        산낙지\n",
      "Name: name, dtype: object\n"
     ]
    }
   ],
   "source": [
    "# food_150_df에 있지만 recipe_df에 없는 음식 이름 찾기\n",
    "missing_names = food_150_df[~food_150_df['name'].isin(recipe_df['CKG_NM'])]\n",
    "\n",
    "# 결과 확인\n",
    "print(missing_names[\"name\"])"
   ]
  },
  {
   "cell_type": "code",
   "execution_count": null,
   "metadata": {
    "colab": {
     "base_uri": "https://localhost:8080/"
    },
    "executionInfo": {
     "elapsed": 7893,
     "status": "ok",
     "timestamp": 1736319526230,
     "user": {
      "displayName": "이유리",
      "userId": "07944853073863522042"
     },
     "user_tz": -540
    },
    "id": "lBuBliTTtUCe",
    "outputId": "8b3ca15a-bcae-478f-8a87-f654d2bc3698"
   },
   "outputs": [],
   "source": [
    "# !pip install rapidfuzz"
   ]
  },
  {
   "cell_type": "code",
   "execution_count": 26,
   "metadata": {
    "colab": {
     "base_uri": "https://localhost:8080/"
    },
    "executionInfo": {
     "elapsed": 356,
     "status": "ok",
     "timestamp": 1736319556336,
     "user": {
      "displayName": "이유리",
      "userId": "07944853073863522042"
     },
     "user_tz": -540
    },
    "id": "6OyKbpmOsRom",
    "outputId": "f1bcd0b2-861c-49e9-a2a1-a4297e4e4b45"
   },
   "outputs": [
    {
     "name": "stdout",
     "output_type": "stream",
     "text": [
      "'곱창구이'와 유사한 이름들:\n",
      "  - 들기름곱창김구이 (유사도: 66.66666666666667%)\n",
      "  - 귤구이 (유사도: 57.14285714285714%)\n",
      "  - 김구이 (유사도: 57.14285714285714%)\n",
      "  - 굴구이 (유사도: 57.14285714285714%)\n",
      "  - 곱창김 (유사도: 57.14285714285714%)\n",
      "\n",
      "'떡국_만두국'와 유사한 이름들:\n",
      "  - 떡만두국 (유사도: 80.0%)\n",
      "  - 김떡만두국 (유사도: 72.72727272727273%)\n",
      "  - 사골떡만두국 (유사도: 66.66666666666667%)\n",
      "  - 만두국 (유사도: 66.66666666666667%)\n",
      "  - 계란떡만두국 (유사도: 66.66666666666667%)\n",
      "\n",
      "'시래기국'와 유사한 이름들:\n",
      "  - 시래기 (유사도: 85.71428571428572%)\n",
      "  - 들깨시래기국 (유사도: 80.0%)\n",
      "  - 시래기순대국 (유사도: 80.0%)\n",
      "  - 시래기된장국 (유사도: 80.0%)\n",
      "  - 꼬시래기국수 (유사도: 80.0%)\n",
      "\n",
      "'과매기'와 유사한 이름들:\n",
      "  - 과메기 (유사도: 66.66666666666667%)\n",
      "  - 사과깍두기 (유사도: 50.0%)\n",
      "  - 매콤조기조림 (유사도: 44.44444444444444%)\n",
      "  - 매콤닭불고기 (유사도: 44.44444444444444%)\n",
      "  - 용과 (유사도: 40.0%)\n",
      "\n",
      "'젓갈'와 유사한 이름들:\n",
      "  - 광어젓갈 (유사도: 66.66666666666667%)\n",
      "  - 멍게젓갈 (유사도: 66.66666666666667%)\n",
      "  - 오징어젓갈 (유사도: 57.14285714285714%)\n",
      "  - 낙지젓갈무침 (유사도: 50.0%)\n",
      "  - 돼지젓갈조림 (유사도: 50.0%)\n",
      "\n",
      "'후라이드_치킨'와 유사한 이름들:\n",
      "  - 후라이드치킨 (유사도: 92.3076923076923%)\n",
      "  - 닭가슴살순살후라이드치킨 (유사도: 63.1578947368421%)\n",
      "  - 계란후라이샌드위치 (유사도: 62.5%)\n",
      "  - 돼지후라이드 (유사도: 61.53846153846154%)\n",
      "  - 에어프라이어치킨 (유사도: 53.333333333333336%)\n",
      "\n",
      "'경단'와 유사한 이름들:\n",
      "  - 카스테라경단 (유사도: 50.0%)\n",
      "  - 단팥빵 (유사도: 40.0%)\n",
      "  - 단무지 (유사도: 40.0%)\n",
      "  - 단호박 (유사도: 40.0%)\n",
      "  - 청경채 (유사도: 40.0%)\n",
      "\n",
      "'꿀떡'와 유사한 이름들:\n",
      "  - 꿀호떡 (유사도: 80.0%)\n",
      "  - 떡 (유사도: 66.66666666666667%)\n",
      "  - 치즈꿀호떡 (유사도: 57.14285714285714%)\n",
      "  - 떡국 (유사도: 50.0%)\n",
      "  - 떡뻥 (유사도: 50.0%)\n",
      "\n",
      "'조개구이'와 유사한 이름들:\n",
      "  - 조기구이 (유사도: 75.0%)\n",
      "  - 닭날개구이 (유사도: 66.66666666666667%)\n",
      "  - 귤구이 (유사도: 57.14285714285714%)\n",
      "  - 조개탕 (유사도: 57.14285714285714%)\n",
      "  - 김구이 (유사도: 57.14285714285714%)\n",
      "\n",
      "'꽁치조림'와 유사한 이름들:\n",
      "  - 학꽁치조림 (유사도: 88.88888888888889%)\n",
      "  - 꽁치무조림 (유사도: 88.88888888888889%)\n",
      "  - 꽁치김치조림 (유사도: 80.0%)\n",
      "  - 갈치조림 (유사도: 75.0%)\n",
      "  - 삼치조림 (유사도: 75.0%)\n",
      "\n",
      "'닭계장'와 유사한 이름들:\n",
      "  - 닭개장 (유사도: 66.66666666666667%)\n",
      "  - 계란장 (유사도: 66.66666666666667%)\n",
      "  - 닭장떡국 (유사도: 57.14285714285714%)\n",
      "  - 닭육개장 (유사도: 57.14285714285714%)\n",
      "  - 계란쌈장 (유사도: 57.14285714285714%)\n",
      "\n",
      "'곰탕(설렁탕)'와 유사한 이름들:\n",
      "  - 설렁탕 (유사도: 60.0%)\n",
      "  - 닭곰탕 (유사도: 40.0%)\n",
      "  - 양지곰탕 (유사도: 36.36363636363637%)\n",
      "  - 사골곰탕 (유사도: 36.36363636363637%)\n",
      "  - 꼬리곰탕 (유사도: 36.36363636363637%)\n",
      "\n",
      "'약과'와 유사한 이름들:\n",
      "  - 개성약과 (유사도: 66.66666666666667%)\n",
      "  - 강아지약과 (유사도: 57.14285714285714%)\n",
      "  - 용과 (유사도: 50.0%)\n",
      "  - 약밥 (유사도: 50.0%)\n",
      "  - 사과 (유사도: 50.0%)\n",
      "\n",
      "'약식'와 유사한 이름들:\n",
      "  - 식혜 (유사도: 50.0%)\n",
      "  - 약밥 (유사도: 50.0%)\n",
      "  - 식빵 (유사도: 50.0%)\n",
      "  - 식초콩 (유사도: 40.0%)\n",
      "  - 쌀식빵 (유사도: 40.0%)\n",
      "\n",
      "'한과'와 유사한 이름들:\n",
      "  - 용과 (유사도: 50.0%)\n",
      "  - 한우 (유사도: 50.0%)\n",
      "  - 사과 (유사도: 50.0%)\n",
      "  - 챠한 (유사도: 50.0%)\n",
      "  - 사과주 (유사도: 40.0%)\n",
      "\n",
      "'멍게'와 유사한 이름들:\n",
      "  - 멍게톳밥 (유사도: 66.66666666666667%)\n",
      "  - 멍게무침 (유사도: 66.66666666666667%)\n",
      "  - 멍게젓갈 (유사도: 66.66666666666667%)\n",
      "  - 멍게비빔밥 (유사도: 57.14285714285714%)\n",
      "  - 미나리멍게전 (유사도: 50.0%)\n",
      "\n",
      "'산낙지'와 유사한 이름들:\n",
      "  - 낙지국 (유사도: 66.66666666666667%)\n",
      "  - 낙지볶음 (유사도: 57.14285714285714%)\n",
      "  - 낙지덮밥 (유사도: 57.14285714285714%)\n",
      "  - 낙지호롱 (유사도: 57.14285714285714%)\n",
      "  - 낙지미역국 (유사도: 50.0%)\n",
      "\n"
     ]
    }
   ],
   "source": [
    "from rapidfuzz import fuzz, process\n",
    "\n",
    "# 누락된 음식 이름 리스트\n",
    "missing_names = [\n",
    "    \"곱창구이\", \"떡국_만두국\", \"시래기국\", \"과매기\", \"젓갈\", \"후라이드_치킨\",\n",
    "    \"경단\", \"꿀떡\", \"조개구이\", \"꽁치조림\", \"닭계장\", \"곰탕(설렁탕)\",\n",
    "    \"약과\", \"약식\", \"한과\", \"멍게\", \"산낙지\"\n",
    "]\n",
    "\n",
    "# 레시피 데이터프레임에서 음식 이름 목록 추출\n",
    "recipe_names = recipe_df['CKG_NM'].tolist()\n",
    "\n",
    "# 누락된 음식 이름과 레시피 이름 간의 유사도 계산\n",
    "similar_names = {}\n",
    "for missing in missing_names:\n",
    "    matches = process.extract(missing, recipe_names, scorer=fuzz.token_sort_ratio, limit=5)\n",
    "    similar_names[missing] = matches\n",
    "\n",
    "# 결과 출력\n",
    "for missing, matches in similar_names.items():\n",
    "    print(f\"'{missing}'와 유사한 이름들:\")\n",
    "    for match, score, _ in matches:\n",
    "        print(f\"  - {match} (유사도: {score}%)\")\n",
    "    print()"
   ]
  },
  {
   "cell_type": "code",
   "execution_count": 34,
   "metadata": {
    "executionInfo": {
     "elapsed": 358,
     "status": "ok",
     "timestamp": 1736320717887,
     "user": {
      "displayName": "이유리",
      "userId": "07944853073863522042"
     },
     "user_tz": -540
    },
    "id": "FUdszJQMtJdd"
   },
   "outputs": [],
   "source": [
    "# food_150_df의 이름 기준으로 recipe_df의 이름 변경 매핑\n",
    "# \"recipe_df의 기존 음식 이름\": \"food_150_df의 기준 음식 이름\"\n",
    "name_mapping_ = {\n",
    "    \"떡만두국\": \"떡국_만두국\",\n",
    "    \"시래기된장국\": \"시래기국\",\n",
    "    \"과메기\": \"과매기\",\n",
    "    \"설렁탕\": \"곰탕(설렁탕)\",\n",
    "    \"오징어젓갈\": \"젓갈\",\n",
    "    \"후라이드치킨\": \"후라이드_치킨\",\n",
    "    \"카스테라경단\": \"경단\",\n",
    "    \"꽁치무조림\": \"꽁치조림\",\n",
    "    \"닭개장\": \"닭계장\",\n",
    "    \"약밥\": \"약식\",\n",
    "    \"멍게무침\": \"멍게\",\n",
    "    \"낙지탕탕이\": \"산낙지\",\n",
    "    # 아래부터는 비슷한 이름이 없어서 눈으로 찾아 바꿈\n",
    "    # \"\": \"곱창구이\",\n",
    "    # \"\": \"꿀떡\",\n",
    "    # \"\": \"조개구이\",\n",
    "    # \"\": \"약과\",\n",
    "    # \"\": \"한과\",\n",
    "}"
   ]
  },
  {
   "cell_type": "code",
   "execution_count": 32,
   "metadata": {
    "colab": {
     "base_uri": "https://localhost:8080/"
    },
    "executionInfo": {
     "elapsed": 356,
     "status": "ok",
     "timestamp": 1736320748739,
     "user": {
      "displayName": "이유리",
      "userId": "07944853073863522042"
     },
     "user_tz": -540
    },
    "id": "qP-HyfBHt9Nd",
    "outputId": "f1c75d82-04b8-4eab-ba96-a02856f08a1a"
   },
   "outputs": [],
   "source": [
    "# # 'name' 열을 매핑 결과로 업데이트\n",
    "# recipe_df['CKG_NM'] = recipe_df['CKG_NM'].replace(name_mapping)\n",
    "\n",
    "# # 결과 확인\n",
    "# print(recipe_df[recipe_df['CKG_NM'] == '닭계장'])\n",
    "# print(recipe_df[recipe_df['CKG_NM'] == '꽁치조림'])\n",
    "# print(food_150_df[food_150_df['name'] == '닭계장'])\n",
    "# print(food_150_df[food_150_df['name'] == '꽁치조림'])"
   ]
  },
  {
   "cell_type": "code",
   "execution_count": 33,
   "metadata": {
    "colab": {
     "base_uri": "https://localhost:8080/"
    },
    "executionInfo": {
     "elapsed": 359,
     "status": "ok",
     "timestamp": 1736320770767,
     "user": {
      "displayName": "이유리",
      "userId": "07944853073863522042"
     },
     "user_tz": -540
    },
    "id": "-os4VTaXt9__",
    "outputId": "e2b42a76-bae4-45ff-e04b-9a240974f436"
   },
   "outputs": [],
   "source": [
    "# # 변경된 이름과 food_150_df의 이름 매칭 여부 확인\n",
    "# matched_names = recipe_df[recipe_df['CKG_NM'].isin(food_150_df['name'])]\n",
    "# unmatched_names = recipe_df[~recipe_df['CKG_NM'].isin(food_150_df['name'])]\n",
    "\n",
    "# print(f\"매칭된 이름 수: {len(matched_names)}\")\n",
    "# print(f\"매칭되지 않은 이름들: {unmatched_names}\")\n"
   ]
  },
  {
   "cell_type": "code",
   "execution_count": 16,
   "metadata": {
    "id": "dWCgYyXgyC6_"
   },
   "outputs": [],
   "source": [
    "food_vegitype = recipe_df[['CKG_NM', 'vegetarian_type']]"
   ]
  },
  {
   "cell_type": "code",
   "execution_count": null,
   "metadata": {},
   "outputs": [],
   "source": [
    "food_vegitype"
   ]
  },
  {
   "cell_type": "code",
   "execution_count": 35,
   "metadata": {},
   "outputs": [
    {
     "data": {
      "text/html": [
       "<div>\n",
       "<style scoped>\n",
       "    .dataframe tbody tr th:only-of-type {\n",
       "        vertical-align: middle;\n",
       "    }\n",
       "\n",
       "    .dataframe tbody tr th {\n",
       "        vertical-align: top;\n",
       "    }\n",
       "\n",
       "    .dataframe thead th {\n",
       "        text-align: right;\n",
       "    }\n",
       "</style>\n",
       "<table border=\"1\" class=\"dataframe\">\n",
       "  <thead>\n",
       "    <tr style=\"text-align: right;\">\n",
       "      <th></th>\n",
       "      <th>RCP_SNO</th>\n",
       "      <th>RCP_TTL</th>\n",
       "      <th>CKG_NM</th>\n",
       "      <th>RGTR_ID</th>\n",
       "      <th>RGTR_NM</th>\n",
       "      <th>INQ_CNT</th>\n",
       "      <th>RCMM_CNT</th>\n",
       "      <th>SRAP_CNT</th>\n",
       "      <th>CKG_MTH_ACTO_NM</th>\n",
       "      <th>CKG_STA_ACTO_NM</th>\n",
       "      <th>CKG_MTRL_ACTO_NM</th>\n",
       "      <th>CKG_KND_ACTO_NM</th>\n",
       "      <th>CKG_IPDC</th>\n",
       "      <th>CKG_MTRL_CN</th>\n",
       "      <th>CKG_INBUN_NM</th>\n",
       "      <th>CKG_DODF_NM</th>\n",
       "      <th>CKG_TIME_NM</th>\n",
       "      <th>FIRST_REG_DT</th>\n",
       "      <th>RCP_IMG_URL</th>\n",
       "      <th>대표명칭</th>\n",
       "    </tr>\n",
       "  </thead>\n",
       "  <tbody>\n",
       "    <tr>\n",
       "      <th>0</th>\n",
       "      <td>7037475</td>\n",
       "      <td>실패할일 없는 김장김치양념 /절임배추20kg/ 김장김치 양념비율 황금레시피 /김장담그기</td>\n",
       "      <td>김장김치</td>\n",
       "      <td>kjo2456</td>\n",
       "      <td>김진옥요리가좋다</td>\n",
       "      <td>60777</td>\n",
       "      <td>0</td>\n",
       "      <td>52</td>\n",
       "      <td>절임</td>\n",
       "      <td>일상</td>\n",
       "      <td>채소류</td>\n",
       "      <td>김치/젓갈/장류</td>\n",
       "      <td>안녕하세요 김진옥입니다. 제가 반찬쇼핑몰 10년 운영했던것은 아시죠~ 그때 김장철에...</td>\n",
       "      <td>[재료] 절임배추\u000720\u0007kg\u0007(1상자 7~9포기)| 무\u00071\u0007개\u0007(1600g 채썰때 ...</td>\n",
       "      <td>6인분이상</td>\n",
       "      <td>중급</td>\n",
       "      <td>2시간이내</td>\n",
       "      <td>20241031052836</td>\n",
       "      <td>https://recipe1.ezmember.co.kr/cache/recipe/20...</td>\n",
       "      <td>김장김치</td>\n",
       "    </tr>\n",
       "    <tr>\n",
       "      <th>1</th>\n",
       "      <td>7022686</td>\n",
       "      <td>국물 닭볶음탕 황금레시피</td>\n",
       "      <td>국물닭볶음탕</td>\n",
       "      <td>81748884</td>\n",
       "      <td>요리하는쮸네</td>\n",
       "      <td>45495</td>\n",
       "      <td>0</td>\n",
       "      <td>35</td>\n",
       "      <td>끓이기</td>\n",
       "      <td>일상</td>\n",
       "      <td>닭고기</td>\n",
       "      <td>메인반찬</td>\n",
       "      <td>국물 닭볶음탕 황금레시피 알려드릴게요 : )</td>\n",
       "      <td>[재료] 절단 닭\u00071\u0007kg\u0007| 대파\u00071\u0007대\u0007| 양파\u00071/2\u0007개\u0007| 당근\u00071/2\u0007개\u0007...</td>\n",
       "      <td>2인분</td>\n",
       "      <td>아무나</td>\n",
       "      <td>60분이내</td>\n",
       "      <td>20240321110944</td>\n",
       "      <td>https://recipe1.ezmember.co.kr/cache/recipe/20...</td>\n",
       "      <td>국물닭볶음탕</td>\n",
       "    </tr>\n",
       "  </tbody>\n",
       "</table>\n",
       "</div>"
      ],
      "text/plain": [
       "   RCP_SNO                                           RCP_TTL  CKG_NM  \\\n",
       "0  7037475  실패할일 없는 김장김치양념 /절임배추20kg/ 김장김치 양념비율 황금레시피 /김장담그기    김장김치   \n",
       "1  7022686                                     국물 닭볶음탕 황금레시피  국물닭볶음탕   \n",
       "\n",
       "    RGTR_ID   RGTR_NM  INQ_CNT  RCMM_CNT  SRAP_CNT CKG_MTH_ACTO_NM  \\\n",
       "0   kjo2456  김진옥요리가좋다    60777         0        52              절임   \n",
       "1  81748884    요리하는쮸네    45495         0        35             끓이기   \n",
       "\n",
       "  CKG_STA_ACTO_NM CKG_MTRL_ACTO_NM CKG_KND_ACTO_NM  \\\n",
       "0              일상              채소류        김치/젓갈/장류   \n",
       "1              일상              닭고기            메인반찬   \n",
       "\n",
       "                                            CKG_IPDC  \\\n",
       "0  안녕하세요 김진옥입니다. 제가 반찬쇼핑몰 10년 운영했던것은 아시죠~ 그때 김장철에...   \n",
       "1                           국물 닭볶음탕 황금레시피 알려드릴게요 : )   \n",
       "\n",
       "                                         CKG_MTRL_CN CKG_INBUN_NM CKG_DODF_NM  \\\n",
       "0  [재료] 절임배추\u000720\u0007kg\u0007(1상자 7~9포기)| 무\u00071\u0007개\u0007(1600g 채썰때 ...        6인분이상          중급   \n",
       "1  [재료] 절단 닭\u00071\u0007kg\u0007| 대파\u00071\u0007대\u0007| 양파\u00071/2\u0007개\u0007| 당근\u00071/2\u0007개\u0007...          2인분         아무나   \n",
       "\n",
       "  CKG_TIME_NM    FIRST_REG_DT  \\\n",
       "0       2시간이내  20241031052836   \n",
       "1       60분이내  20240321110944   \n",
       "\n",
       "                                         RCP_IMG_URL    대표명칭  \n",
       "0  https://recipe1.ezmember.co.kr/cache/recipe/20...    김장김치  \n",
       "1  https://recipe1.ezmember.co.kr/cache/recipe/20...  국물닭볶음탕  "
      ]
     },
     "execution_count": 35,
     "metadata": {},
     "output_type": "execute_result"
    }
   ],
   "source": [
    "food_6000_df.head(2)"
   ]
  },
  {
   "cell_type": "code",
   "execution_count": 26,
   "metadata": {},
   "outputs": [],
   "source": [
    "# type(food_6000_df)\n",
    "# type(food_vegitype)\n",
    "merged_df = pd.merge(food_6000_df, food_vegitype, how=\"inner\", on=\"CKG_NM\")"
   ]
  },
  {
   "cell_type": "code",
   "execution_count": 30,
   "metadata": {},
   "outputs": [
    {
     "name": "stdout",
     "output_type": "stream",
     "text": [
      "food_6000_df에만 있는 값:\n",
      "{nan, '크래미오이보트'}\n"
     ]
    }
   ],
   "source": [
    "only_in_food_6000 = set(food_6000_df['CKG_NM']) - set(food_vegitype['CKG_NM'])\n",
    "print(f\"food_6000_df에만 있는 값:\\n{only_in_food_6000}\")"
   ]
  },
  {
   "cell_type": "code",
   "execution_count": 45,
   "metadata": {},
   "outputs": [
    {
     "data": {
      "text/html": [
       "<div>\n",
       "<style scoped>\n",
       "    .dataframe tbody tr th:only-of-type {\n",
       "        vertical-align: middle;\n",
       "    }\n",
       "\n",
       "    .dataframe tbody tr th {\n",
       "        vertical-align: top;\n",
       "    }\n",
       "\n",
       "    .dataframe thead th {\n",
       "        text-align: right;\n",
       "    }\n",
       "</style>\n",
       "<table border=\"1\" class=\"dataframe\">\n",
       "  <thead>\n",
       "    <tr style=\"text-align: right;\">\n",
       "      <th></th>\n",
       "      <th>RCP_SNO</th>\n",
       "      <th>RCP_TTL</th>\n",
       "      <th>CKG_NM</th>\n",
       "      <th>RGTR_ID</th>\n",
       "      <th>RGTR_NM</th>\n",
       "      <th>INQ_CNT</th>\n",
       "      <th>RCMM_CNT</th>\n",
       "      <th>SRAP_CNT</th>\n",
       "      <th>CKG_MTH_ACTO_NM</th>\n",
       "      <th>CKG_STA_ACTO_NM</th>\n",
       "      <th>CKG_MTRL_ACTO_NM</th>\n",
       "      <th>CKG_KND_ACTO_NM</th>\n",
       "      <th>CKG_IPDC</th>\n",
       "      <th>CKG_MTRL_CN</th>\n",
       "      <th>CKG_INBUN_NM</th>\n",
       "      <th>CKG_DODF_NM</th>\n",
       "      <th>CKG_TIME_NM</th>\n",
       "      <th>FIRST_REG_DT</th>\n",
       "      <th>RCP_IMG_URL</th>\n",
       "      <th>대표명칭</th>\n",
       "    </tr>\n",
       "  </thead>\n",
       "  <tbody>\n",
       "    <tr>\n",
       "      <th>1684</th>\n",
       "      <td>7021885</td>\n",
       "      <td>빵없이 통으로 구워서 피자만들기  애호박보트피자</td>\n",
       "      <td>애호박보트피자</td>\n",
       "      <td>gdubu33</td>\n",
       "      <td>만개의레시피</td>\n",
       "      <td>1380</td>\n",
       "      <td>0</td>\n",
       "      <td>70</td>\n",
       "      <td>굽기</td>\n",
       "      <td>일상</td>\n",
       "      <td>채소류</td>\n",
       "      <td>양식</td>\n",
       "      <td>NaN</td>\n",
       "      <td>[재료] 애호박\u00071\u0007개\u0007| 양파\u00071/2\u0007개\u0007| 미니파프리카\u00072\u0007개\u0007| 양송이버섯\u00074...</td>\n",
       "      <td>2인분</td>\n",
       "      <td>아무나</td>\n",
       "      <td>30분이내</td>\n",
       "      <td>20240311142937</td>\n",
       "      <td>https://recipe1.ezmember.co.kr/cache/recipe/20...</td>\n",
       "      <td>애호박보트피자</td>\n",
       "    </tr>\n",
       "    <tr>\n",
       "      <th>3657</th>\n",
       "      <td>7033435</td>\n",
       "      <td>편스토랑 진서연 다이어트 레시피 참치마요 에그마요 오이보트 만들기</td>\n",
       "      <td>에그마요오이보트</td>\n",
       "      <td>77721145</td>\n",
       "      <td>써지니</td>\n",
       "      <td>334</td>\n",
       "      <td>0</td>\n",
       "      <td>8</td>\n",
       "      <td>기타</td>\n",
       "      <td>일상</td>\n",
       "      <td>채소류</td>\n",
       "      <td>밥/죽/떡</td>\n",
       "      <td>편스토랑 방송에 나오시는 진서연 다이어트 메뉴 음식으로 아삭아삭한 식감의 오이로 편...</td>\n",
       "      <td>[재료] 오이\u00071\u0007개\u0007| 쪽파\u0007\u0007적당히\u0007(토핑용)| 현미밥\u00072~3\u0007숟가락\u0007(또는 쌀...</td>\n",
       "      <td>1인분</td>\n",
       "      <td>아무나</td>\n",
       "      <td>NaN</td>\n",
       "      <td>20240829053438</td>\n",
       "      <td>https://recipe1.ezmember.co.kr/cache/recipe/20...</td>\n",
       "      <td>에그마요오이보트</td>\n",
       "    </tr>\n",
       "    <tr>\n",
       "      <th>5440</th>\n",
       "      <td>7038420</td>\n",
       "      <td>채식메뉴 홈브런치 다이어트레시피 핑거푸드 오이요리 크래미 오이보트</td>\n",
       "      <td>크래미오이보트</td>\n",
       "      <td>loveshine707</td>\n",
       "      <td>쿡따라</td>\n",
       "      <td>69</td>\n",
       "      <td>0</td>\n",
       "      <td>4</td>\n",
       "      <td>NaN</td>\n",
       "      <td>NaN</td>\n",
       "      <td>채소류</td>\n",
       "      <td>퓨전</td>\n",
       "      <td>살찔 걱정 없는 크래미 오이보트인데 불 사용없이 간단하게 만들어 먹는 오이요리입니다</td>\n",
       "      <td>[재료] 오이\u00071\u0007개\u0007| 크래미\u00075\u0007개\u0007(小)| 단감\u00071/2\u0007개\u0007| 검정깨\u0007\u0007약간\u0007...</td>\n",
       "      <td>3인분</td>\n",
       "      <td>초급</td>\n",
       "      <td>15분이내</td>\n",
       "      <td>20241112203645</td>\n",
       "      <td>https://recipe1.ezmember.co.kr/cache/recipe/20...</td>\n",
       "      <td>크래미오이보트</td>\n",
       "    </tr>\n",
       "  </tbody>\n",
       "</table>\n",
       "</div>"
      ],
      "text/plain": [
       "      RCP_SNO                               RCP_TTL    CKG_NM       RGTR_ID  \\\n",
       "1684  7021885           빵없이 통으로 구워서 피자만들기  애호박보트피자    애호박보트피자       gdubu33   \n",
       "3657  7033435  편스토랑 진서연 다이어트 레시피 참치마요 에그마요 오이보트 만들기  에그마요오이보트      77721145   \n",
       "5440  7038420  채식메뉴 홈브런치 다이어트레시피 핑거푸드 오이요리 크래미 오이보트   크래미오이보트  loveshine707   \n",
       "\n",
       "     RGTR_NM  INQ_CNT  RCMM_CNT  SRAP_CNT CKG_MTH_ACTO_NM CKG_STA_ACTO_NM  \\\n",
       "1684  만개의레시피     1380         0        70              굽기              일상   \n",
       "3657     써지니      334         0         8              기타              일상   \n",
       "5440     쿡따라       69         0         4             NaN             NaN   \n",
       "\n",
       "     CKG_MTRL_ACTO_NM CKG_KND_ACTO_NM  \\\n",
       "1684              채소류              양식   \n",
       "3657              채소류           밥/죽/떡   \n",
       "5440              채소류              퓨전   \n",
       "\n",
       "                                               CKG_IPDC  \\\n",
       "1684                                                NaN   \n",
       "3657  편스토랑 방송에 나오시는 진서연 다이어트 메뉴 음식으로 아삭아삭한 식감의 오이로 편...   \n",
       "5440     살찔 걱정 없는 크래미 오이보트인데 불 사용없이 간단하게 만들어 먹는 오이요리입니다   \n",
       "\n",
       "                                            CKG_MTRL_CN CKG_INBUN_NM  \\\n",
       "1684  [재료] 애호박\u00071\u0007개\u0007| 양파\u00071/2\u0007개\u0007| 미니파프리카\u00072\u0007개\u0007| 양송이버섯\u00074...          2인분   \n",
       "3657  [재료] 오이\u00071\u0007개\u0007| 쪽파\u0007\u0007적당히\u0007(토핑용)| 현미밥\u00072~3\u0007숟가락\u0007(또는 쌀...          1인분   \n",
       "5440  [재료] 오이\u00071\u0007개\u0007| 크래미\u00075\u0007개\u0007(小)| 단감\u00071/2\u0007개\u0007| 검정깨\u0007\u0007약간\u0007...          3인분   \n",
       "\n",
       "     CKG_DODF_NM CKG_TIME_NM    FIRST_REG_DT  \\\n",
       "1684         아무나       30분이내  20240311142937   \n",
       "3657         아무나         NaN  20240829053438   \n",
       "5440          초급       15분이내  20241112203645   \n",
       "\n",
       "                                            RCP_IMG_URL      대표명칭  \n",
       "1684  https://recipe1.ezmember.co.kr/cache/recipe/20...   애호박보트피자  \n",
       "3657  https://recipe1.ezmember.co.kr/cache/recipe/20...  에그마요오이보트  \n",
       "5440  https://recipe1.ezmember.co.kr/cache/recipe/20...   크래미오이보트  "
      ]
     },
     "execution_count": 45,
     "metadata": {},
     "output_type": "execute_result"
    }
   ],
   "source": [
    "# food_vegitype[food_vegitype['CKG_NM'].str.contains('보트', na=False)]\n",
    "food_6000_df[food_6000_df['CKG_NM'].str.contains('보트', na=False)]"
   ]
  },
  {
   "cell_type": "code",
   "execution_count": null,
   "metadata": {},
   "outputs": [],
   "source": []
  }
 ],
 "metadata": {
  "colab": {
   "authorship_tag": "ABX9TyOt+79sQxPiTvM4MjsWqWRb",
   "mount_file_id": "1kV20nXtCxduISxuCMaZkpHdWuX3gbQ4m",
   "provenance": []
  },
  "kernelspec": {
   "display_name": "human-dl-env2",
   "language": "python",
   "name": "python3"
  },
  "language_info": {
   "codemirror_mode": {
    "name": "ipython",
    "version": 3
   },
   "file_extension": ".py",
   "mimetype": "text/x-python",
   "name": "python",
   "nbconvert_exporter": "python",
   "pygments_lexer": "ipython3",
   "version": "3.9.21"
  }
 },
 "nbformat": 4,
 "nbformat_minor": 0
}
