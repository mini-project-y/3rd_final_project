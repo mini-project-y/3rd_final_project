{
 "cells": [
  {
   "cell_type": "code",
   "execution_count": 1,
   "metadata": {},
   "outputs": [
    {
     "name": "stdout",
     "output_type": "stream",
     "text": [
      "WARNING:tensorflow:From c:\\Users\\human\\.conda\\envs\\human-dl-env2\\lib\\site-packages\\keras\\src\\losses.py:2976: The name tf.losses.sparse_softmax_cross_entropy is deprecated. Please use tf.compat.v1.losses.sparse_softmax_cross_entropy instead.\n",
      "\n"
     ]
    }
   ],
   "source": [
    "import numpy as np\n",
    "import pandas as pd\n",
    "import matplotlib.pyplot as plt\n",
    "\n",
    "import tensorflow as tf\n",
    "from tensorflow import keras as tf_keras\n",
    "\n",
    "import os\n",
    "import shutil\n",
    "from sklearn.model_selection import train_test_split\n",
    "from tqdm import tqdm\n",
    "import random\n",
    "\n",
    "from tensorflow.keras.applications import ResNet101\n",
    "from tensorflow.keras.applications import ResNet50\n",
    "from tensorflow.keras.applications import EfficientNetB0\n",
    "\n",
    "from tensorflow.keras.applications.resnet50 import preprocess_input\n",
    "from tensorflow.keras.preprocessing.image import ImageDataGenerator\n",
    "from tensorflow.keras import layers, models, optimizers, callbacks\n",
    "from tensorflow.keras.models import Model\n",
    "from tensorflow.keras.layers import GlobalAveragePooling2D, GlobalMaxPooling2D, Dense, Dropout\n",
    "from tensorflow.keras.callbacks import EarlyStopping, ModelCheckpoint, ReduceLROnPlateau\n"
   ]
  },
  {
   "cell_type": "markdown",
   "metadata": {},
   "source": [
    "### 훈련 150, val 50, test50"
   ]
  },
  {
   "cell_type": "code",
   "execution_count": 5,
   "metadata": {},
   "outputs": [
    {
     "name": "stderr",
     "output_type": "stream",
     "text": [
      "Processing categories:   0%|          | 0/27 [00:00<?, ?it/s]"
     ]
    },
    {
     "name": "stdout",
     "output_type": "stream",
     "text": [
      "Processed 구이/갈비구이: Train=150, Val=50, Test=50\n",
      "Processed 구이/갈치구이: Train=150, Val=50, Test=50\n",
      "Processed 구이/고등어구이: Train=150, Val=50, Test=50\n",
      "Processed 구이/곱창구이: Train=150, Val=50, Test=50\n",
      "Processed 구이/닭갈비: Train=150, Val=50, Test=50\n",
      "Processed 구이/더덕구이: Train=150, Val=50, Test=50\n",
      "Processed 구이/떡갈비: Train=150, Val=50, Test=50\n",
      "Processed 구이/불고기: Train=150, Val=50, Test=50\n",
      "Processed 구이/삼겹살: Train=150, Val=50, Test=50\n",
      "Processed 구이/장어구이: Train=150, Val=50, Test=50\n",
      "Processed 구이/조개구이: Train=150, Val=50, Test=50\n",
      "Processed 구이/조기구이: Train=150, Val=50, Test=50\n",
      "Processed 구이/황태구이: Train=150, Val=50, Test=50\n"
     ]
    },
    {
     "name": "stderr",
     "output_type": "stream",
     "text": [
      "Processing categories:   4%|▎         | 1/27 [01:43<44:54, 103.63s/it]"
     ]
    },
    {
     "name": "stdout",
     "output_type": "stream",
     "text": [
      "Processed 구이/훈제오리: Train=150, Val=50, Test=50\n",
      "Processed 국/계란국: Train=150, Val=50, Test=50\n",
      "Processed 국/떡국_만두국: Train=150, Val=50, Test=50\n",
      "Processed 국/무국: Train=150, Val=50, Test=50\n",
      "Processed 국/미역국: Train=150, Val=50, Test=50\n",
      "Processed 국/북엇국: Train=150, Val=50, Test=50\n",
      "Processed 국/시래기국: Train=150, Val=50, Test=50\n",
      "Processed 국/육개장: Train=150, Val=50, Test=50\n"
     ]
    },
    {
     "name": "stderr",
     "output_type": "stream",
     "text": [
      "Processing categories:   7%|▋         | 2/27 [03:29<43:45, 105.02s/it]"
     ]
    },
    {
     "name": "stdout",
     "output_type": "stream",
     "text": [
      "Processed 국/콩나물국: Train=150, Val=50, Test=50\n",
      "Processed 기타/과메기: Train=150, Val=50, Test=50\n",
      "Processed 기타/양념치킨: Train=150, Val=50, Test=50\n",
      "Processed 기타/젓갈: Train=150, Val=50, Test=50\n",
      "Processed 기타/콩자반: Train=150, Val=50, Test=50\n",
      "Processed 기타/편육: Train=150, Val=50, Test=50\n",
      "Processed 기타/피자: Train=150, Val=50, Test=50\n"
     ]
    },
    {
     "name": "stderr",
     "output_type": "stream",
     "text": [
      "Processing categories:  11%|█         | 3/27 [05:07<40:45, 101.88s/it]"
     ]
    },
    {
     "name": "stdout",
     "output_type": "stream",
     "text": [
      "Processed 기타/후라이드치킨: Train=150, Val=50, Test=50\n",
      "Processed 김치/갓김치: Train=150, Val=50, Test=50\n",
      "Processed 김치/깍두기: Train=150, Val=50, Test=50\n",
      "Processed 김치/나박김치: Train=150, Val=50, Test=50\n",
      "Processed 김치/무생채: Train=150, Val=50, Test=50\n",
      "Processed 김치/배추김치: Train=150, Val=50, Test=50\n",
      "Processed 김치/백김치: Train=150, Val=50, Test=50\n",
      "Processed 김치/부추김치: Train=150, Val=50, Test=50\n",
      "Processed 김치/열무김치: Train=150, Val=50, Test=50\n",
      "Processed 김치/오이소박이: Train=150, Val=50, Test=50\n",
      "Processed 김치/총각김치: Train=150, Val=50, Test=50\n"
     ]
    },
    {
     "name": "stderr",
     "output_type": "stream",
     "text": [
      "Processing categories:  15%|█▍        | 4/27 [07:03<41:10, 107.39s/it]"
     ]
    },
    {
     "name": "stdout",
     "output_type": "stream",
     "text": [
      "Processed 김치/파김치: Train=150, Val=50, Test=50\n",
      "Processed 나물/가지볶음: Train=150, Val=50, Test=50\n",
      "Processed 나물/고사리나물: Train=150, Val=50, Test=50\n",
      "Processed 나물/미역줄기볶음: Train=150, Val=50, Test=50\n",
      "Processed 나물/숙주나물: Train=150, Val=50, Test=50\n",
      "Processed 나물/시금치나물: Train=150, Val=50, Test=50\n"
     ]
    },
    {
     "name": "stderr",
     "output_type": "stream",
     "text": [
      "Processing categories:  19%|█▊        | 5/27 [07:56<32:11, 87.79s/it] "
     ]
    },
    {
     "name": "stdout",
     "output_type": "stream",
     "text": [
      "Processed 나물/애호박볶음: Train=150, Val=50, Test=50\n",
      "Processed 떡/경단: Train=150, Val=50, Test=50\n",
      "Processed 떡/꿀떡: Train=150, Val=50, Test=50\n"
     ]
    },
    {
     "name": "stderr",
     "output_type": "stream",
     "text": [
      "Processing categories:  22%|██▏       | 6/27 [08:21<23:16, 66.50s/it]"
     ]
    },
    {
     "name": "stdout",
     "output_type": "stream",
     "text": [
      "Processed 떡/송편: Train=150, Val=50, Test=50\n"
     ]
    },
    {
     "name": "stderr",
     "output_type": "stream",
     "text": [
      "Processing categories:  26%|██▌       | 7/27 [08:29<15:43, 47.17s/it]"
     ]
    },
    {
     "name": "stdout",
     "output_type": "stream",
     "text": [
      "Processed 만두/만두: Train=150, Val=50, Test=50\n",
      "Processed 면/라면: Train=150, Val=50, Test=50\n",
      "Processed 면/막국수: Train=150, Val=50, Test=50\n",
      "Processed 면/물냉면: Train=150, Val=50, Test=50\n",
      "Processed 면/비빔냉면: Train=150, Val=50, Test=50\n",
      "Processed 면/수제비: Train=150, Val=50, Test=50\n",
      "Processed 면/열무국수: Train=150, Val=50, Test=50\n",
      "Processed 면/잔치국수: Train=150, Val=50, Test=50\n",
      "Processed 면/짜장면: Train=150, Val=50, Test=50\n",
      "Processed 면/짬뽕: Train=150, Val=50, Test=50\n",
      "Processed 면/쫄면: Train=150, Val=50, Test=50\n",
      "Processed 면/칼국수: Train=150, Val=50, Test=50\n"
     ]
    },
    {
     "name": "stderr",
     "output_type": "stream",
     "text": [
      "Processing categories:  30%|██▉       | 8/27 [10:16<20:58, 66.24s/it]"
     ]
    },
    {
     "name": "stdout",
     "output_type": "stream",
     "text": [
      "Processed 면/콩국수: Train=150, Val=50, Test=50\n",
      "Processed 무침/꽈리고추무침: Train=150, Val=50, Test=50\n",
      "Processed 무침/도라지무침: Train=150, Val=50, Test=50\n",
      "Processed 무침/도토리묵: Train=150, Val=50, Test=50\n",
      "Processed 무침/잡채: Train=150, Val=50, Test=50\n",
      "Processed 무침/콩나물무침: Train=150, Val=50, Test=50\n",
      "Processed 무침/홍어무침: Train=150, Val=50, Test=50\n"
     ]
    },
    {
     "name": "stderr",
     "output_type": "stream",
     "text": [
      "Processing categories:  33%|███▎      | 9/27 [11:14<19:05, 63.66s/it]"
     ]
    },
    {
     "name": "stdout",
     "output_type": "stream",
     "text": [
      "Processed 무침/회무침: Train=150, Val=50, Test=50\n",
      "Processed 밥/김밥: Train=150, Val=50, Test=50\n",
      "Processed 밥/김치볶음밥: Train=150, Val=50, Test=50\n",
      "Processed 밥/누룽지: Train=150, Val=50, Test=50\n",
      "Processed 밥/비빔밥: Train=150, Val=50, Test=50\n",
      "Processed 밥/새우볶음밥: Train=150, Val=50, Test=50\n",
      "Processed 밥/알밥: Train=150, Val=50, Test=50\n",
      "Processed 밥/유부초밥: Train=150, Val=50, Test=50\n",
      "Processed 밥/잡곡밥: Train=150, Val=50, Test=50\n"
     ]
    },
    {
     "name": "stderr",
     "output_type": "stream",
     "text": [
      "Processing categories:  37%|███▋      | 10/27 [12:26<18:48, 66.35s/it]"
     ]
    },
    {
     "name": "stdout",
     "output_type": "stream",
     "text": [
      "Processed 밥/주먹밥: Train=150, Val=50, Test=50\n",
      "Processed 볶음/감자채볶음: Train=150, Val=50, Test=50\n",
      "Processed 볶음/건새우볶음: Train=150, Val=50, Test=50\n",
      "Processed 볶음/고추장진미채볶음: Train=150, Val=50, Test=50\n",
      "Processed 볶음/두부김치: Train=150, Val=50, Test=50\n",
      "Processed 볶음/떡볶이: Train=150, Val=50, Test=50\n",
      "Processed 볶음/라볶이: Train=150, Val=50, Test=50\n",
      "Processed 볶음/멸치볶음: Train=150, Val=50, Test=50\n",
      "Processed 볶음/소세지볶음: Train=150, Val=50, Test=50\n",
      "Processed 볶음/어묵볶음: Train=150, Val=50, Test=50\n",
      "Processed 볶음/오징어채볶음: Train=150, Val=50, Test=50\n",
      "Processed 볶음/제육볶음: Train=150, Val=50, Test=50\n"
     ]
    },
    {
     "name": "stderr",
     "output_type": "stream",
     "text": [
      "Processing categories:  41%|████      | 11/27 [13:31<17:31, 65.74s/it]"
     ]
    },
    {
     "name": "stdout",
     "output_type": "stream",
     "text": [
      "Processed 볶음/주꾸미볶음: Train=150, Val=50, Test=50\n"
     ]
    },
    {
     "name": "stderr",
     "output_type": "stream",
     "text": [
      "Processing categories:  44%|████▍     | 12/27 [13:35<11:46, 47.10s/it]"
     ]
    },
    {
     "name": "stdout",
     "output_type": "stream",
     "text": [
      "Processed 쌈/보쌈: Train=150, Val=50, Test=50\n",
      "Processed 음청류/수정과: Train=150, Val=50, Test=50\n"
     ]
    },
    {
     "name": "stderr",
     "output_type": "stream",
     "text": [
      "Processing categories:  48%|████▊     | 13/27 [13:48<08:34, 36.74s/it]"
     ]
    },
    {
     "name": "stdout",
     "output_type": "stream",
     "text": [
      "Processed 음청류/식혜: Train=150, Val=50, Test=50\n",
      "Processed 장/간장게장: Train=150, Val=50, Test=50\n"
     ]
    },
    {
     "name": "stderr",
     "output_type": "stream",
     "text": [
      "Processing categories:  52%|█████▏    | 14/27 [14:01<06:26, 29.75s/it]"
     ]
    },
    {
     "name": "stdout",
     "output_type": "stream",
     "text": [
      "Processed 장/양념게장: Train=150, Val=50, Test=50\n"
     ]
    },
    {
     "name": "stderr",
     "output_type": "stream",
     "text": [
      "Processing categories:  56%|█████▌    | 15/27 [14:08<04:32, 22.72s/it]"
     ]
    },
    {
     "name": "stdout",
     "output_type": "stream",
     "text": [
      "Processed 장아찌/깻잎장아찌: Train=150, Val=50, Test=50\n"
     ]
    },
    {
     "name": "stderr",
     "output_type": "stream",
     "text": [
      "Processing categories:  59%|█████▉    | 16/27 [14:14<03:15, 17.79s/it]"
     ]
    },
    {
     "name": "stdout",
     "output_type": "stream",
     "text": [
      "Processed 적/떡꼬치: Train=150, Val=50, Test=50\n",
      "Processed 전/감자전: Train=150, Val=50, Test=50\n",
      "Processed 전/계란말이: Train=150, Val=50, Test=50\n",
      "Processed 전/계란후라이: Train=150, Val=50, Test=50\n",
      "Processed 전/김치전: Train=150, Val=50, Test=50\n",
      "Processed 전/동그랑땡: Train=150, Val=50, Test=50\n",
      "Processed 전/생선전: Train=150, Val=50, Test=50\n",
      "Processed 전/파전: Train=150, Val=50, Test=50\n"
     ]
    },
    {
     "name": "stderr",
     "output_type": "stream",
     "text": [
      "Processing categories:  63%|██████▎   | 17/27 [15:12<04:57, 29.74s/it]"
     ]
    },
    {
     "name": "stdout",
     "output_type": "stream",
     "text": [
      "Processed 전/호박전: Train=150, Val=50, Test=50\n"
     ]
    },
    {
     "name": "stderr",
     "output_type": "stream",
     "text": [
      "Processing categories:  67%|██████▋   | 18/27 [15:18<03:24, 22.72s/it]"
     ]
    },
    {
     "name": "stdout",
     "output_type": "stream",
     "text": [
      "Processed 전골/곱창전골: Train=150, Val=50, Test=50\n",
      "Processed 조림/갈치조림: Train=150, Val=50, Test=50\n",
      "Processed 조림/감자조림: Train=150, Val=50, Test=50\n",
      "Processed 조림/고등어조림: Train=150, Val=50, Test=50\n",
      "Processed 조림/꽁치조림: Train=150, Val=50, Test=50\n",
      "Processed 조림/두부조림: Train=150, Val=50, Test=50\n",
      "Processed 조림/땅콩조림: Train=150, Val=50, Test=50\n",
      "Processed 조림/메추리알장조림: Train=150, Val=50, Test=50\n",
      "Processed 조림/연근조림: Train=150, Val=50, Test=50\n",
      "Processed 조림/우엉조림: Train=150, Val=50, Test=50\n",
      "Processed 조림/장조림: Train=150, Val=50, Test=50\n"
     ]
    },
    {
     "name": "stderr",
     "output_type": "stream",
     "text": [
      "Processing categories:  70%|███████   | 19/27 [16:40<05:23, 40.49s/it]"
     ]
    },
    {
     "name": "stdout",
     "output_type": "stream",
     "text": [
      "Processed 조림/코다리조림: Train=150, Val=50, Test=50\n",
      "Processed 죽/전복죽: Train=150, Val=50, Test=50\n"
     ]
    },
    {
     "name": "stderr",
     "output_type": "stream",
     "text": [
      "Processing categories:  74%|███████▍  | 20/27 [16:55<03:49, 32.75s/it]"
     ]
    },
    {
     "name": "stdout",
     "output_type": "stream",
     "text": [
      "Processed 죽/호박죽: Train=150, Val=50, Test=50\n",
      "Processed 찌개/김치찌개: Train=150, Val=50, Test=50\n",
      "Processed 찌개/닭계장: Train=150, Val=50, Test=50\n",
      "Processed 찌개/동태찌개: Train=150, Val=50, Test=50\n",
      "Processed 찌개/된장찌개: Train=150, Val=50, Test=50\n"
     ]
    },
    {
     "name": "stderr",
     "output_type": "stream",
     "text": [
      "Processing categories:  78%|███████▊  | 21/27 [17:33<03:26, 34.47s/it]"
     ]
    },
    {
     "name": "stdout",
     "output_type": "stream",
     "text": [
      "Processed 찌개/순두부찌개: Train=150, Val=50, Test=50\n",
      "Processed 찜/갈비찜: Train=150, Val=50, Test=50\n",
      "Processed 찜/계란찜: Train=150, Val=50, Test=50\n",
      "Processed 찜/김치찜: Train=150, Val=50, Test=50\n",
      "Processed 찜/꼬막찜: Train=150, Val=50, Test=50\n",
      "Processed 찜/닭볶음탕: Train=150, Val=50, Test=50\n",
      "Processed 찜/수육: Train=150, Val=50, Test=50\n",
      "Processed 찜/순대: Train=150, Val=50, Test=50\n",
      "Processed 찜/족발: Train=150, Val=50, Test=50\n",
      "Processed 찜/찜닭: Train=150, Val=50, Test=50\n"
     ]
    },
    {
     "name": "stderr",
     "output_type": "stream",
     "text": [
      "Processing categories:  81%|████████▏ | 22/27 [18:59<04:09, 49.97s/it]"
     ]
    },
    {
     "name": "stdout",
     "output_type": "stream",
     "text": [
      "Processed 찜/해물찜: Train=150, Val=50, Test=50\n",
      "Processed 탕/갈비탕: Train=150, Val=50, Test=50\n",
      "Processed 탕/감자탕: Train=150, Val=50, Test=50\n",
      "Processed 탕/곰탕_설렁탕: Train=150, Val=50, Test=50\n",
      "Processed 탕/매운탕: Train=150, Val=50, Test=50\n",
      "Processed 탕/삼계탕: Train=150, Val=50, Test=50\n"
     ]
    },
    {
     "name": "stderr",
     "output_type": "stream",
     "text": [
      "Processing categories:  85%|████████▌ | 23/27 [19:49<03:19, 49.90s/it]"
     ]
    },
    {
     "name": "stdout",
     "output_type": "stream",
     "text": [
      "Processed 탕/추어탕: Train=150, Val=50, Test=50\n",
      "Processed 튀김/고추튀김: Train=150, Val=50, Test=50\n",
      "Processed 튀김/새우튀김: Train=150, Val=50, Test=50\n"
     ]
    },
    {
     "name": "stderr",
     "output_type": "stream",
     "text": [
      "Processing categories:  89%|████████▉ | 24/27 [20:13<02:06, 42.16s/it]"
     ]
    },
    {
     "name": "stdout",
     "output_type": "stream",
     "text": [
      "Processed 튀김/오징어튀김: Train=150, Val=50, Test=50\n",
      "Processed 한과/약과: Train=150, Val=50, Test=50\n",
      "Processed 한과/약식: Train=150, Val=50, Test=50\n"
     ]
    },
    {
     "name": "stderr",
     "output_type": "stream",
     "text": [
      "Processing categories:  93%|█████████▎| 25/27 [20:40<01:14, 37.46s/it]"
     ]
    },
    {
     "name": "stdout",
     "output_type": "stream",
     "text": [
      "Processed 한과/한과: Train=150, Val=50, Test=50\n",
      "Processed 해물/멍게: Train=150, Val=50, Test=50\n"
     ]
    },
    {
     "name": "stderr",
     "output_type": "stream",
     "text": [
      "Processing categories:  96%|█████████▋| 26/27 [20:55<00:30, 30.81s/it]"
     ]
    },
    {
     "name": "stdout",
     "output_type": "stream",
     "text": [
      "Processed 해물/산낙지: Train=150, Val=50, Test=50\n",
      "Processed 회/물회: Train=150, Val=50, Test=50\n"
     ]
    },
    {
     "name": "stderr",
     "output_type": "stream",
     "text": [
      "Processing categories: 100%|██████████| 27/27 [21:11<00:00, 47.09s/it]"
     ]
    },
    {
     "name": "stdout",
     "output_type": "stream",
     "text": [
      "Processed 회/육회: Train=150, Val=50, Test=50\n",
      "데이터 분할 완료!\n"
     ]
    },
    {
     "name": "stderr",
     "output_type": "stream",
     "text": [
      "\n"
     ]
    }
   ],
   "source": [
    "# 데이터 경로 설정\n",
    "base_dir = r\"D:\\Work\\3rd_pj\\K_Food_images\"  # 전체 데이터가 있는 경로\n",
    "output_dir = r\"D:\\Work\\3rd_pj\\K_Food_images_split\"  # 분할 데이터를 저장할 경로\n",
    "os.makedirs(output_dir, exist_ok=True)\n",
    "\n",
    "# 고정된 데이터 개수\n",
    "train_count = 150\n",
    "val_count = 50\n",
    "test_count = 50\n",
    "\n",
    "# 이미지 파일 확장자 목록\n",
    "image_extensions = {\".jpg\", \".jpeg\", \".png\"}\n",
    "\n",
    "# 각 음식 대분류 폴더를 탐색\n",
    "for category in tqdm(os.listdir(base_dir), desc=\"Processing categories\"):  # 대분류 폴더 (e.g., 구이, 찜 등)\n",
    "    category_path = os.path.join(base_dir, category)\n",
    "    if not os.path.isdir(category_path):\n",
    "        continue\n",
    "    \n",
    "    # 음식 이름 폴더를 탐색\n",
    "    for food in os.listdir(category_path):\n",
    "        food_path = os.path.join(category_path, food)\n",
    "        if not os.path.isdir(food_path):\n",
    "            continue\n",
    "        \n",
    "        try:\n",
    "            # 이미지 파일 리스트 필터링\n",
    "            images = [f for f in os.listdir(food_path) \n",
    "                      if os.path.isfile(os.path.join(food_path, f)) and os.path.splitext(f)[1].lower() in image_extensions]\n",
    "            \n",
    "            # 이미지 개수 확인\n",
    "            if len(images) < train_count + val_count + test_count:\n",
    "                print(f\"Skipping {category}/{food}: Not enough images.\")\n",
    "                continue\n",
    "\n",
    "            # 고정된 개수로 훈련 데이터 분할 (150장)\n",
    "            train_images, temp_images = train_test_split(images, train_size=train_count, random_state=42)\n",
    "\n",
    "            # 나머지 이미지에서 검증 세트(50장)와 테스트 세트(50장) 분할\n",
    "            val_images, test_images = train_test_split(temp_images, test_size=test_count, train_size=val_count, random_state=42)\n",
    "\n",
    "            # 출력 경로 생성 및 이미지 복사\n",
    "            for split, split_images in zip([\"train\", \"val\", \"test\"], [train_images, val_images, test_images]):\n",
    "                split_dir = os.path.join(output_dir, split, category, food)\n",
    "                os.makedirs(split_dir, exist_ok=True)\n",
    "                \n",
    "                for img in split_images:\n",
    "                    src = os.path.join(food_path, img)\n",
    "                    dst = os.path.join(split_dir, img)\n",
    "                    shutil.copy(src, dst)\n",
    "\n",
    "            print(f\"Processed {category}/{food}: Train={len(train_images)}, Val={len(val_images)}, Test={len(test_images)}\")\n",
    "\n",
    "        except Exception as e:\n",
    "            print(f\"Error processing {category}/{food}: {e}\")\n",
    "\n",
    "print(\"데이터 분할 완료!\")\n"
   ]
  },
  {
   "cell_type": "code",
   "execution_count": 58,
   "metadata": {},
   "outputs": [
    {
     "name": "stdout",
     "output_type": "stream",
     "text": [
      "Found 22500 images belonging to 150 classes.\n",
      "Found 7500 images belonging to 150 classes.\n",
      "Found 7500 images belonging to 150 classes.\n"
     ]
    }
   ],
   "source": [
    "# 데이터 경로 설정\n",
    "train_dir = r\"D:\\Work\\3rd_pj\\K_Food_images_split\\train\"\n",
    "val_dir = r\"D:\\Work\\3rd_pj\\K_Food_images_split\\val\"\n",
    "test_dir = r\"D:\\Work\\3rd_pj\\K_Food_images_split\\test\"\n",
    "\n",
    "# 데이터 전처리 (이미지 증강 없이)\n",
    "train_datagen = ImageDataGenerator(preprocessing_function=preprocess_input)\n",
    "val_test_datagen = ImageDataGenerator(preprocessing_function=preprocess_input)\n",
    "\n",
    "train_generator = train_datagen.flow_from_directory(\n",
    "    train_dir,\n",
    "    target_size=(224, 224),\n",
    "    batch_size=32,\n",
    "    class_mode='categorical'\n",
    ")\n",
    "\n",
    "val_generator = val_test_datagen.flow_from_directory(\n",
    "    val_dir,\n",
    "    target_size=(224, 224),\n",
    "    batch_size=32,\n",
    "    class_mode='categorical'\n",
    ")\n",
    "\n",
    "test_generator = val_test_datagen.flow_from_directory(\n",
    "    test_dir,\n",
    "    target_size=(224, 224),\n",
    "    batch_size=32,\n",
    "    class_mode='categorical',\n",
    "    shuffle=False\n",
    ")"
   ]
  },
  {
   "cell_type": "code",
   "execution_count": 59,
   "metadata": {},
   "outputs": [
    {
     "name": "stdout",
     "output_type": "stream",
     "text": [
      "훈련 데이터 샘플 수: 22500\n",
      "검증 데이터 샘플 수: 7500\n",
      "테스트 데이터 샘플 수: 7500\n",
      "훈련 데이터 클래스 수: 150\n",
      "검증 데이터 클래스 수: 150\n",
      "테스트 데이터 클래스 수: 150\n"
     ]
    }
   ],
   "source": [
    "print(\"훈련 데이터 샘플 수:\", train_generator.samples)\n",
    "print(\"검증 데이터 샘플 수:\", val_generator.samples)\n",
    "print(\"테스트 데이터 샘플 수:\", test_generator.samples)\n",
    "\n",
    "print(\"훈련 데이터 클래스 수:\", train_generator.num_classes)\n",
    "print(\"검증 데이터 클래스 수:\", val_generator.num_classes)\n",
    "print(\"테스트 데이터 클래스 수:\", test_generator.num_classes)"
   ]
  },
  {
   "cell_type": "code",
   "execution_count": 19,
   "metadata": {},
   "outputs": [
    {
     "name": "stdout",
     "output_type": "stream",
     "text": [
      "Model: \"model_1\"\n",
      "_________________________________________________________________\n",
      " Layer (type)                Output Shape              Param #   \n",
      "=================================================================\n",
      " input_4 (InputLayer)        [(None, 224, 224, 3)]     0         \n",
      "                                                                 \n",
      " resnet50 (Functional)       (None, 7, 7, 2048)        23587712  \n",
      "                                                                 \n",
      " global_max_pooling2d_1 (Gl  (None, 2048)              0         \n",
      " obalMaxPooling2D)                                               \n",
      "                                                                 \n",
      " dense_5 (Dense)             (None, 2048)              4196352   \n",
      "                                                                 \n",
      " dropout_4 (Dropout)         (None, 2048)              0         \n",
      "                                                                 \n",
      " dense_6 (Dense)             (None, 1024)              2098176   \n",
      "                                                                 \n",
      " dropout_5 (Dropout)         (None, 1024)              0         \n",
      "                                                                 \n",
      " dense_7 (Dense)             (None, 512)               524800    \n",
      "                                                                 \n",
      " dropout_6 (Dropout)         (None, 512)               0         \n",
      "                                                                 \n",
      " dense_8 (Dense)             (None, 256)               131328    \n",
      "                                                                 \n",
      " dropout_7 (Dropout)         (None, 256)               0         \n",
      "                                                                 \n",
      " dense_9 (Dense)             (None, 150)               38550     \n",
      "                                                                 \n",
      "=================================================================\n",
      "Total params: 30576918 (116.64 MB)\n",
      "Trainable params: 6989206 (26.66 MB)\n",
      "Non-trainable params: 23587712 (89.98 MB)\n",
      "_________________________________________________________________\n"
     ]
    }
   ],
   "source": [
    "# ResNet50 바디 (특징 추출기)\n",
    "base_model = ResNet50(weights='imagenet', include_top=False, input_shape=(224, 224, 3))\n",
    "base_model.trainable = False  # 바디 고정 (필요시 True로 설정하여 미세 조정 가능)\n",
    "\n",
    "# Functional API로 모델 구성\n",
    "inputs = tf.keras.Input(shape=(224, 224, 3))  # 입력 레이어\n",
    "x = base_model(inputs, training=False)        # ResNet50 특징 추출기 (training=False로 고정)\n",
    "x = layers.GlobalMaxPooling2D()(x)            # 글로벌 맥스 풀링\n",
    "x = layers.Dense(2048, activation='relu')(x)\n",
    "x = layers.Dropout(0.5)(x)\n",
    "x = layers.Dense(1024, activation='relu')(x)\n",
    "x = layers.Dropout(0.5)(x)\n",
    "x = layers.Dense(512, activation='relu')(x)\n",
    "x = layers.Dropout(0.5)(x)\n",
    "x = layers.Dense(256, activation='relu')(x)\n",
    "x = layers.Dropout(0.5)(x)\n",
    "outputs = layers.Dense(train_generator.num_classes, activation='softmax')(x)  # 출력층\n",
    "\n",
    "model = models.Model(inputs=inputs, outputs=outputs)  # 모델 정의\n",
    "\n",
    "# 모델 요약 출력\n",
    "model.summary()"
   ]
  },
  {
   "cell_type": "code",
   "execution_count": 20,
   "metadata": {},
   "outputs": [],
   "source": [
    "# 모델 컴파일\n",
    "model.compile(optimizer=optimizers.Adam(learning_rate=0.001),\n",
    "              loss='categorical_crossentropy',\n",
    "              metrics=['accuracy'])"
   ]
  },
  {
   "cell_type": "code",
   "execution_count": 21,
   "metadata": {},
   "outputs": [],
   "source": [
    "# EarlyStopping 콜백 설정\n",
    "early_stopping = callbacks.EarlyStopping(\n",
    "    monitor='val_loss',  # 검증 손실을 모니터링\n",
    "    patience=10,          # 개선되지 않는 에포크를 5회 허용\n",
    "    restore_best_weights=True  # 가장 좋은 가중치를 복원\n",
    ")"
   ]
  },
  {
   "cell_type": "code",
   "execution_count": 23,
   "metadata": {},
   "outputs": [
    {
     "name": "stdout",
     "output_type": "stream",
     "text": [
      "Epoch 1/100\n",
      "259/704 [==========>...................] - ETA: 12:22 - loss: 5.1148 - accuracy: 0.0076"
     ]
    },
    {
     "name": "stderr",
     "output_type": "stream",
     "text": [
      "c:\\Users\\human\\.conda\\envs\\human-dl-env2\\lib\\site-packages\\PIL\\Image.py:1056: UserWarning: Palette images with Transparency expressed in bytes should be converted to RGBA images\n",
      "  warnings.warn(\n"
     ]
    },
    {
     "name": "stdout",
     "output_type": "stream",
     "text": [
      "704/704 [==============================] - 1574s 2s/step - loss: 5.0524 - accuracy: 0.0069 - val_loss: 5.0107 - val_accuracy: 0.0067\n",
      "Epoch 2/100\n",
      "704/704 [==============================] - 1360s 2s/step - loss: 5.0140 - accuracy: 0.0062 - val_loss: 5.0107 - val_accuracy: 0.0067\n",
      "Epoch 3/100\n",
      "704/704 [==============================] - 1356s 2s/step - loss: 5.0121 - accuracy: 0.0059 - val_loss: 5.0109 - val_accuracy: 0.0067\n",
      "Epoch 4/100\n",
      "704/704 [==============================] - 1358s 2s/step - loss: 5.0130 - accuracy: 0.0062 - val_loss: 5.0107 - val_accuracy: 0.0067\n",
      "Epoch 5/100\n",
      "704/704 [==============================] - 1359s 2s/step - loss: 5.0124 - accuracy: 0.0056 - val_loss: 5.0107 - val_accuracy: 0.0067\n",
      "Epoch 6/100\n",
      "704/704 [==============================] - 1358s 2s/step - loss: 5.0120 - accuracy: 0.0048 - val_loss: 5.0107 - val_accuracy: 0.0067\n",
      "Epoch 7/100\n",
      "704/704 [==============================] - 1361s 2s/step - loss: 5.0120 - accuracy: 0.0049 - val_loss: 5.0107 - val_accuracy: 0.0067\n",
      "Epoch 8/100\n",
      "704/704 [==============================] - 1360s 2s/step - loss: 5.0120 - accuracy: 0.0052 - val_loss: 5.0107 - val_accuracy: 0.0067\n",
      "Epoch 9/100\n",
      "704/704 [==============================] - 1404s 2s/step - loss: 5.0126 - accuracy: 0.0048 - val_loss: 5.0107 - val_accuracy: 0.0067\n",
      "Epoch 10/100\n",
      "704/704 [==============================] - 1354s 2s/step - loss: 5.0120 - accuracy: 0.0051 - val_loss: 5.0107 - val_accuracy: 0.0067\n",
      "Epoch 11/100\n",
      "704/704 [==============================] - 1357s 2s/step - loss: 5.0120 - accuracy: 0.0058 - val_loss: 5.0107 - val_accuracy: 0.0067\n",
      "Epoch 12/100\n",
      "704/704 [==============================] - 1354s 2s/step - loss: 5.0121 - accuracy: 0.0056 - val_loss: 5.0107 - val_accuracy: 0.0067\n",
      "Epoch 13/100\n",
      "704/704 [==============================] - 1367s 2s/step - loss: 5.0118 - accuracy: 0.0058 - val_loss: 5.0108 - val_accuracy: 0.0067\n",
      "Epoch 14/100\n",
      "704/704 [==============================] - 1407s 2s/step - loss: 5.0119 - accuracy: 0.0057 - val_loss: 5.0108 - val_accuracy: 0.0067\n",
      "Epoch 15/100\n",
      "704/704 [==============================] - 1356s 2s/step - loss: 5.0121 - accuracy: 0.0062 - val_loss: 5.0107 - val_accuracy: 0.0067\n",
      "Epoch 16/100\n",
      "704/704 [==============================] - 1357s 2s/step - loss: 5.0120 - accuracy: 0.0054 - val_loss: 5.0106 - val_accuracy: 0.0067\n",
      "Epoch 17/100\n",
      "704/704 [==============================] - 1355s 2s/step - loss: 5.0119 - accuracy: 0.0056 - val_loss: 5.0106 - val_accuracy: 0.0067\n",
      "Epoch 18/100\n",
      "704/704 [==============================] - 1363s 2s/step - loss: 5.0118 - accuracy: 0.0050 - val_loss: 5.0108 - val_accuracy: 0.0068\n",
      "Epoch 19/100\n",
      "704/704 [==============================] - 1355s 2s/step - loss: 5.0119 - accuracy: 0.0055 - val_loss: 5.0106 - val_accuracy: 0.0067\n",
      "Epoch 20/100\n",
      "704/704 [==============================] - 1354s 2s/step - loss: 5.0117 - accuracy: 0.0052 - val_loss: 5.0106 - val_accuracy: 0.0067\n",
      "Epoch 21/100\n",
      "704/704 [==============================] - 1354s 2s/step - loss: 5.0118 - accuracy: 0.0048 - val_loss: 5.0106 - val_accuracy: 0.0067\n",
      "Epoch 22/100\n",
      "704/704 [==============================] - 1355s 2s/step - loss: 5.0118 - accuracy: 0.0062 - val_loss: 5.0106 - val_accuracy: 0.0067\n",
      "Epoch 23/100\n",
      "704/704 [==============================] - 1357s 2s/step - loss: 5.0117 - accuracy: 0.0046 - val_loss: 5.0106 - val_accuracy: 0.0067\n",
      "Epoch 24/100\n",
      "704/704 [==============================] - 1356s 2s/step - loss: 5.0118 - accuracy: 0.0048 - val_loss: 5.0106 - val_accuracy: 0.0067\n",
      "Epoch 25/100\n",
      "704/704 [==============================] - 1355s 2s/step - loss: 5.0117 - accuracy: 0.0057 - val_loss: 5.0106 - val_accuracy: 0.0067\n",
      "Epoch 26/100\n",
      "704/704 [==============================] - 1356s 2s/step - loss: 5.0117 - accuracy: 0.0051 - val_loss: 5.0106 - val_accuracy: 0.0067\n",
      "Epoch 27/100\n",
      "704/704 [==============================] - 1355s 2s/step - loss: 5.0116 - accuracy: 0.0049 - val_loss: 5.0106 - val_accuracy: 0.0067\n",
      "Epoch 28/100\n",
      "704/704 [==============================] - 1359s 2s/step - loss: 5.0117 - accuracy: 0.0055 - val_loss: 5.0106 - val_accuracy: 0.0067\n",
      "Epoch 29/100\n",
      "704/704 [==============================] - 1357s 2s/step - loss: 5.0117 - accuracy: 0.0053 - val_loss: 5.0106 - val_accuracy: 0.0067\n",
      "Epoch 30/100\n",
      "704/704 [==============================] - 1355s 2s/step - loss: 5.0118 - accuracy: 0.0055 - val_loss: 5.0106 - val_accuracy: 0.0067\n"
     ]
    }
   ],
   "source": [
    "# 모델 학습\n",
    "history = model.fit(\n",
    "    train_generator,\n",
    "    epochs=100,  # 에포크를 50으로 설정\n",
    "    validation_data=val_generator,\n",
    "    callbacks=[early_stopping]  # EarlyStopping 추가\n",
    ")"
   ]
  },
  {
   "cell_type": "code",
   "execution_count": 24,
   "metadata": {},
   "outputs": [
    {
     "name": "stdout",
     "output_type": "stream",
     "text": [
      " 95/235 [===========>..................] - ETA: 3:26 - loss: 5.0101 - accuracy: 0.0000e+00"
     ]
    },
    {
     "name": "stderr",
     "output_type": "stream",
     "text": [
      "c:\\Users\\human\\.conda\\envs\\human-dl-env2\\lib\\site-packages\\PIL\\TiffImagePlugin.py:900: UserWarning: Truncated File Read\n",
      "  warnings.warn(str(msg))\n"
     ]
    },
    {
     "name": "stdout",
     "output_type": "stream",
     "text": [
      "217/235 [==========================>...] - ETA: 26s - loss: 5.0106 - accuracy: 0.0072"
     ]
    },
    {
     "name": "stderr",
     "output_type": "stream",
     "text": [
      "c:\\Users\\human\\.conda\\envs\\human-dl-env2\\lib\\site-packages\\PIL\\Image.py:1056: UserWarning: Palette images with Transparency expressed in bytes should be converted to RGBA images\n",
      "  warnings.warn(\n"
     ]
    },
    {
     "name": "stdout",
     "output_type": "stream",
     "text": [
      "235/235 [==============================] - 345s 1s/step - loss: 5.0106 - accuracy: 0.0067\n",
      "Test Accuracy: 0.006666666828095913\n"
     ]
    }
   ],
   "source": [
    "# 모델 평가\n",
    "test_loss, test_acc = model.evaluate(test_generator)\n",
    "print(\"Test Accuracy:\", test_acc)  # 소수점을 자르지 않고 출력"
   ]
  },
  {
   "cell_type": "code",
   "execution_count": 25,
   "metadata": {},
   "outputs": [
    {
     "data": {
      "image/png": "[encoded data removed]",
      "text/plain": [
       "<Figure size 640x480 with 1 Axes>"
      ]
     },
     "metadata": {},
     "output_type": "display_data"
    },
    {
     "data": {
      "image/png": "[encoded data removed]",
      "text/plain": [
       "<Figure size 640x480 with 1 Axes>"
      ]
     },
     "metadata": {},
     "output_type": "display_data"
    }
   ],
   "source": [
    "# 학습 및 검증 정확도 그래프\n",
    "plt.plot(history.epoch, history.history['accuracy'], label = \"train_accuracy\", c='blue')\n",
    "plt.plot(history.epoch, history.history['val_accuracy'], label = \"validation_accuracy\", c='skyblue', marker='o')\n",
    "plt.xlabel('Epochs')\n",
    "plt.ylabel('Accuracy')\n",
    "plt.legend()\n",
    "plt.show()\n",
    "\n",
    "# 학습 및 검증 손실 그래프\n",
    "plt.plot(history.epoch, history.history['loss'], label = \"train_loss\", c='salmon')\n",
    "plt.plot(history.epoch, history.history['val_loss'], label = \"validation_loss\", c='orange', marker='o')\n",
    "plt.xlabel('Epochs')\n",
    "plt.ylabel('Loss')\n",
    "plt.legend()\n",
    "plt.show()"
   ]
  },
  {
   "cell_type": "markdown",
   "metadata": {},
   "source": [
    "### EfficientNetB0"
   ]
  },
  {
   "cell_type": "code",
   "execution_count": 63,
   "metadata": {},
   "outputs": [],
   "source": [
    "# EfficientNetB0 모델 불러오기 (include_top=False)\n",
    "base_model = EfficientNetB0(weights='imagenet', include_top=False, input_shape=(224, 224, 3))\n",
    "\n",
    "# block7 이후부터 학습 가능하도록 설정\n",
    "freeze_until_block7 = False  # False이면 동결 시작, True이면 학습 가능 시작\n",
    "\n",
    "# 모든 레이어를 동결(freeze) 시킴\n",
    "for layer in base_model.layers:\n",
    "    layer.trainable = False\n",
    "\n",
    "# block7 레이어 이후부터 학습 가능하도록 설정\n",
    "start_fine_tuning = False  # True로 설정하면 block7부터 학습 가능\n",
    "\n",
    "# block7a_expand_conv 부터 학습 가능하도록 설정\n",
    "for layer in base_model.layers:\n",
    "    if layer.name == 'block7a_expand_conv':  # block7a_expand_conv부터 학습 가능\n",
    "        start_fine_tuning = True\n",
    "    if start_fine_tuning:\n",
    "        layer.trainable = True"
   ]
  },
  {
   "cell_type": "code",
   "execution_count": 64,
   "metadata": {},
   "outputs": [],
   "source": [
    "# 입력 텐서 정의\n",
    "inputs = layers.Input(shape=(224, 224, 3))\n",
    "\n",
    "# base_model의 출력을 특징 추출기로 사용\n",
    "x = base_model(inputs, training=False)\n",
    "\n",
    "# 모델 헤드 구성\n",
    "x = GlobalMaxPooling2D()(x)            # 글로벌 맥스 풀링\n",
    "x = Dense(2048, activation='relu')(x)\n",
    "x = Dropout(0.5)(x)\n",
    "x = Dense(1024, activation='relu')(x)\n",
    "x = Dropout(0.5)(x)\n",
    "x = Dense(512, activation='relu')(x)\n",
    "x = Dropout(0.5)(x)\n",
    "x = Dense(256, activation='relu')(x)\n",
    "x = Dropout(0.5)(x)\n",
    "predictions = Dense(train_generator.num_classes, activation='softmax')(x)\n",
    "\n",
    "# 최종 모델 구성\n",
    "model1_2 = Model(inputs=inputs, outputs=predictions)"
   ]
  },
  {
   "cell_type": "code",
   "execution_count": 65,
   "metadata": {},
   "outputs": [],
   "source": [
    "# 모델 컴파일\n",
    "model1_2.compile(\n",
    "    optimizer=tf.keras.optimizers.Adam(learning_rate=0.001),\n",
    "    loss='categorical_crossentropy',\n",
    "    metrics=['accuracy']\n",
    ")"
   ]
  },
  {
   "cell_type": "code",
   "execution_count": 66,
   "metadata": {},
   "outputs": [],
   "source": [
    "# 콜백 설정\n",
    "early_stopping = EarlyStopping(\n",
    "    monitor='val_loss', patience=5, restore_best_weights=True, verbose=1\n",
    ")\n",
    "\n",
    "model_checkpoint = ModelCheckpoint(\n",
    "    'best_model.h5', save_best_only=True, monitor='val_loss', verbose=1\n",
    ")\n",
    "\n",
    "reduce_lr = ReduceLROnPlateau(\n",
    "    monitor='val_loss', factor=0.5, patience=3, verbose=1\n",
    ")\n",
    "\n",
    "callbacks = [early_stopping, model_checkpoint, reduce_lr]"
   ]
  },
  {
   "cell_type": "code",
   "execution_count": 67,
   "metadata": {},
   "outputs": [
    {
     "name": "stdout",
     "output_type": "stream",
     "text": [
      "Epoch 1/50\n",
      "252/704 [=========>....................] - ETA: 5:45 - loss: 5.1004 - accuracy: 0.0052"
     ]
    },
    {
     "name": "stderr",
     "output_type": "stream",
     "text": [
      "c:\\Users\\human\\.conda\\envs\\human-dl-env2\\lib\\site-packages\\PIL\\Image.py:1056: UserWarning: Palette images with Transparency expressed in bytes should be converted to RGBA images\n",
      "  warnings.warn(\n"
     ]
    },
    {
     "name": "stdout",
     "output_type": "stream",
     "text": [
      "704/704 [==============================] - ETA: 0s - loss: 5.0445 - accuracy: 0.0066\n",
      "Epoch 1: val_loss improved from inf to 5.00802, saving model to best_model.h5\n"
     ]
    },
    {
     "name": "stderr",
     "output_type": "stream",
     "text": [
      "c:\\Users\\human\\.conda\\envs\\human-dl-env2\\lib\\site-packages\\keras\\src\\engine\\training.py:3103: UserWarning: You are saving your model as an HDF5 file via `model.save()`. This file format is considered legacy. We recommend using instead the native Keras format, e.g. `model.save('my_model.keras')`.\n",
      "  saving_api.save_model(\n"
     ]
    },
    {
     "name": "stdout",
     "output_type": "stream",
     "text": [
      "704/704 [==============================] - 756s 1s/step - loss: 5.0445 - accuracy: 0.0066 - val_loss: 5.0080 - val_accuracy: 0.0083 - lr: 0.0010\n",
      "Epoch 2/50\n",
      "704/704 [==============================] - ETA: 0s - loss: 4.8898 - accuracy: 0.0117\n",
      "Epoch 2: val_loss improved from 5.00802 to 4.71473, saving model to best_model.h5\n",
      "704/704 [==============================] - 698s 991ms/step - loss: 4.8898 - accuracy: 0.0117 - val_loss: 4.7147 - val_accuracy: 0.0163 - lr: 0.0010\n",
      "Epoch 3/50\n",
      "704/704 [==============================] - ETA: 0s - loss: 4.7100 - accuracy: 0.0152\n",
      "Epoch 3: val_loss improved from 4.71473 to 4.61983, saving model to best_model.h5\n",
      "704/704 [==============================] - 795s 1s/step - loss: 4.7100 - accuracy: 0.0152 - val_loss: 4.6198 - val_accuracy: 0.0201 - lr: 0.0010\n",
      "Epoch 4/50\n",
      "704/704 [==============================] - ETA: 0s - loss: 4.6185 - accuracy: 0.0169\n",
      "Epoch 4: val_loss improved from 4.61983 to 4.56702, saving model to best_model.h5\n",
      "704/704 [==============================] - 954s 1s/step - loss: 4.6185 - accuracy: 0.0169 - val_loss: 4.5670 - val_accuracy: 0.0197 - lr: 0.0010\n",
      "Epoch 5/50\n",
      "704/704 [==============================] - ETA: 0s - loss: 4.5514 - accuracy: 0.0198\n",
      "Epoch 5: val_loss improved from 4.56702 to 4.52798, saving model to best_model.h5\n",
      "704/704 [==============================] - 969s 1s/step - loss: 4.5514 - accuracy: 0.0198 - val_loss: 4.5280 - val_accuracy: 0.0199 - lr: 0.0010\n",
      "Epoch 6/50\n",
      "704/704 [==============================] - ETA: 0s - loss: 4.4820 - accuracy: 0.0241\n",
      "Epoch 6: val_loss improved from 4.52798 to 4.41447, saving model to best_model.h5\n",
      "704/704 [==============================] - 924s 1s/step - loss: 4.4820 - accuracy: 0.0241 - val_loss: 4.4145 - val_accuracy: 0.0279 - lr: 0.0010\n",
      "Epoch 7/50\n",
      "704/704 [==============================] - ETA: 0s - loss: 4.3750 - accuracy: 0.0291\n",
      "Epoch 7: val_loss improved from 4.41447 to 4.22530, saving model to best_model.h5\n",
      "704/704 [==============================] - 704s 999ms/step - loss: 4.3750 - accuracy: 0.0291 - val_loss: 4.2253 - val_accuracy: 0.0409 - lr: 0.0010\n",
      "Epoch 8/50\n",
      "704/704 [==============================] - ETA: 0s - loss: 4.2579 - accuracy: 0.0360\n",
      "Epoch 8: val_loss improved from 4.22530 to 4.16233, saving model to best_model.h5\n",
      "704/704 [==============================] - 715s 1s/step - loss: 4.2579 - accuracy: 0.0360 - val_loss: 4.1623 - val_accuracy: 0.0503 - lr: 0.0010\n",
      "Epoch 9/50\n",
      "103/704 [===>..........................] - ETA: 8:12 - loss: 4.1464 - accuracy: 0.0455"
     ]
    },
    {
     "ename": "KeyboardInterrupt",
     "evalue": "",
     "output_type": "error",
     "traceback": [
      "\u001b[1;31m---------------------------------------------------------------------------\u001b[0m",
      "\u001b[1;31mKeyboardInterrupt\u001b[0m                         Traceback (most recent call last)",
      "Cell \u001b[1;32mIn[67], line 2\u001b[0m\n\u001b[0;32m      1\u001b[0m \u001b[38;5;66;03m# 학습\u001b[39;00m\n\u001b[1;32m----> 2\u001b[0m history1_2 \u001b[38;5;241m=\u001b[39m \u001b[43mmodel1_2\u001b[49m\u001b[38;5;241;43m.\u001b[39;49m\u001b[43mfit\u001b[49m\u001b[43m(\u001b[49m\n\u001b[0;32m      3\u001b[0m \u001b[43m    \u001b[49m\u001b[43mtrain_generator\u001b[49m\u001b[43m,\u001b[49m\n\u001b[0;32m      4\u001b[0m \u001b[43m    \u001b[49m\u001b[43mepochs\u001b[49m\u001b[38;5;241;43m=\u001b[39;49m\u001b[38;5;241;43m50\u001b[39;49m\u001b[43m,\u001b[49m\n\u001b[0;32m      5\u001b[0m \u001b[43m    \u001b[49m\u001b[43mvalidation_data\u001b[49m\u001b[38;5;241;43m=\u001b[39;49m\u001b[43mval_generator\u001b[49m\u001b[43m,\u001b[49m\n\u001b[0;32m      6\u001b[0m \u001b[43m    \u001b[49m\u001b[43mcallbacks\u001b[49m\u001b[38;5;241;43m=\u001b[39;49m\u001b[43mcallbacks\u001b[49m\u001b[43m,\u001b[49m\n\u001b[0;32m      7\u001b[0m \u001b[43m    \u001b[49m\u001b[43mverbose\u001b[49m\u001b[38;5;241;43m=\u001b[39;49m\u001b[38;5;241;43m1\u001b[39;49m\n\u001b[0;32m      8\u001b[0m \u001b[43m)\u001b[49m\n",
      "File \u001b[1;32mc:\\Users\\human\\.conda\\envs\\human-dl-env2\\lib\\site-packages\\keras\\src\\utils\\traceback_utils.py:65\u001b[0m, in \u001b[0;36mfilter_traceback.<locals>.error_handler\u001b[1;34m(*args, **kwargs)\u001b[0m\n\u001b[0;32m     63\u001b[0m filtered_tb \u001b[38;5;241m=\u001b[39m \u001b[38;5;28;01mNone\u001b[39;00m\n\u001b[0;32m     64\u001b[0m \u001b[38;5;28;01mtry\u001b[39;00m:\n\u001b[1;32m---> 65\u001b[0m     \u001b[38;5;28;01mreturn\u001b[39;00m fn(\u001b[38;5;241m*\u001b[39margs, \u001b[38;5;241m*\u001b[39m\u001b[38;5;241m*\u001b[39mkwargs)\n\u001b[0;32m     66\u001b[0m \u001b[38;5;28;01mexcept\u001b[39;00m \u001b[38;5;167;01mException\u001b[39;00m \u001b[38;5;28;01mas\u001b[39;00m e:\n\u001b[0;32m     67\u001b[0m     filtered_tb \u001b[38;5;241m=\u001b[39m _process_traceback_frames(e\u001b[38;5;241m.\u001b[39m__traceback__)\n",
      "File \u001b[1;32mc:\\Users\\human\\.conda\\envs\\human-dl-env2\\lib\\site-packages\\keras\\src\\engine\\training.py:1807\u001b[0m, in \u001b[0;36mModel.fit\u001b[1;34m(self, x, y, batch_size, epochs, verbose, callbacks, validation_split, validation_data, shuffle, class_weight, sample_weight, initial_epoch, steps_per_epoch, validation_steps, validation_batch_size, validation_freq, max_queue_size, workers, use_multiprocessing)\u001b[0m\n\u001b[0;32m   1799\u001b[0m \u001b[38;5;28;01mwith\u001b[39;00m tf\u001b[38;5;241m.\u001b[39mprofiler\u001b[38;5;241m.\u001b[39mexperimental\u001b[38;5;241m.\u001b[39mTrace(\n\u001b[0;32m   1800\u001b[0m     \u001b[38;5;124m\"\u001b[39m\u001b[38;5;124mtrain\u001b[39m\u001b[38;5;124m\"\u001b[39m,\n\u001b[0;32m   1801\u001b[0m     epoch_num\u001b[38;5;241m=\u001b[39mepoch,\n\u001b[1;32m   (...)\u001b[0m\n\u001b[0;32m   1804\u001b[0m     _r\u001b[38;5;241m=\u001b[39m\u001b[38;5;241m1\u001b[39m,\n\u001b[0;32m   1805\u001b[0m ):\n\u001b[0;32m   1806\u001b[0m     callbacks\u001b[38;5;241m.\u001b[39mon_train_batch_begin(step)\n\u001b[1;32m-> 1807\u001b[0m     tmp_logs \u001b[38;5;241m=\u001b[39m \u001b[38;5;28;43mself\u001b[39;49m\u001b[38;5;241;43m.\u001b[39;49m\u001b[43mtrain_function\u001b[49m\u001b[43m(\u001b[49m\u001b[43miterator\u001b[49m\u001b[43m)\u001b[49m\n\u001b[0;32m   1808\u001b[0m     \u001b[38;5;28;01mif\u001b[39;00m data_handler\u001b[38;5;241m.\u001b[39mshould_sync:\n\u001b[0;32m   1809\u001b[0m         context\u001b[38;5;241m.\u001b[39masync_wait()\n",
      "File \u001b[1;32mc:\\Users\\human\\.conda\\envs\\human-dl-env2\\lib\\site-packages\\tensorflow\\python\\util\\traceback_utils.py:150\u001b[0m, in \u001b[0;36mfilter_traceback.<locals>.error_handler\u001b[1;34m(*args, **kwargs)\u001b[0m\n\u001b[0;32m    148\u001b[0m filtered_tb \u001b[38;5;241m=\u001b[39m \u001b[38;5;28;01mNone\u001b[39;00m\n\u001b[0;32m    149\u001b[0m \u001b[38;5;28;01mtry\u001b[39;00m:\n\u001b[1;32m--> 150\u001b[0m   \u001b[38;5;28;01mreturn\u001b[39;00m fn(\u001b[38;5;241m*\u001b[39margs, \u001b[38;5;241m*\u001b[39m\u001b[38;5;241m*\u001b[39mkwargs)\n\u001b[0;32m    151\u001b[0m \u001b[38;5;28;01mexcept\u001b[39;00m \u001b[38;5;167;01mException\u001b[39;00m \u001b[38;5;28;01mas\u001b[39;00m e:\n\u001b[0;32m    152\u001b[0m   filtered_tb \u001b[38;5;241m=\u001b[39m _process_traceback_frames(e\u001b[38;5;241m.\u001b[39m__traceback__)\n",
      "File \u001b[1;32mc:\\Users\\human\\.conda\\envs\\human-dl-env2\\lib\\site-packages\\tensorflow\\python\\eager\\polymorphic_function\\polymorphic_function.py:832\u001b[0m, in \u001b[0;36mFunction.__call__\u001b[1;34m(self, *args, **kwds)\u001b[0m\n\u001b[0;32m    829\u001b[0m compiler \u001b[38;5;241m=\u001b[39m \u001b[38;5;124m\"\u001b[39m\u001b[38;5;124mxla\u001b[39m\u001b[38;5;124m\"\u001b[39m \u001b[38;5;28;01mif\u001b[39;00m \u001b[38;5;28mself\u001b[39m\u001b[38;5;241m.\u001b[39m_jit_compile \u001b[38;5;28;01melse\u001b[39;00m \u001b[38;5;124m\"\u001b[39m\u001b[38;5;124mnonXla\u001b[39m\u001b[38;5;124m\"\u001b[39m\n\u001b[0;32m    831\u001b[0m \u001b[38;5;28;01mwith\u001b[39;00m OptionalXlaContext(\u001b[38;5;28mself\u001b[39m\u001b[38;5;241m.\u001b[39m_jit_compile):\n\u001b[1;32m--> 832\u001b[0m   result \u001b[38;5;241m=\u001b[39m \u001b[38;5;28mself\u001b[39m\u001b[38;5;241m.\u001b[39m_call(\u001b[38;5;241m*\u001b[39margs, \u001b[38;5;241m*\u001b[39m\u001b[38;5;241m*\u001b[39mkwds)\n\u001b[0;32m    834\u001b[0m new_tracing_count \u001b[38;5;241m=\u001b[39m \u001b[38;5;28mself\u001b[39m\u001b[38;5;241m.\u001b[39mexperimental_get_tracing_count()\n\u001b[0;32m    835\u001b[0m without_tracing \u001b[38;5;241m=\u001b[39m (tracing_count \u001b[38;5;241m==\u001b[39m new_tracing_count)\n",
      "File \u001b[1;32mc:\\Users\\human\\.conda\\envs\\human-dl-env2\\lib\\site-packages\\tensorflow\\python\\eager\\polymorphic_function\\polymorphic_function.py:868\u001b[0m, in \u001b[0;36mFunction._call\u001b[1;34m(self, *args, **kwds)\u001b[0m\n\u001b[0;32m    865\u001b[0m   \u001b[38;5;28mself\u001b[39m\u001b[38;5;241m.\u001b[39m_lock\u001b[38;5;241m.\u001b[39mrelease()\n\u001b[0;32m    866\u001b[0m   \u001b[38;5;66;03m# In this case we have created variables on the first call, so we run the\u001b[39;00m\n\u001b[0;32m    867\u001b[0m   \u001b[38;5;66;03m# defunned version which is guaranteed to never create variables.\u001b[39;00m\n\u001b[1;32m--> 868\u001b[0m   \u001b[38;5;28;01mreturn\u001b[39;00m \u001b[43mtracing_compilation\u001b[49m\u001b[38;5;241;43m.\u001b[39;49m\u001b[43mcall_function\u001b[49m\u001b[43m(\u001b[49m\n\u001b[0;32m    869\u001b[0m \u001b[43m      \u001b[49m\u001b[43margs\u001b[49m\u001b[43m,\u001b[49m\u001b[43m \u001b[49m\u001b[43mkwds\u001b[49m\u001b[43m,\u001b[49m\u001b[43m \u001b[49m\u001b[38;5;28;43mself\u001b[39;49m\u001b[38;5;241;43m.\u001b[39;49m\u001b[43m_no_variable_creation_config\u001b[49m\n\u001b[0;32m    870\u001b[0m \u001b[43m  \u001b[49m\u001b[43m)\u001b[49m\n\u001b[0;32m    871\u001b[0m \u001b[38;5;28;01melif\u001b[39;00m \u001b[38;5;28mself\u001b[39m\u001b[38;5;241m.\u001b[39m_variable_creation_config \u001b[38;5;129;01mis\u001b[39;00m \u001b[38;5;129;01mnot\u001b[39;00m \u001b[38;5;28;01mNone\u001b[39;00m:\n\u001b[0;32m    872\u001b[0m   \u001b[38;5;66;03m# Release the lock early so that multiple threads can perform the call\u001b[39;00m\n\u001b[0;32m    873\u001b[0m   \u001b[38;5;66;03m# in parallel.\u001b[39;00m\n\u001b[0;32m    874\u001b[0m   \u001b[38;5;28mself\u001b[39m\u001b[38;5;241m.\u001b[39m_lock\u001b[38;5;241m.\u001b[39mrelease()\n",
      "File \u001b[1;32mc:\\Users\\human\\.conda\\envs\\human-dl-env2\\lib\\site-packages\\tensorflow\\python\\eager\\polymorphic_function\\tracing_compilation.py:139\u001b[0m, in \u001b[0;36mcall_function\u001b[1;34m(args, kwargs, tracing_options)\u001b[0m\n\u001b[0;32m    137\u001b[0m bound_args \u001b[38;5;241m=\u001b[39m function\u001b[38;5;241m.\u001b[39mfunction_type\u001b[38;5;241m.\u001b[39mbind(\u001b[38;5;241m*\u001b[39margs, \u001b[38;5;241m*\u001b[39m\u001b[38;5;241m*\u001b[39mkwargs)\n\u001b[0;32m    138\u001b[0m flat_inputs \u001b[38;5;241m=\u001b[39m function\u001b[38;5;241m.\u001b[39mfunction_type\u001b[38;5;241m.\u001b[39munpack_inputs(bound_args)\n\u001b[1;32m--> 139\u001b[0m \u001b[38;5;28;01mreturn\u001b[39;00m \u001b[43mfunction\u001b[49m\u001b[38;5;241;43m.\u001b[39;49m\u001b[43m_call_flat\u001b[49m\u001b[43m(\u001b[49m\u001b[43m  \u001b[49m\u001b[38;5;66;43;03m# pylint: disable=protected-access\u001b[39;49;00m\n\u001b[0;32m    140\u001b[0m \u001b[43m    \u001b[49m\u001b[43mflat_inputs\u001b[49m\u001b[43m,\u001b[49m\u001b[43m \u001b[49m\u001b[43mcaptured_inputs\u001b[49m\u001b[38;5;241;43m=\u001b[39;49m\u001b[43mfunction\u001b[49m\u001b[38;5;241;43m.\u001b[39;49m\u001b[43mcaptured_inputs\u001b[49m\n\u001b[0;32m    141\u001b[0m \u001b[43m\u001b[49m\u001b[43m)\u001b[49m\n",
      "File \u001b[1;32mc:\\Users\\human\\.conda\\envs\\human-dl-env2\\lib\\site-packages\\tensorflow\\python\\eager\\polymorphic_function\\concrete_function.py:1323\u001b[0m, in \u001b[0;36mConcreteFunction._call_flat\u001b[1;34m(self, tensor_inputs, captured_inputs)\u001b[0m\n\u001b[0;32m   1319\u001b[0m possible_gradient_type \u001b[38;5;241m=\u001b[39m gradients_util\u001b[38;5;241m.\u001b[39mPossibleTapeGradientTypes(args)\n\u001b[0;32m   1320\u001b[0m \u001b[38;5;28;01mif\u001b[39;00m (possible_gradient_type \u001b[38;5;241m==\u001b[39m gradients_util\u001b[38;5;241m.\u001b[39mPOSSIBLE_GRADIENT_TYPES_NONE\n\u001b[0;32m   1321\u001b[0m     \u001b[38;5;129;01mand\u001b[39;00m executing_eagerly):\n\u001b[0;32m   1322\u001b[0m   \u001b[38;5;66;03m# No tape is watching; skip to running the function.\u001b[39;00m\n\u001b[1;32m-> 1323\u001b[0m   \u001b[38;5;28;01mreturn\u001b[39;00m \u001b[38;5;28;43mself\u001b[39;49m\u001b[38;5;241;43m.\u001b[39;49m\u001b[43m_inference_function\u001b[49m\u001b[38;5;241;43m.\u001b[39;49m\u001b[43mcall_preflattened\u001b[49m\u001b[43m(\u001b[49m\u001b[43margs\u001b[49m\u001b[43m)\u001b[49m\n\u001b[0;32m   1324\u001b[0m forward_backward \u001b[38;5;241m=\u001b[39m \u001b[38;5;28mself\u001b[39m\u001b[38;5;241m.\u001b[39m_select_forward_and_backward_functions(\n\u001b[0;32m   1325\u001b[0m     args,\n\u001b[0;32m   1326\u001b[0m     possible_gradient_type,\n\u001b[0;32m   1327\u001b[0m     executing_eagerly)\n\u001b[0;32m   1328\u001b[0m forward_function, args_with_tangents \u001b[38;5;241m=\u001b[39m forward_backward\u001b[38;5;241m.\u001b[39mforward()\n",
      "File \u001b[1;32mc:\\Users\\human\\.conda\\envs\\human-dl-env2\\lib\\site-packages\\tensorflow\\python\\eager\\polymorphic_function\\atomic_function.py:216\u001b[0m, in \u001b[0;36mAtomicFunction.call_preflattened\u001b[1;34m(self, args)\u001b[0m\n\u001b[0;32m    214\u001b[0m \u001b[38;5;28;01mdef\u001b[39;00m \u001b[38;5;21mcall_preflattened\u001b[39m(\u001b[38;5;28mself\u001b[39m, args: Sequence[core\u001b[38;5;241m.\u001b[39mTensor]) \u001b[38;5;241m-\u001b[39m\u001b[38;5;241m>\u001b[39m Any:\n\u001b[0;32m    215\u001b[0m \u001b[38;5;250m  \u001b[39m\u001b[38;5;124;03m\"\"\"Calls with flattened tensor inputs and returns the structured output.\"\"\"\u001b[39;00m\n\u001b[1;32m--> 216\u001b[0m   flat_outputs \u001b[38;5;241m=\u001b[39m \u001b[38;5;28;43mself\u001b[39;49m\u001b[38;5;241;43m.\u001b[39;49m\u001b[43mcall_flat\u001b[49m\u001b[43m(\u001b[49m\u001b[38;5;241;43m*\u001b[39;49m\u001b[43margs\u001b[49m\u001b[43m)\u001b[49m\n\u001b[0;32m    217\u001b[0m   \u001b[38;5;28;01mreturn\u001b[39;00m \u001b[38;5;28mself\u001b[39m\u001b[38;5;241m.\u001b[39mfunction_type\u001b[38;5;241m.\u001b[39mpack_output(flat_outputs)\n",
      "File \u001b[1;32mc:\\Users\\human\\.conda\\envs\\human-dl-env2\\lib\\site-packages\\tensorflow\\python\\eager\\polymorphic_function\\atomic_function.py:251\u001b[0m, in \u001b[0;36mAtomicFunction.call_flat\u001b[1;34m(self, *args)\u001b[0m\n\u001b[0;32m    249\u001b[0m \u001b[38;5;28;01mwith\u001b[39;00m record\u001b[38;5;241m.\u001b[39mstop_recording():\n\u001b[0;32m    250\u001b[0m   \u001b[38;5;28;01mif\u001b[39;00m \u001b[38;5;28mself\u001b[39m\u001b[38;5;241m.\u001b[39m_bound_context\u001b[38;5;241m.\u001b[39mexecuting_eagerly():\n\u001b[1;32m--> 251\u001b[0m     outputs \u001b[38;5;241m=\u001b[39m \u001b[38;5;28;43mself\u001b[39;49m\u001b[38;5;241;43m.\u001b[39;49m\u001b[43m_bound_context\u001b[49m\u001b[38;5;241;43m.\u001b[39;49m\u001b[43mcall_function\u001b[49m\u001b[43m(\u001b[49m\n\u001b[0;32m    252\u001b[0m \u001b[43m        \u001b[49m\u001b[38;5;28;43mself\u001b[39;49m\u001b[38;5;241;43m.\u001b[39;49m\u001b[43mname\u001b[49m\u001b[43m,\u001b[49m\n\u001b[0;32m    253\u001b[0m \u001b[43m        \u001b[49m\u001b[38;5;28;43mlist\u001b[39;49m\u001b[43m(\u001b[49m\u001b[43margs\u001b[49m\u001b[43m)\u001b[49m\u001b[43m,\u001b[49m\n\u001b[0;32m    254\u001b[0m \u001b[43m        \u001b[49m\u001b[38;5;28;43mlen\u001b[39;49m\u001b[43m(\u001b[49m\u001b[38;5;28;43mself\u001b[39;49m\u001b[38;5;241;43m.\u001b[39;49m\u001b[43mfunction_type\u001b[49m\u001b[38;5;241;43m.\u001b[39;49m\u001b[43mflat_outputs\u001b[49m\u001b[43m)\u001b[49m\u001b[43m,\u001b[49m\n\u001b[0;32m    255\u001b[0m \u001b[43m    \u001b[49m\u001b[43m)\u001b[49m\n\u001b[0;32m    256\u001b[0m   \u001b[38;5;28;01melse\u001b[39;00m:\n\u001b[0;32m    257\u001b[0m     outputs \u001b[38;5;241m=\u001b[39m make_call_op_in_graph(\n\u001b[0;32m    258\u001b[0m         \u001b[38;5;28mself\u001b[39m,\n\u001b[0;32m    259\u001b[0m         \u001b[38;5;28mlist\u001b[39m(args),\n\u001b[0;32m    260\u001b[0m         \u001b[38;5;28mself\u001b[39m\u001b[38;5;241m.\u001b[39m_bound_context\u001b[38;5;241m.\u001b[39mfunction_call_options\u001b[38;5;241m.\u001b[39mas_attrs(),\n\u001b[0;32m    261\u001b[0m     )\n",
      "File \u001b[1;32mc:\\Users\\human\\.conda\\envs\\human-dl-env2\\lib\\site-packages\\tensorflow\\python\\eager\\context.py:1486\u001b[0m, in \u001b[0;36mContext.call_function\u001b[1;34m(self, name, tensor_inputs, num_outputs)\u001b[0m\n\u001b[0;32m   1484\u001b[0m cancellation_context \u001b[38;5;241m=\u001b[39m cancellation\u001b[38;5;241m.\u001b[39mcontext()\n\u001b[0;32m   1485\u001b[0m \u001b[38;5;28;01mif\u001b[39;00m cancellation_context \u001b[38;5;129;01mis\u001b[39;00m \u001b[38;5;28;01mNone\u001b[39;00m:\n\u001b[1;32m-> 1486\u001b[0m   outputs \u001b[38;5;241m=\u001b[39m \u001b[43mexecute\u001b[49m\u001b[38;5;241;43m.\u001b[39;49m\u001b[43mexecute\u001b[49m\u001b[43m(\u001b[49m\n\u001b[0;32m   1487\u001b[0m \u001b[43m      \u001b[49m\u001b[43mname\u001b[49m\u001b[38;5;241;43m.\u001b[39;49m\u001b[43mdecode\u001b[49m\u001b[43m(\u001b[49m\u001b[38;5;124;43m\"\u001b[39;49m\u001b[38;5;124;43mutf-8\u001b[39;49m\u001b[38;5;124;43m\"\u001b[39;49m\u001b[43m)\u001b[49m\u001b[43m,\u001b[49m\n\u001b[0;32m   1488\u001b[0m \u001b[43m      \u001b[49m\u001b[43mnum_outputs\u001b[49m\u001b[38;5;241;43m=\u001b[39;49m\u001b[43mnum_outputs\u001b[49m\u001b[43m,\u001b[49m\n\u001b[0;32m   1489\u001b[0m \u001b[43m      \u001b[49m\u001b[43minputs\u001b[49m\u001b[38;5;241;43m=\u001b[39;49m\u001b[43mtensor_inputs\u001b[49m\u001b[43m,\u001b[49m\n\u001b[0;32m   1490\u001b[0m \u001b[43m      \u001b[49m\u001b[43mattrs\u001b[49m\u001b[38;5;241;43m=\u001b[39;49m\u001b[43mattrs\u001b[49m\u001b[43m,\u001b[49m\n\u001b[0;32m   1491\u001b[0m \u001b[43m      \u001b[49m\u001b[43mctx\u001b[49m\u001b[38;5;241;43m=\u001b[39;49m\u001b[38;5;28;43mself\u001b[39;49m\u001b[43m,\u001b[49m\n\u001b[0;32m   1492\u001b[0m \u001b[43m  \u001b[49m\u001b[43m)\u001b[49m\n\u001b[0;32m   1493\u001b[0m \u001b[38;5;28;01melse\u001b[39;00m:\n\u001b[0;32m   1494\u001b[0m   outputs \u001b[38;5;241m=\u001b[39m execute\u001b[38;5;241m.\u001b[39mexecute_with_cancellation(\n\u001b[0;32m   1495\u001b[0m       name\u001b[38;5;241m.\u001b[39mdecode(\u001b[38;5;124m\"\u001b[39m\u001b[38;5;124mutf-8\u001b[39m\u001b[38;5;124m\"\u001b[39m),\n\u001b[0;32m   1496\u001b[0m       num_outputs\u001b[38;5;241m=\u001b[39mnum_outputs,\n\u001b[1;32m   (...)\u001b[0m\n\u001b[0;32m   1500\u001b[0m       cancellation_manager\u001b[38;5;241m=\u001b[39mcancellation_context,\n\u001b[0;32m   1501\u001b[0m   )\n",
      "File \u001b[1;32mc:\\Users\\human\\.conda\\envs\\human-dl-env2\\lib\\site-packages\\tensorflow\\python\\eager\\execute.py:53\u001b[0m, in \u001b[0;36mquick_execute\u001b[1;34m(op_name, num_outputs, inputs, attrs, ctx, name)\u001b[0m\n\u001b[0;32m     51\u001b[0m \u001b[38;5;28;01mtry\u001b[39;00m:\n\u001b[0;32m     52\u001b[0m   ctx\u001b[38;5;241m.\u001b[39mensure_initialized()\n\u001b[1;32m---> 53\u001b[0m   tensors \u001b[38;5;241m=\u001b[39m \u001b[43mpywrap_tfe\u001b[49m\u001b[38;5;241;43m.\u001b[39;49m\u001b[43mTFE_Py_Execute\u001b[49m\u001b[43m(\u001b[49m\u001b[43mctx\u001b[49m\u001b[38;5;241;43m.\u001b[39;49m\u001b[43m_handle\u001b[49m\u001b[43m,\u001b[49m\u001b[43m \u001b[49m\u001b[43mdevice_name\u001b[49m\u001b[43m,\u001b[49m\u001b[43m \u001b[49m\u001b[43mop_name\u001b[49m\u001b[43m,\u001b[49m\n\u001b[0;32m     54\u001b[0m \u001b[43m                                      \u001b[49m\u001b[43minputs\u001b[49m\u001b[43m,\u001b[49m\u001b[43m \u001b[49m\u001b[43mattrs\u001b[49m\u001b[43m,\u001b[49m\u001b[43m \u001b[49m\u001b[43mnum_outputs\u001b[49m\u001b[43m)\u001b[49m\n\u001b[0;32m     55\u001b[0m \u001b[38;5;28;01mexcept\u001b[39;00m core\u001b[38;5;241m.\u001b[39m_NotOkStatusException \u001b[38;5;28;01mas\u001b[39;00m e:\n\u001b[0;32m     56\u001b[0m   \u001b[38;5;28;01mif\u001b[39;00m name \u001b[38;5;129;01mis\u001b[39;00m \u001b[38;5;129;01mnot\u001b[39;00m \u001b[38;5;28;01mNone\u001b[39;00m:\n",
      "\u001b[1;31mKeyboardInterrupt\u001b[0m: "
     ]
    }
   ],
   "source": [
    "# 학습\n",
    "history1_2 = model1_2.fit(\n",
    "    train_generator,\n",
    "    epochs=50,\n",
    "    validation_data=val_generator,\n",
    "    callbacks=callbacks,\n",
    "    verbose=1\n",
    ")"
   ]
  },
  {
   "cell_type": "code",
   "execution_count": null,
   "metadata": {},
   "outputs": [],
   "source": [
    "# 모델 평가\n",
    "test_loss, test_acc = model1_2.evaluate(test_generator)\n",
    "print(\"Test Accuracy:\", test_acc)  # 소수점을 자르지 않고 출력"
   ]
  },
  {
   "cell_type": "code",
   "execution_count": null,
   "metadata": {},
   "outputs": [],
   "source": [
    "# 학습 및 검증 정확도 그래프\n",
    "plt.plot(history1_2.epoch, history1_2.history['accuracy'], label = \"train_accuracy\", c='blue')\n",
    "plt.plot(history1_2.epoch, history1_2.history['val_accuracy'], label = \"validation_accuracy\", c='skyblue', marker='o')\n",
    "plt.xlabel('Epochs')\n",
    "plt.ylabel('Accuracy')\n",
    "plt.legend()\n",
    "plt.show()\n",
    "\n",
    "# 학습 및 검증 손실 그래프\n",
    "plt.plot(history1_2.epoch, history1_2.history['loss'], label = \"train_loss\", c='salmon')\n",
    "plt.plot(history1_2.epoch, history1_2.history['val_loss'], label = \"validation_loss\", c='orange', marker='o')\n",
    "plt.xlabel('Epochs')\n",
    "plt.ylabel('Loss')\n",
    "plt.legend()\n",
    "plt.show()"
   ]
  },
  {
   "cell_type": "markdown",
   "metadata": {},
   "source": [
    "# train, val, test 이미지 수 늘려서 해보기"
   ]
  },
  {
   "cell_type": "code",
   "execution_count": null,
   "metadata": {},
   "outputs": [],
   "source": [
    "# 원본 데이터셋 경로와 출력 폴더 설정\n",
    "original_dir = r\"D:\\Work\\3rd_pj\\K_Food_images\"\n",
    "output_dir = r\"D:\\Work\\3rd_pj\\K_Food_images_split2\"\n",
    "\n",
    "# 출력 폴더 생성\n",
    "sub_dirs = ['train2', 'val2', 'test2']\n",
    "for sub_dir in sub_dirs:\n",
    "    os.makedirs(os.path.join(output_dir, sub_dir), exist_ok=True)\n",
    "\n",
    "# 이미지 확장자\n",
    "image_extensions = ('.jpg', '.jpeg', '.png')\n",
    "\n",
    "# 데이터 분할\n",
    "for category in os.listdir(original_dir):  # 대분류 폴더\n",
    "    category_path = os.path.join(original_dir, category)\n",
    "    if not os.path.isdir(category_path):\n",
    "        continue\n",
    "    \n",
    "    for food_name in os.listdir(category_path):  # 음식 이름 폴더\n",
    "        food_path = os.path.join(category_path, food_name)\n",
    "        if not os.path.isdir(food_path):\n",
    "            continue\n",
    "        \n",
    "        # 음식 폴더의 이미지 파일 수집\n",
    "        images = [f for f in os.listdir(food_path) if f.lower().endswith(image_extensions)]\n",
    "        if len(images) < 980:\n",
    "            print(f\"Skipping {food_name} as it has less than 1000 images.\")\n",
    "            continue\n",
    "        \n",
    "        # 이미지 파일 섞기\n",
    "        random.shuffle(images)\n",
    "        \n",
    "        # 분할\n",
    "        train_images = images[:700]\n",
    "        val_images = images[700:840]\n",
    "        test_images = images[840:980]\n",
    "        \n",
    "        # 출력 폴더에 복사\n",
    "        for subset, subset_images in zip(sub_dirs, [train_images, val_images, test_images]):\n",
    "            subset_dir = os.path.join(output_dir, subset, food_name)  # 음식 이름 폴더 생성\n",
    "            os.makedirs(subset_dir, exist_ok=True)\n",
    "            for img in subset_images:\n",
    "                shutil.copy(os.path.join(food_path, img), os.path.join(subset_dir, img))\n"
   ]
  },
  {
   "cell_type": "code",
   "execution_count": 4,
   "metadata": {},
   "outputs": [
    {
     "name": "stdout",
     "output_type": "stream",
     "text": [
      "Images for 갈비구이 have been successfully split.\n"
     ]
    }
   ],
   "source": [
    "import os\n",
    "import random\n",
    "import shutil\n",
    "\n",
    "# 원본 데이터셋 경로와 출력 폴더 설정\n",
    "original_dir = r\"D:\\Work\\3rd_pj\\K_Food_images\"\n",
    "output_dir = r\"D:\\Work\\3rd_pj\\K_Food_images_split2\"\n",
    "\n",
    "# 출력 폴더 생성\n",
    "sub_dirs = ['train2', 'val2', 'test2']\n",
    "for sub_dir in sub_dirs:\n",
    "    os.makedirs(os.path.join(output_dir, sub_dir), exist_ok=True)\n",
    "\n",
    "# 이미지 확장자\n",
    "image_extensions = ('.jpg', '.jpeg', '.png')\n",
    "\n",
    "# 갈비구이 폴더 경로\n",
    "category = \"구이\"  # 대분류 폴더\n",
    "food_name = \"갈비구이\"  # 음식 이름 폴더\n",
    "food_path = os.path.join(original_dir, category, food_name)\n",
    "\n",
    "if os.path.isdir(food_path):\n",
    "    # 음식 폴더의 이미지 파일 수집\n",
    "    images = [f for f in os.listdir(food_path) if f.lower().endswith(image_extensions)]\n",
    "    if len(images) < 980:\n",
    "        print(f\"Skipping {food_name} as it has less than 1000 images.\")\n",
    "    else:\n",
    "        # 이미지 파일 섞기\n",
    "        random.shuffle(images)\n",
    "        \n",
    "        # 분할\n",
    "        train_images = images[:700]\n",
    "        val_images = images[700:840]\n",
    "        test_images = images[840:980]\n",
    "        \n",
    "        # 출력 폴더에 복사\n",
    "        for subset, subset_images in zip(sub_dirs, [train_images, val_images, test_images]):\n",
    "            subset_dir = os.path.join(output_dir, subset, food_name)  # 음식 이름 폴더 생성\n",
    "            os.makedirs(subset_dir, exist_ok=True)\n",
    "            for img in subset_images:\n",
    "                shutil.copy(os.path.join(food_path, img), os.path.join(subset_dir, img))\n",
    "        print(f\"Images for {food_name} have been successfully split.\")\n",
    "else:\n",
    "    print(f\"{food_path} does not exist or is not a directory.\")"
   ]
  },
  {
   "cell_type": "code",
   "execution_count": 2,
   "metadata": {},
   "outputs": [
    {
     "name": "stdout",
     "output_type": "stream",
     "text": [
      "Found 105000 images belonging to 150 classes.\n",
      "Found 21000 images belonging to 150 classes.\n",
      "Found 21000 images belonging to 150 classes.\n"
     ]
    }
   ],
   "source": [
    "# 데이터 경로 설정\n",
    "train_dir2 = r\"D:\\Work\\3rd_pj\\K_Food_images_split2\\train2\" \n",
    "val_dir2 = r\"D:\\Work\\3rd_pj\\K_Food_images_split2\\val2\" \n",
    "test_dir2 = r\"D:\\Work\\3rd_pj\\K_Food_images_split2\\test2\" \n",
    "\n",
    "# 데이터 전처리 (이미지 증강 없이)\n",
    "train_datagen2 = ImageDataGenerator(preprocessing_function=preprocess_input)\n",
    "val_test_datagen2 = ImageDataGenerator(preprocessing_function=preprocess_input)\n",
    "\n",
    "train_generator2 = train_datagen2.flow_from_directory(\n",
    "    train_dir2,\n",
    "    target_size=(224, 224),\n",
    "    batch_size=32,\n",
    "    class_mode='categorical',\n",
    "    shuffle=True  # 기본값 True\n",
    ")\n",
    "\n",
    "val_generator2 = val_test_datagen2.flow_from_directory(\n",
    "    val_dir2,\n",
    "    target_size=(224, 224),\n",
    "    batch_size=32,\n",
    "    class_mode='categorical',\n",
    "    shuffle=True  # 검증 데이터도 섞으려면 True\n",
    ")\n",
    "\n",
    "test_generator2 = val_test_datagen2.flow_from_directory(\n",
    "    test_dir2,\n",
    "    target_size=(224, 224),\n",
    "    batch_size=32,\n",
    "    class_mode='categorical',\n",
    "    shuffle=False  # 테스트 데이터는 섞지 않음\n",
    ")"
   ]
  },
  {
   "cell_type": "code",
   "execution_count": 3,
   "metadata": {},
   "outputs": [
    {
     "name": "stdout",
     "output_type": "stream",
     "text": [
      "클래스 인덱스: {'가지볶음': 0, '간장게장': 1, '갈비구이': 2, '갈비찜': 3, '갈비탕': 4, '갈치구이': 5, '갈치조림': 6, '감자전': 7, '감자조림': 8, '감자채볶음': 9, '감자탕': 10, '갓김치': 11, '건새우볶음': 12, '경단': 13, '계란국': 14, '계란말이': 15, '계란찜': 16, '계란후라이': 17, '고등어구이': 18, '고등어조림': 19, '고사리나물': 20, '고추장진미채볶음': 21, '고추튀김': 22, '곰탕_설렁탕': 23, '곱창구이': 24, '곱창전골': 25, '과메기': 26, '김밥': 27, '김치볶음밥': 28, '김치전': 29, '김치찌개': 30, '김치찜': 31, '깍두기': 32, '깻잎장아찌': 33, '꼬막찜': 34, '꽁치조림': 35, '꽈리고추무침': 36, '꿀떡': 37, '나박김치': 38, '누룽지': 39, '닭갈비': 40, '닭계장': 41, '닭볶음탕': 42, '더덕구이': 43, '도라지무침': 44, '도토리묵': 45, '동그랑땡': 46, '동태찌개': 47, '된장찌개': 48, '두부김치': 49, '두부조림': 50, '땅콩조림': 51, '떡갈비': 52, '떡국_만두국': 53, '떡꼬치': 54, '떡볶이': 55, '라면': 56, '라볶이': 57, '막국수': 58, '만두': 59, '매운탕': 60, '멍게': 61, '메추리알장조림': 62, '멸치볶음': 63, '무국': 64, '무생채': 65, '물냉면': 66, '물회': 67, '미역국': 68, '미역줄기볶음': 69, '배추김치': 70, '백김치': 71, '보쌈': 72, '부추김치': 73, '북엇국': 74, '불고기': 75, '비빔냉면': 76, '비빔밥': 77, '산낙지': 78, '삼겹살': 79, '삼계탕': 80, '새우볶음밥': 81, '새우튀김': 82, '생선전': 83, '소세지볶음': 84, '송편': 85, '수육': 86, '수정과': 87, '수제비': 88, '숙주나물': 89, '순대': 90, '순두부찌개': 91, '시금치나물': 92, '시래기국': 93, '식혜': 94, '알밥': 95, '애호박볶음': 96, '약과': 97, '약식': 98, '양념게장': 99, '양념치킨': 100, '어묵볶음': 101, '연근조림': 102, '열무국수': 103, '열무김치': 104, '오이소박이': 105, '오징어채볶음': 106, '오징어튀김': 107, '우엉조림': 108, '유부초밥': 109, '육개장': 110, '육회': 111, '잔치국수': 112, '잡곡밥': 113, '잡채': 114, '장어구이': 115, '장조림': 116, '전복죽': 117, '젓갈': 118, '제육볶음': 119, '조개구이': 120, '조기구이': 121, '족발': 122, '주꾸미볶음': 123, '주먹밥': 124, '짜장면': 125, '짬뽕': 126, '쫄면': 127, '찜닭': 128, '총각김치': 129, '추어탕': 130, '칼국수': 131, '코다리조림': 132, '콩국수': 133, '콩나물국': 134, '콩나물무침': 135, '콩자반': 136, '파김치': 137, '파전': 138, '편육': 139, '피자': 140, '한과': 141, '해물찜': 142, '호박전': 143, '호박죽': 144, '홍어무침': 145, '황태구이': 146, '회무침': 147, '후라이드치킨': 148, '훈제오리': 149}\n",
      "훈련 데이터 샘플 수: 105000\n",
      "검증 데이터 샘플 수: 21000\n",
      "테스트 데이터 샘플 수: 21000\n",
      "훈련 데이터 클래스 수: 150\n",
      "검증 데이터 클래스 수: 150\n",
      "테스트 데이터 클래스 수: 150\n"
     ]
    }
   ],
   "source": [
    "print(\"클래스 인덱스:\", train_generator2.class_indices)\n",
    "print(\"훈련 데이터 샘플 수:\", train_generator2.samples)\n",
    "print(\"검증 데이터 샘플 수:\", val_generator2.samples)\n",
    "print(\"테스트 데이터 샘플 수:\", test_generator2.samples)\n",
    "\n",
    "print(\"훈련 데이터 클래스 수:\", train_generator2.num_classes)\n",
    "print(\"검증 데이터 클래스 수:\", val_generator2.num_classes)\n",
    "print(\"테스트 데이터 클래스 수:\", test_generator2.num_classes)"
   ]
  },
  {
   "cell_type": "markdown",
   "metadata": {},
   "source": [
    "### ResNet50"
   ]
  },
  {
   "cell_type": "code",
   "execution_count": 38,
   "metadata": {},
   "outputs": [
    {
     "name": "stdout",
     "output_type": "stream",
     "text": [
      "Model: \"model_3\"\n",
      "_________________________________________________________________\n",
      " Layer (type)                Output Shape              Param #   \n",
      "=================================================================\n",
      " input_8 (InputLayer)        [(None, 224, 224, 3)]     0         \n",
      "                                                                 \n",
      " resnet50 (Functional)       (None, 7, 7, 2048)        23587712  \n",
      "                                                                 \n",
      " global_max_pooling2d_3 (Gl  (None, 2048)              0         \n",
      " obalMaxPooling2D)                                               \n",
      "                                                                 \n",
      " dense_15 (Dense)            (None, 2048)              4196352   \n",
      "                                                                 \n",
      " dropout_12 (Dropout)        (None, 2048)              0         \n",
      "                                                                 \n",
      " dense_16 (Dense)            (None, 1024)              2098176   \n",
      "                                                                 \n",
      " dropout_13 (Dropout)        (None, 1024)              0         \n",
      "                                                                 \n",
      " dense_17 (Dense)            (None, 512)               524800    \n",
      "                                                                 \n",
      " dropout_14 (Dropout)        (None, 512)               0         \n",
      "                                                                 \n",
      " dense_18 (Dense)            (None, 256)               131328    \n",
      "                                                                 \n",
      " dropout_15 (Dropout)        (None, 256)               0         \n",
      "                                                                 \n",
      " dense_19 (Dense)            (None, 150)               38550     \n",
      "                                                                 \n",
      "=================================================================\n",
      "Total params: 30576918 (116.64 MB)\n",
      "Trainable params: 6989206 (26.66 MB)\n",
      "Non-trainable params: 23587712 (89.98 MB)\n",
      "_________________________________________________________________\n"
     ]
    }
   ],
   "source": [
    "# ResNet50 바디 (특징 추출기)\n",
    "base_model2 = ResNet50(weights='imagenet', include_top=False, input_shape=(224, 224, 3))\n",
    "\n",
    "# 모든 레이어 동결 후, 마지막 30개 레이어만 훈련 가능하게 설정\n",
    "base_model2.trainable = False\n",
    "for layer in base_model2.layers[-30:]:\n",
    "    layer.trainable = True\n",
    "\n",
    "# Functional API로 모델 구성\n",
    "inputs = tf.keras.Input(shape=(224, 224, 3))  # 입력 레이어\n",
    "x = base_model2(inputs, training=False)        # ResNet50 특징 추출기 (training=False로 고정)\n",
    "x = layers.GlobalMaxPooling2D()(x)            # 글로벌 맥스 풀링\n",
    "x = layers.Dense(2048, activation='relu')(x)\n",
    "x = layers.Dropout(0.5)(x)\n",
    "x = layers.Dense(1024, activation='relu')(x)\n",
    "x = layers.Dropout(0.5)(x)\n",
    "x = layers.Dense(512, activation='relu')(x)\n",
    "x = layers.Dropout(0.5)(x)\n",
    "x = layers.Dense(256, activation='relu')(x)\n",
    "x = layers.Dropout(0.5)(x)\n",
    "outputs = layers.Dense(train_generator2.num_classes, activation='softmax')(x)  # 출력층\n",
    "\n",
    "model2 = models.Model(inputs=inputs, outputs=outputs)  # 모델 정의\n",
    "\n",
    "# 모델 요약 출력\n",
    "model2.summary()"
   ]
  },
  {
   "cell_type": "code",
   "execution_count": 39,
   "metadata": {},
   "outputs": [],
   "source": [
    "# 모델 컴파일\n",
    "model2.compile(optimizer=optimizers.Adam(learning_rate=0.001),\n",
    "              loss='categorical_crossentropy',\n",
    "              metrics=['accuracy'])"
   ]
  },
  {
   "cell_type": "code",
   "execution_count": 40,
   "metadata": {},
   "outputs": [],
   "source": [
    "# EarlyStopping 콜백 설정\n",
    "early_stopping = callbacks.EarlyStopping(\n",
    "    monitor='val_loss',  # 검증 손실을 모니터링\n",
    "    patience=10,          # 개선되지 않는 에포크를 5회 허용\n",
    "    restore_best_weights=True  # 가장 좋은 가중치를 복원\n",
    ")\n",
    "lr_scheduler = callbacks.ReduceLROnPlateau(\n",
    "    monitor='val_loss',\n",
    "    factor=0.5,\n",
    "    patience=5,\n",
    "    min_lr=1e-6\n",
    ")"
   ]
  },
  {
   "cell_type": "code",
   "execution_count": null,
   "metadata": {},
   "outputs": [],
   "source": [
    "history2 = model2.fit(train_generator, epochs=100, \n",
    "                      validation_data=val_generator, \n",
    "                      callbacks=[early_stopping, lr_scheduler])"
   ]
  },
  {
   "cell_type": "code",
   "execution_count": null,
   "metadata": {},
   "outputs": [],
   "source": [
    "# 모델 평가\n",
    "test_loss, test_acc = model.evaluate(test_generator)\n",
    "print(\"Test Accuracy:\", test_acc)  # 소수점을 자르지 않고 출력"
   ]
  },
  {
   "cell_type": "code",
   "execution_count": null,
   "metadata": {},
   "outputs": [],
   "source": [
    "# 학습 및 검증 정확도 그래프\n",
    "plt.plot(history2.epoch, history2.history['accuracy'], label = \"train_accuracy\", c='blue')\n",
    "plt.plot(history2.epoch, history2.history['val_accuracy'], label = \"validation_accuracy\", c='skyblue', marker='o')\n",
    "plt.xlabel('Epochs')\n",
    "plt.ylabel('Accuracy')\n",
    "plt.legend()\n",
    "plt.show()\n",
    "\n",
    "# 학습 및 검증 손실 그래프\n",
    "plt.plot(history2.epoch, history2.history['loss'], label = \"train_loss\", c='salmon')\n",
    "plt.plot(history2.epoch, history2.history['val_loss'], label = \"validation_loss\", c='orange', marker='o')\n",
    "plt.xlabel('Epochs')\n",
    "plt.ylabel('Loss')\n",
    "plt.legend()\n",
    "plt.show()"
   ]
  },
  {
   "cell_type": "markdown",
   "metadata": {},
   "source": [
    "### ResNet-101"
   ]
  },
  {
   "cell_type": "code",
   "execution_count": 5,
   "metadata": {},
   "outputs": [
    {
     "name": "stdout",
     "output_type": "stream",
     "text": [
      "Found 105000 images belonging to 150 classes.\n",
      "Found 21000 images belonging to 150 classes.\n",
      "Found 21000 images belonging to 150 classes.\n"
     ]
    }
   ],
   "source": [
    "import tensorflow as tf\n",
    "from tensorflow.keras.applications import ResNet101\n",
    "from tensorflow.keras import layers, models, optimizers\n",
    "from tensorflow.keras.callbacks import EarlyStopping, ModelCheckpoint, ReduceLROnPlateau\n",
    "from tensorflow.keras.preprocessing.image import ImageDataGenerator\n",
    "from tensorflow.keras.applications.resnet import preprocess_input\n",
    "\n",
    "# 데이터 경로 설정\n",
    "train_dir2 = r\"D:\\Work\\3rd_pj\\K_Food_images_split2\\train2\"\n",
    "val_dir2 = r\"D:\\Work\\3rd_pj\\K_Food_images_split2\\val2\"\n",
    "test_dir2 = r\"D:\\Work\\3rd_pj\\K_Food_images_split2\\test2\"\n",
    "\n",
    "# 데이터 전처리 (이미지 증강 없이)\n",
    "train_datagen2 = ImageDataGenerator(preprocessing_function=preprocess_input)\n",
    "val_test_datagen2 = ImageDataGenerator(preprocessing_function=preprocess_input)\n",
    "\n",
    "train_generator2 = train_datagen2.flow_from_directory(\n",
    "    train_dir2,\n",
    "    target_size=(224, 224),\n",
    "    batch_size=16,\n",
    "    class_mode='categorical',\n",
    "    shuffle=True\n",
    ")\n",
    "\n",
    "val_generator2 = val_test_datagen2.flow_from_directory(\n",
    "    val_dir2,\n",
    "    target_size=(224, 224),\n",
    "    batch_size=16,\n",
    "    class_mode='categorical',\n",
    "    shuffle=True\n",
    ")\n",
    "\n",
    "test_generator2 = val_test_datagen2.flow_from_directory(\n",
    "    test_dir2,\n",
    "    target_size=(224, 224),\n",
    "    batch_size=16,\n",
    "    class_mode='categorical',\n",
    "    shuffle=False\n",
    ")"
   ]
  },
  {
   "cell_type": "code",
   "execution_count": 6,
   "metadata": {},
   "outputs": [],
   "source": [
    "# 모델 정의\n",
    "def create_model(num_classes):\n",
    "    base_model = ResNet101(weights='imagenet', include_top=False, input_shape=(224, 224, 3))\n",
    "    base_model.trainable = False  # Pre-trained 가중치 고정\n",
    "    model = models.Sequential([\n",
    "        base_model,\n",
    "        layers.GlobalAveragePooling2D(),\n",
    "        layers.Dense(num_classes, activation='softmax')\n",
    "    ])\n",
    "    return model\n",
    "\n",
    "# 모델 학습\n",
    "def train_model():\n",
    "    num_classes = 150  # 클래스 수\n",
    "    model_rn101 = create_model(num_classes)  # 모델 생성\n",
    "\n",
    "    # 옵티마이저 정의\n",
    "    optimizer = tf.keras.optimizers.legacy.SGD(\n",
    "        learning_rate=0.01, momentum=0.9, decay=0.0001\n",
    "    )\n",
    "\n",
    "    model_rn101.compile(\n",
    "        optimizer=optimizer,\n",
    "        loss='categorical_crossentropy',\n",
    "        metrics=['accuracy']\n",
    "    )\n",
    "\n",
    "    # 콜백 설정\n",
    "    early_stopping = EarlyStopping(\n",
    "        monitor='val_loss', patience=5, restore_best_weights=True, verbose=1\n",
    "    )\n",
    "\n",
    "    model_checkpoint = ModelCheckpoint(\n",
    "        'best_model_rn101.h5', save_best_only=True, monitor='val_loss', verbose=1\n",
    "    )\n",
    "\n",
    "    reduce_lr = ReduceLROnPlateau(\n",
    "        monitor='val_loss', factor=0.5, patience=3, verbose=1\n",
    "    )\n",
    "\n",
    "    callbacks = [early_stopping, model_checkpoint, reduce_lr]\n",
    "\n",
    "    # 학습\n",
    "    model_rn101.fit(\n",
    "        train_generator2,\n",
    "        validation_data=val_generator2,\n",
    "        epochs=50,\n",
    "        callbacks=callbacks\n",
    "    )\n",
    "\n",
    "    # 테스트 데이터셋 평가\n",
    "    print(\"\\nEvaluating on the test dataset...\")\n",
    "    test_loss, test_accuracy = model_rn101.evaluate(test_generator2)\n",
    "    print(f\"Test Loss: {test_loss:.4f}\")\n",
    "    print(f\"Test Accuracy: {test_accuracy:.2f}\")\n",
    "\n",
    "    # 최종 모델 저장\n",
    "    model_rn101.save('resnet101_korean_food_final.h5')\n"
   ]
  },
  {
   "cell_type": "code",
   "execution_count": 7,
   "metadata": {},
   "outputs": [
    {
     "name": "stdout",
     "output_type": "stream",
     "text": [
      "WARNING:tensorflow:From c:\\Users\\human\\.conda\\envs\\human-dl-env2\\lib\\site-packages\\keras\\src\\backend.py:1398: The name tf.executing_eagerly_outside_functions is deprecated. Please use tf.compat.v1.executing_eagerly_outside_functions instead.\n",
      "\n",
      "WARNING:tensorflow:From c:\\Users\\human\\.conda\\envs\\human-dl-env2\\lib\\site-packages\\keras\\src\\layers\\normalization\\batch_normalization.py:979: The name tf.nn.fused_batch_norm is deprecated. Please use tf.compat.v1.nn.fused_batch_norm instead.\n",
      "\n",
      "Epoch 1/50\n",
      "WARNING:tensorflow:From c:\\Users\\human\\.conda\\envs\\human-dl-env2\\lib\\site-packages\\keras\\src\\utils\\tf_utils.py:492: The name tf.ragged.RaggedTensorValue is deprecated. Please use tf.compat.v1.ragged.RaggedTensorValue instead.\n",
      "\n",
      "WARNING:tensorflow:From c:\\Users\\human\\.conda\\envs\\human-dl-env2\\lib\\site-packages\\keras\\src\\engine\\base_layer_utils.py:384: The name tf.executing_eagerly_outside_functions is deprecated. Please use tf.compat.v1.executing_eagerly_outside_functions instead.\n",
      "\n",
      "  58/6563 [..............................] - ETA: 2:54:11 - loss: 5.8661 - accuracy: 0.0614"
     ]
    },
    {
     "name": "stderr",
     "output_type": "stream",
     "text": [
      "c:\\Users\\human\\.conda\\envs\\human-dl-env2\\lib\\site-packages\\PIL\\Image.py:1056: UserWarning: Palette images with Transparency expressed in bytes should be converted to RGBA images\n",
      "  warnings.warn(\n"
     ]
    },
    {
     "name": "stdout",
     "output_type": "stream",
     "text": [
      "3021/6563 [============>.................] - ETA: 1:25:18 - loss: 3.7073 - accuracy: 0.4172"
     ]
    },
    {
     "name": "stderr",
     "output_type": "stream",
     "text": [
      "c:\\Users\\human\\.conda\\envs\\human-dl-env2\\lib\\site-packages\\PIL\\TiffImagePlugin.py:900: UserWarning: Truncated File Read\n",
      "  warnings.warn(str(msg))\n"
     ]
    },
    {
     "name": "stdout",
     "output_type": "stream",
     "text": [
      "6563/6563 [==============================] - ETA: 0s - loss: 3.1852 - accuracy: 0.4822\n",
      "Epoch 1: val_loss improved from inf to 2.42743, saving model to best_model_rn101.h5\n"
     ]
    },
    {
     "name": "stderr",
     "output_type": "stream",
     "text": [
      "c:\\Users\\human\\.conda\\envs\\human-dl-env2\\lib\\site-packages\\keras\\src\\engine\\training.py:3103: UserWarning: You are saving your model as an HDF5 file via `model.save()`. This file format is considered legacy. We recommend using instead the native Keras format, e.g. `model.save('my_model.keras')`.\n",
      "  saving_api.save_model(\n"
     ]
    },
    {
     "name": "stdout",
     "output_type": "stream",
     "text": [
      "6563/6563 [==============================] - 10863s 2s/step - loss: 3.1852 - accuracy: 0.4822 - val_loss: 2.4274 - val_accuracy: 0.5714 - lr: 0.0100\n",
      "Epoch 2/50\n",
      "6563/6563 [==============================] - ETA: 0s - loss: 1.6513 - accuracy: 0.6475\n",
      "Epoch 2: val_loss improved from 2.42743 to 1.92289, saving model to best_model_rn101.h5\n",
      "6563/6563 [==============================] - 10575s 2s/step - loss: 1.6513 - accuracy: 0.6475 - val_loss: 1.9229 - val_accuracy: 0.6071 - lr: 0.0100\n",
      "Epoch 3/50\n",
      "6563/6563 [==============================] - ETA: 0s - loss: 1.1120 - accuracy: 0.7198\n",
      "Epoch 3: val_loss improved from 1.92289 to 1.58462, saving model to best_model_rn101.h5\n",
      "6563/6563 [==============================] - 10510s 2s/step - loss: 1.1120 - accuracy: 0.7198 - val_loss: 1.5846 - val_accuracy: 0.6450 - lr: 0.0100\n",
      "Epoch 4/50\n",
      "6563/6563 [==============================] - ETA: 0s - loss: 0.8617 - accuracy: 0.7657\n",
      "Epoch 4: val_loss improved from 1.58462 to 1.43235, saving model to best_model_rn101.h5\n",
      "6563/6563 [==============================] - 10512s 2s/step - loss: 0.8617 - accuracy: 0.7657 - val_loss: 1.4323 - val_accuracy: 0.6647 - lr: 0.0100\n",
      "Epoch 5/50\n",
      "6563/6563 [==============================] - ETA: 0s - loss: 0.7174 - accuracy: 0.7983\n",
      "Epoch 5: val_loss improved from 1.43235 to 1.38837, saving model to best_model_rn101.h5\n",
      "6563/6563 [==============================] - 10487s 2s/step - loss: 0.7174 - accuracy: 0.7983 - val_loss: 1.3884 - val_accuracy: 0.6673 - lr: 0.0100\n",
      "Epoch 6/50\n",
      "6563/6563 [==============================] - ETA: 0s - loss: 0.6269 - accuracy: 0.8208\n",
      "Epoch 6: val_loss improved from 1.38837 to 1.33077, saving model to best_model_rn101.h5\n",
      "6563/6563 [==============================] - 11014s 2s/step - loss: 0.6269 - accuracy: 0.8208 - val_loss: 1.3308 - val_accuracy: 0.6791 - lr: 0.0100\n",
      "Epoch 7/50\n",
      "6563/6563 [==============================] - ETA: 0s - loss: 0.5657 - accuracy: 0.8381\n",
      "Epoch 7: val_loss improved from 1.33077 to 1.29741, saving model to best_model_rn101.h5\n",
      "6563/6563 [==============================] - 11354s 2s/step - loss: 0.5657 - accuracy: 0.8381 - val_loss: 1.2974 - val_accuracy: 0.6824 - lr: 0.0100\n",
      "Epoch 8/50\n",
      "6563/6563 [==============================] - ETA: 0s - loss: 0.5196 - accuracy: 0.8534\n",
      "Epoch 8: val_loss improved from 1.29741 to 1.27879, saving model to best_model_rn101.h5\n",
      "6563/6563 [==============================] - 12712s 2s/step - loss: 0.5196 - accuracy: 0.8534 - val_loss: 1.2788 - val_accuracy: 0.6872 - lr: 0.0100\n",
      "Epoch 9/50\n",
      "6563/6563 [==============================] - ETA: 0s - loss: 0.4870 - accuracy: 0.8640\n",
      "Epoch 9: val_loss improved from 1.27879 to 1.26295, saving model to best_model_rn101.h5\n",
      "6563/6563 [==============================] - 11240s 2s/step - loss: 0.4870 - accuracy: 0.8640 - val_loss: 1.2629 - val_accuracy: 0.6873 - lr: 0.0100\n",
      "Epoch 10/50\n",
      "6563/6563 [==============================] - ETA: 0s - loss: 0.4608 - accuracy: 0.8746\n",
      "Epoch 10: val_loss improved from 1.26295 to 1.25325, saving model to best_model_rn101.h5\n",
      "6563/6563 [==============================] - 10790s 2s/step - loss: 0.4608 - accuracy: 0.8746 - val_loss: 1.2532 - val_accuracy: 0.6884 - lr: 0.0100\n",
      "Epoch 11/50\n",
      "6563/6563 [==============================] - ETA: 0s - loss: 0.4404 - accuracy: 0.8814\n",
      "Epoch 11: val_loss did not improve from 1.25325\n",
      "6563/6563 [==============================] - 10804s 2s/step - loss: 0.4404 - accuracy: 0.8814 - val_loss: 1.2562 - val_accuracy: 0.6884 - lr: 0.0100\n",
      "Epoch 12/50\n",
      "6563/6563 [==============================] - ETA: 0s - loss: 0.4226 - accuracy: 0.8884\n",
      "Epoch 12: val_loss improved from 1.25325 to 1.24129, saving model to best_model_rn101.h5\n",
      "6563/6563 [==============================] - 10789s 2s/step - loss: 0.4226 - accuracy: 0.8884 - val_loss: 1.2413 - val_accuracy: 0.6917 - lr: 0.0100\n",
      "Epoch 13/50\n",
      "6563/6563 [==============================] - ETA: 0s - loss: 0.4083 - accuracy: 0.8945\n",
      "Epoch 13: val_loss improved from 1.24129 to 1.23548, saving model to best_model_rn101.h5\n",
      "6563/6563 [==============================] - 10772s 2s/step - loss: 0.4083 - accuracy: 0.8945 - val_loss: 1.2355 - val_accuracy: 0.6911 - lr: 0.0100\n",
      "Epoch 14/50\n",
      "6563/6563 [==============================] - ETA: 0s - loss: 0.3952 - accuracy: 0.8992\n",
      "Epoch 14: val_loss improved from 1.23548 to 1.21737, saving model to best_model_rn101.h5\n",
      "6563/6563 [==============================] - 11493s 2s/step - loss: 0.3952 - accuracy: 0.8992 - val_loss: 1.2174 - val_accuracy: 0.6988 - lr: 0.0100\n",
      "Epoch 15/50\n",
      "6563/6563 [==============================] - ETA: 0s - loss: 0.3845 - accuracy: 0.9024\n",
      "Epoch 15: val_loss did not improve from 1.21737\n",
      "6563/6563 [==============================] - 11636s 2s/step - loss: 0.3845 - accuracy: 0.9024 - val_loss: 1.2253 - val_accuracy: 0.6960 - lr: 0.0100\n",
      "Epoch 16/50\n",
      "6563/6563 [==============================] - ETA: 0s - loss: 0.3751 - accuracy: 0.9069\n",
      "Epoch 16: val_loss did not improve from 1.21737\n",
      "6563/6563 [==============================] - 11283s 2s/step - loss: 0.3751 - accuracy: 0.9069 - val_loss: 1.2237 - val_accuracy: 0.6963 - lr: 0.0100\n",
      "Epoch 17/50\n",
      "6563/6563 [==============================] - ETA: 0s - loss: 0.3673 - accuracy: 0.9102\n",
      "Epoch 17: val_loss improved from 1.21737 to 1.21412, saving model to best_model_rn101.h5\n",
      "6563/6563 [==============================] - 10611s 2s/step - loss: 0.3673 - accuracy: 0.9102 - val_loss: 1.2141 - val_accuracy: 0.6982 - lr: 0.0100\n",
      "Epoch 18/50\n",
      "6563/6563 [==============================] - ETA: 0s - loss: 0.3595 - accuracy: 0.9129\n",
      "Epoch 18: val_loss did not improve from 1.21412\n",
      "6563/6563 [==============================] - 10596s 2s/step - loss: 0.3595 - accuracy: 0.9129 - val_loss: 1.2219 - val_accuracy: 0.6974 - lr: 0.0100\n",
      "Epoch 19/50\n",
      "6563/6563 [==============================] - ETA: 0s - loss: 0.3528 - accuracy: 0.9163\n",
      "Epoch 19: val_loss did not improve from 1.21412\n",
      "6563/6563 [==============================] - 10617s 2s/step - loss: 0.3528 - accuracy: 0.9163 - val_loss: 1.2161 - val_accuracy: 0.6989 - lr: 0.0100\n",
      "Epoch 20/50\n",
      "6563/6563 [==============================] - ETA: 0s - loss: 0.3471 - accuracy: 0.9182\n",
      "Epoch 20: val_loss did not improve from 1.21412\n",
      "\n",
      "Epoch 20: ReduceLROnPlateau reducing learning rate to 0.004999999888241291.\n",
      "6563/6563 [==============================] - 10611s 2s/step - loss: 0.3471 - accuracy: 0.9182 - val_loss: 1.2162 - val_accuracy: 0.6971 - lr: 0.0100\n",
      "Epoch 21/50\n",
      "6563/6563 [==============================] - ETA: 0s - loss: 0.3251 - accuracy: 0.9282\n",
      "Epoch 21: val_loss improved from 1.21412 to 1.20407, saving model to best_model_rn101.h5\n",
      "6563/6563 [==============================] - 10596s 2s/step - loss: 0.3251 - accuracy: 0.9282 - val_loss: 1.2041 - val_accuracy: 0.7004 - lr: 0.0050\n",
      "Epoch 22/50\n",
      "6563/6563 [==============================] - ETA: 0s - loss: 0.3224 - accuracy: 0.9292\n",
      "Epoch 22: val_loss did not improve from 1.20407\n",
      "6563/6563 [==============================] - 10620s 2s/step - loss: 0.3224 - accuracy: 0.9292 - val_loss: 1.2061 - val_accuracy: 0.7000 - lr: 0.0050\n",
      "Epoch 23/50\n",
      "6563/6563 [==============================] - ETA: 0s - loss: 0.3199 - accuracy: 0.9304\n",
      "Epoch 23: val_loss did not improve from 1.20407\n",
      "6563/6563 [==============================] - 10649s 2s/step - loss: 0.3199 - accuracy: 0.9304 - val_loss: 1.2051 - val_accuracy: 0.6988 - lr: 0.0050\n",
      "Epoch 24/50\n",
      "6563/6563 [==============================] - ETA: 0s - loss: 0.3176 - accuracy: 0.9315\n",
      "Epoch 24: val_loss improved from 1.20407 to 1.20353, saving model to best_model_rn101.h5\n",
      "6563/6563 [==============================] - 10588s 2s/step - loss: 0.3176 - accuracy: 0.9315 - val_loss: 1.2035 - val_accuracy: 0.6999 - lr: 0.0050\n",
      "Epoch 25/50\n",
      "6563/6563 [==============================] - ETA: 0s - loss: 0.3157 - accuracy: 0.9313\n",
      "Epoch 25: val_loss did not improve from 1.20353\n",
      "6563/6563 [==============================] - 10563s 2s/step - loss: 0.3157 - accuracy: 0.9313 - val_loss: 1.2043 - val_accuracy: 0.7001 - lr: 0.0050\n",
      "Epoch 26/50\n",
      "6563/6563 [==============================] - ETA: 0s - loss: 0.3141 - accuracy: 0.9320\n",
      "Epoch 26: val_loss did not improve from 1.20353\n",
      "6563/6563 [==============================] - 10558s 2s/step - loss: 0.3141 - accuracy: 0.9320 - val_loss: 1.2044 - val_accuracy: 0.7003 - lr: 0.0050\n",
      "Epoch 27/50\n",
      "6563/6563 [==============================] - ETA: 0s - loss: 0.3123 - accuracy: 0.9334\n",
      "Epoch 27: val_loss did not improve from 1.20353\n",
      "\n",
      "Epoch 27: ReduceLROnPlateau reducing learning rate to 0.0024999999441206455.\n",
      "6563/6563 [==============================] - 10559s 2s/step - loss: 0.3123 - accuracy: 0.9334 - val_loss: 1.2044 - val_accuracy: 0.7002 - lr: 0.0050\n",
      "Epoch 28/50\n",
      "6563/6563 [==============================] - ETA: 0s - loss: 0.3050 - accuracy: 0.9364\n",
      "Epoch 28: val_loss improved from 1.20353 to 1.20093, saving model to best_model_rn101.h5\n",
      "6563/6563 [==============================] - 10616s 2s/step - loss: 0.3050 - accuracy: 0.9364 - val_loss: 1.2009 - val_accuracy: 0.7009 - lr: 0.0025\n",
      "Epoch 29/50\n",
      "6563/6563 [==============================] - ETA: 0s - loss: 0.3039 - accuracy: 0.9373\n",
      "Epoch 29: val_loss did not improve from 1.20093\n",
      "6563/6563 [==============================] - 10566s 2s/step - loss: 0.3039 - accuracy: 0.9373 - val_loss: 1.2014 - val_accuracy: 0.7003 - lr: 0.0025\n",
      "Epoch 30/50\n",
      "6563/6563 [==============================] - ETA: 0s - loss: 0.3032 - accuracy: 0.9376\n",
      "Epoch 30: val_loss did not improve from 1.20093\n",
      "6563/6563 [==============================] - 11273s 2s/step - loss: 0.3032 - accuracy: 0.9376 - val_loss: 1.2010 - val_accuracy: 0.7009 - lr: 0.0025\n",
      "Epoch 31/50\n",
      "6563/6563 [==============================] - ETA: 0s - loss: 0.3023 - accuracy: 0.9378\n",
      "Epoch 31: val_loss improved from 1.20093 to 1.20038, saving model to best_model_rn101.h5\n",
      "6563/6563 [==============================] - 10959s 2s/step - loss: 0.3023 - accuracy: 0.9378 - val_loss: 1.2004 - val_accuracy: 0.7011 - lr: 0.0025\n",
      "Epoch 32/50\n",
      "6563/6563 [==============================] - ETA: 0s - loss: 0.3017 - accuracy: 0.9380\n",
      "Epoch 32: val_loss did not improve from 1.20038\n",
      "6563/6563 [==============================] - 10892s 2s/step - loss: 0.3017 - accuracy: 0.9380 - val_loss: 1.2012 - val_accuracy: 0.7025 - lr: 0.0025\n",
      "Epoch 33/50\n",
      "6563/6563 [==============================] - ETA: 0s - loss: 0.3013 - accuracy: 0.9381\n",
      "Epoch 33: val_loss did not improve from 1.20038\n",
      "6563/6563 [==============================] - 10645s 2s/step - loss: 0.3013 - accuracy: 0.9381 - val_loss: 1.2022 - val_accuracy: 0.7001 - lr: 0.0025\n",
      "Epoch 34/50\n",
      "6563/6563 [==============================] - ETA: 0s - loss: 0.3005 - accuracy: 0.9384\n",
      "Epoch 34: val_loss did not improve from 1.20038\n",
      "\n",
      "Epoch 34: ReduceLROnPlateau reducing learning rate to 0.0012499999720603228.\n",
      "6563/6563 [==============================] - 10581s 2s/step - loss: 0.3005 - accuracy: 0.9384 - val_loss: 1.2019 - val_accuracy: 0.7010 - lr: 0.0025\n",
      "Epoch 35/50\n",
      "6563/6563 [==============================] - ETA: 0s - loss: 0.2977 - accuracy: 0.9398\n",
      "Epoch 35: val_loss improved from 1.20038 to 1.19972, saving model to best_model_rn101.h5\n",
      "6563/6563 [==============================] - 10592s 2s/step - loss: 0.2977 - accuracy: 0.9398 - val_loss: 1.1997 - val_accuracy: 0.7010 - lr: 0.0012\n",
      "Epoch 36/50\n",
      "6563/6563 [==============================] - ETA: 0s - loss: 0.2973 - accuracy: 0.9397\n",
      "Epoch 36: val_loss improved from 1.19972 to 1.19966, saving model to best_model_rn101.h5\n",
      "6563/6563 [==============================] - 10600s 2s/step - loss: 0.2973 - accuracy: 0.9397 - val_loss: 1.1997 - val_accuracy: 0.7016 - lr: 0.0012\n",
      "Epoch 37/50\n",
      "6563/6563 [==============================] - ETA: 0s - loss: 0.2970 - accuracy: 0.9397\n",
      "Epoch 37: val_loss did not improve from 1.19966\n",
      "6563/6563 [==============================] - 10650s 2s/step - loss: 0.2970 - accuracy: 0.9397 - val_loss: 1.2003 - val_accuracy: 0.7016 - lr: 0.0012\n",
      "Epoch 38/50\n",
      "6563/6563 [==============================] - ETA: 0s - loss: 0.2967 - accuracy: 0.9401\n",
      "Epoch 38: val_loss did not improve from 1.19966\n",
      "\n",
      "Epoch 38: ReduceLROnPlateau reducing learning rate to 0.0006249999860301614.\n",
      "6563/6563 [==============================] - 10605s 2s/step - loss: 0.2967 - accuracy: 0.9401 - val_loss: 1.2002 - val_accuracy: 0.7012 - lr: 0.0012\n",
      "Epoch 39/50\n",
      "6563/6563 [==============================] - ETA: 0s - loss: 0.2955 - accuracy: 0.9408\n",
      "Epoch 39: val_loss did not improve from 1.19966\n",
      "6563/6563 [==============================] - 10582s 2s/step - loss: 0.2955 - accuracy: 0.9408 - val_loss: 1.1999 - val_accuracy: 0.7010 - lr: 6.2500e-04\n",
      "Epoch 40/50\n",
      "6563/6563 [==============================] - ETA: 0s - loss: 0.2952 - accuracy: 0.9410\n",
      "Epoch 40: val_loss did not improve from 1.19966\n",
      "6563/6563 [==============================] - 10549s 2s/step - loss: 0.2952 - accuracy: 0.9410 - val_loss: 1.1998 - val_accuracy: 0.7021 - lr: 6.2500e-04\n",
      "Epoch 41/50\n",
      "6563/6563 [==============================] - ETA: 0s - loss: 0.2952 - accuracy: 0.9411\n",
      "Epoch 41: val_loss improved from 1.19966 to 1.19952, saving model to best_model_rn101.h5\n",
      "6563/6563 [==============================] - 10319s 2s/step - loss: 0.2952 - accuracy: 0.9411 - val_loss: 1.1995 - val_accuracy: 0.7013 - lr: 6.2500e-04\n",
      "Epoch 42/50\n",
      "6563/6563 [==============================] - ETA: 0s - loss: 0.2950 - accuracy: 0.9410\n",
      "Epoch 42: val_loss did not improve from 1.19952\n",
      "6563/6563 [==============================] - 10528s 2s/step - loss: 0.2950 - accuracy: 0.9410 - val_loss: 1.1999 - val_accuracy: 0.7014 - lr: 6.2500e-04\n",
      "Epoch 43/50\n",
      "6563/6563 [==============================] - ETA: 0s - loss: 0.2949 - accuracy: 0.9410\n",
      "Epoch 43: val_loss did not improve from 1.19952\n",
      "6563/6563 [==============================] - 10567s 2s/step - loss: 0.2949 - accuracy: 0.9410 - val_loss: 1.1996 - val_accuracy: 0.7025 - lr: 6.2500e-04\n",
      "Epoch 44/50\n",
      "6563/6563 [==============================] - ETA: 0s - loss: 0.2948 - accuracy: 0.9411\n",
      "Epoch 44: val_loss did not improve from 1.19952\n",
      "\n",
      "Epoch 44: ReduceLROnPlateau reducing learning rate to 0.0003124999930150807.\n",
      "6563/6563 [==============================] - 10567s 2s/step - loss: 0.2948 - accuracy: 0.9411 - val_loss: 1.1996 - val_accuracy: 0.7013 - lr: 6.2500e-04\n",
      "Epoch 45/50\n",
      "6563/6563 [==============================] - ETA: 0s - loss: 0.2942 - accuracy: 0.9413\n",
      "Epoch 45: val_loss did not improve from 1.19952\n",
      "6563/6563 [==============================] - 10589s 2s/step - loss: 0.2942 - accuracy: 0.9413 - val_loss: 1.1996 - val_accuracy: 0.7011 - lr: 3.1250e-04\n",
      "Epoch 46/50\n",
      "6563/6563 [==============================] - ETA: 0s - loss: 0.2941 - accuracy: 0.9414Restoring model weights from the end of the best epoch: 41.\n",
      "\n",
      "Epoch 46: val_loss did not improve from 1.19952\n",
      "6563/6563 [==============================] - 10680s 2s/step - loss: 0.2941 - accuracy: 0.9414 - val_loss: 1.1997 - val_accuracy: 0.7020 - lr: 3.1250e-04\n",
      "Epoch 46: early stopping\n",
      "\n",
      "Evaluating on the test dataset...\n",
      "1313/1313 [==============================] - 1774s 1s/step - loss: 1.1941 - accuracy: 0.7010\n",
      "Test Loss: 1.1941\n",
      "Test Accuracy: 0.70\n"
     ]
    }
   ],
   "source": [
    "# 실행\n",
    "train_model()"
   ]
  },
  {
   "cell_type": "markdown",
   "metadata": {},
   "source": [
    "### EfficientNetB0"
   ]
  },
  {
   "cell_type": "code",
   "execution_count": null,
   "metadata": {},
   "outputs": [],
   "source": [
    "# EfficientNetB0 모델 불러오기 (include_top=False)\n",
    "base_model_EN = EfficientNetB0(weights='imagenet', include_top=False, input_shape=(224, 224, 3))\n",
    "\n",
    "# block7 이후부터 학습 가능하도록 설정\n",
    "freeze_until_block7 = False  # False이면 동결 시작, True이면 학습 가능 시작\n",
    "\n",
    "# 모든 레이어를 동결(freeze) 시킴\n",
    "for layer in base_model.layers:\n",
    "    layer.trainable = False\n",
    "\n",
    "# block7 레이어 이후부터 학습 가능하도록 설정\n",
    "start_fine_tuning = False  # True로 설정하면 block7부터 학습 가능\n",
    "\n",
    "# block7a_expand_conv 부터 학습 가능하도록 설정\n",
    "for layer in base_model.layers:\n",
    "    if layer.name == 'block7a_expand_conv':  # block7a_expand_conv부터 학습 가능\n",
    "        start_fine_tuning = True\n",
    "    if start_fine_tuning:\n",
    "        layer.trainable = True"
   ]
  },
  {
   "cell_type": "code",
   "execution_count": null,
   "metadata": {},
   "outputs": [],
   "source": [
    "# 모델 컴파일\n",
    "model.compile(optimizer=optimizers.Adam(learning_rate=0.001),\n",
    "              loss='categorical_crossentropy',\n",
    "              metrics=['accuracy'])"
   ]
  },
  {
   "cell_type": "code",
   "execution_count": null,
   "metadata": {},
   "outputs": [],
   "source": [
    "# 콜백 설정\n",
    "early_stopping = EarlyStopping(\n",
    "    monitor='val_loss', patience=5, restore_best_weights=True, verbose=1\n",
    ")\n",
    "\n",
    "model_checkpoint = ModelCheckpoint(\n",
    "    'best_model.h5', save_best_only=True, monitor='val_loss', verbose=1\n",
    ")\n",
    "\n",
    "reduce_lr = ReduceLROnPlateau(\n",
    "    monitor='val_loss', factor=0.5, patience=3, verbose=1\n",
    ")\n",
    "\n",
    "callbacks = [early_stopping, model_checkpoint, reduce_lr]"
   ]
  },
  {
   "cell_type": "code",
   "execution_count": null,
   "metadata": {},
   "outputs": [],
   "source": [
    "# 학습\n",
    "history1_2 = model1_2.fit(\n",
    "    train_generator,\n",
    "    epochs=50,\n",
    "    validation_data=val_generator,\n",
    "    callbacks=callbacks,\n",
    "    verbose=1\n",
    ")"
   ]
  },
  {
   "cell_type": "code",
   "execution_count": null,
   "metadata": {},
   "outputs": [],
   "source": [
    "# 모델 평가\n",
    "test_loss, test_acc = model1_2.evaluate(test_generator)\n",
    "print(\"Test Accuracy:\", test_acc)  # 소수점을 자르지 않고 출력"
   ]
  },
  {
   "cell_type": "code",
   "execution_count": null,
   "metadata": {},
   "outputs": [],
   "source": [
    "# 학습 및 검증 정확도 그래프\n",
    "plt.plot(history1_2.epoch, history1_2.history['accuracy'], label = \"train_accuracy\", c='blue')\n",
    "plt.plot(history1_2.epoch, history1_2.history['val_accuracy'], label = \"validation_accuracy\", c='skyblue', marker='o')\n",
    "plt.xlabel('Epochs')\n",
    "plt.ylabel('Accuracy')\n",
    "plt.legend()\n",
    "plt.show()\n",
    "\n",
    "# 학습 및 검증 손실 그래프\n",
    "plt.plot(history1_2.epoch, history1_2.history['loss'], label = \"train_loss\", c='salmon')\n",
    "plt.plot(history1_2.epoch, history1_2.history['val_loss'], label = \"validation_loss\", c='orange', marker='o')\n",
    "plt.xlabel('Epochs')\n",
    "plt.ylabel('Loss')\n",
    "plt.legend()\n",
    "plt.show()"
   ]
  }
 ],
 "metadata": {
  "kernelspec": {
   "display_name": "human-dl-env2",
   "language": "python",
   "name": "python3"
  },
  "language_info": {
   "codemirror_mode": {
    "name": "ipython",
    "version": 3
   },
   "file_extension": ".py",
   "mimetype": "text/x-python",
   "name": "python",
   "nbconvert_exporter": "python",
   "pygments_lexer": "ipython3",
   "version": "3.9.21"
  }
 },
 "nbformat": 4,
 "nbformat_minor": 2
}
