{
 "cells": [
  {
   "cell_type": "code",
   "execution_count": 4,
   "metadata": {},
   "outputs": [],
   "source": [
    "from PIL import Image\n",
    "import os\n",
    "\n",
    "# 원본 이미지 폴더와 저장 폴더 설정\n",
    "source_root = r\"D:\\Work\\3rd_pj\\K_Food_images_split2\"\n",
    "target_root = r\"D:\\Work\\3rd_pj\\K_food_for_corab\"\n",
    "\n",
    "# 폴더 이름 맵핑\n",
    "folders = {\n",
    "    \"train2\": \"train\",\n",
    "    \"test2\": \"test\",\n",
    "    \"val2\": \"validation\"\n",
    "}"
   ]
  },
  {
   "cell_type": "code",
   "execution_count": 5,
   "metadata": {},
   "outputs": [],
   "source": [
    "# 다운사이징 설정\n",
    "target_size = (256, 256)  # 이미지 크기 조정 (256x256)\n",
    "\n",
    "# 이미지를 처리하고 저장\n",
    "def resize_and_save_images(source_root, target_root, folders, target_size):\n",
    "    for source_subfolder, target_subfolder in folders.items():\n",
    "        source_path = os.path.join(source_root, source_subfolder)\n",
    "        target_path = os.path.join(target_root, target_subfolder)\n",
    "        \n",
    "        # 하위 디렉토리 구조 유지\n",
    "        os.makedirs(target_path, exist_ok=True)\n",
    "        \n",
    "        # 각 음식 폴더를 순회\n",
    "        for class_name in os.listdir(source_path):\n",
    "            source_class_path = os.path.join(source_path, class_name)\n",
    "            target_class_path = os.path.join(target_path, class_name)\n",
    "            os.makedirs(target_class_path, exist_ok=True)\n",
    "            \n",
    "            # 각 음식 이미지 순회\n",
    "            for img_name in os.listdir(source_class_path):\n",
    "                source_img_path = os.path.join(source_class_path, img_name)\n",
    "                target_img_path = os.path.join(target_class_path, img_name)\n",
    "                \n",
    "                try:\n",
    "                    # 이미지 열기\n",
    "                    with Image.open(source_img_path) as img:\n",
    "                        # RGBA 또는 P 모드를 RGB로 변환\n",
    "                        if img.mode in (\"RGBA\", \"P\"):\n",
    "                            img = img.convert(\"RGB\")\n",
    "                        \n",
    "                        # 크기 조정 및 저장\n",
    "                        img_resized = img.resize(target_size)\n",
    "                        img_resized.save(target_img_path, \"JPEG\", quality=85)\n",
    "                except Exception as e:\n",
    "                    print(f\"Failed to process {source_img_path}: {e}\")"
   ]
  },
  {
   "cell_type": "code",
   "execution_count": 6,
   "metadata": {},
   "outputs": [
    {
     "name": "stderr",
     "output_type": "stream",
     "text": [
      "c:\\Users\\human\\.conda\\envs\\human-dl-env2\\lib\\site-packages\\PIL\\TiffImagePlugin.py:900: UserWarning: Truncated File Read\n",
      "  warnings.warn(str(msg))\n",
      "c:\\Users\\human\\.conda\\envs\\human-dl-env2\\lib\\site-packages\\PIL\\Image.py:1056: UserWarning: Palette images with Transparency expressed in bytes should be converted to RGBA images\n",
      "  warnings.warn(\n"
     ]
    },
    {
     "name": "stdout",
     "output_type": "stream",
     "text": [
      "Resizing and saving completed.\n"
     ]
    }
   ],
   "source": [
    "# 실행\n",
    "resize_and_save_images(source_root, target_root, folders, target_size)\n",
    "print(\"Resizing and saving completed.\")"
   ]
  },
  {
   "cell_type": "code",
   "execution_count": null,
   "metadata": {},
   "outputs": [],
   "source": []
  }
 ],
 "metadata": {
  "kernelspec": {
   "display_name": "human-dl-env2",
   "language": "python",
   "name": "python3"
  },
  "language_info": {
   "codemirror_mode": {
    "name": "ipython",
    "version": 3
   },
   "file_extension": ".py",
   "mimetype": "text/x-python",
   "name": "python",
   "nbconvert_exporter": "python",
   "pygments_lexer": "ipython3",
   "version": "3.9.21"
  }
 },
 "nbformat": 4,
 "nbformat_minor": 2
}
