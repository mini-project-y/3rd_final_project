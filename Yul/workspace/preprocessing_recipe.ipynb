{
 "cells": [
  {
   "cell_type": "code",
   "execution_count": 89,
   "metadata": {
    "colab": {
     "base_uri": "https://localhost:8080/"
    },
    "executionInfo": {
     "elapsed": 18550,
     "status": "ok",
     "timestamp": 1736325087266,
     "user": {
      "displayName": "이유리",
      "userId": "07944853073863522042"
     },
     "user_tz": -540
    },
    "id": "ehQO26i1knK3",
    "outputId": "36c549b0-5f98-4b99-e93d-7e214a629e96"
   },
   "outputs": [],
   "source": [
    "# from google.colab import drive\n",
    "# drive.mount('/content/drive')"
   ]
  },
  {
   "cell_type": "code",
   "execution_count": 90,
   "metadata": {
    "executionInfo": {
     "elapsed": 3404,
     "status": "ok",
     "timestamp": 1736325090666,
     "user": {
      "displayName": "이유리",
      "userId": "07944853073863522042"
     },
     "user_tz": -540
    },
    "id": "8oBgUXjOkEAM"
   },
   "outputs": [],
   "source": [
    "import pandas as pd\n",
    "import numpy as np\n",
    "import matplotlib.pyplot as plt\n",
    "import seaborn as sns\n",
    "import re"
   ]
  },
  {
   "cell_type": "code",
   "execution_count": 91,
   "metadata": {
    "executionInfo": {
     "elapsed": 2181,
     "status": "ok",
     "timestamp": 1736325110103,
     "user": {
      "displayName": "이유리",
      "userId": "07944853073863522042"
     },
     "user_tz": -540
    },
    "id": "hvbEGJ_2kEAO"
   },
   "outputs": [],
   "source": [
    "recipe_df = pd.read_csv(\"../data_preprocessing/recipe_6000_by_Mook.csv\")"
   ]
  },
  {
   "cell_type": "code",
   "execution_count": 92,
   "metadata": {
    "colab": {
     "base_uri": "https://localhost:8080/"
    },
    "executionInfo": {
     "elapsed": 7,
     "status": "ok",
     "timestamp": 1736325110104,
     "user": {
      "displayName": "이유리",
      "userId": "07944853073863522042"
     },
     "user_tz": -540
    },
    "id": "4aKuurh7kEAP",
    "outputId": "5ca6043a-8766-42bf-d787-66881d84072f"
   },
   "outputs": [
    {
     "name": "stdout",
     "output_type": "stream",
     "text": [
      "<class 'pandas.core.frame.DataFrame'>\n",
      "RangeIndex: 5969 entries, 0 to 5968\n",
      "Data columns (total 20 columns):\n",
      " #   Column            Non-Null Count  Dtype \n",
      "---  ------            --------------  ----- \n",
      " 0   RCP_SNO           5969 non-null   int64 \n",
      " 1   RCP_TTL           5969 non-null   object\n",
      " 2   CKG_NM            5968 non-null   object\n",
      " 3   RGTR_ID           5969 non-null   object\n",
      " 4   RGTR_NM           5969 non-null   object\n",
      " 5   INQ_CNT           5969 non-null   int64 \n",
      " 6   RCMM_CNT          5969 non-null   int64 \n",
      " 7   SRAP_CNT          5969 non-null   int64 \n",
      " 8   CKG_MTH_ACTO_NM   5968 non-null   object\n",
      " 9   CKG_STA_ACTO_NM   5941 non-null   object\n",
      " 10  CKG_MTRL_ACTO_NM  5969 non-null   object\n",
      " 11  CKG_KND_ACTO_NM   5969 non-null   object\n",
      " 12  CKG_IPDC          5968 non-null   object\n",
      " 13  CKG_MTRL_CN       5969 non-null   object\n",
      " 14  CKG_INBUN_NM      5431 non-null   object\n",
      " 15  CKG_DODF_NM       5969 non-null   object\n",
      " 16  CKG_TIME_NM       4709 non-null   object\n",
      " 17  FIRST_REG_DT      5969 non-null   int64 \n",
      " 18  RCP_IMG_URL       5965 non-null   object\n",
      " 19  대표명칭              5968 non-null   object\n",
      "dtypes: int64(5), object(15)\n",
      "memory usage: 932.8+ KB\n"
     ]
    }
   ],
   "source": [
    "recipe_df.info()"
   ]
  },
  {
   "cell_type": "code",
   "execution_count": 93,
   "metadata": {},
   "outputs": [
    {
     "data": {
      "text/plain": [
       "RCP_SNO                0\n",
       "RCP_TTL                0\n",
       "CKG_NM                 1\n",
       "RGTR_ID                0\n",
       "RGTR_NM                0\n",
       "INQ_CNT                0\n",
       "RCMM_CNT               0\n",
       "SRAP_CNT               0\n",
       "CKG_MTH_ACTO_NM        1\n",
       "CKG_STA_ACTO_NM       28\n",
       "CKG_MTRL_ACTO_NM       0\n",
       "CKG_KND_ACTO_NM        0\n",
       "CKG_IPDC               1\n",
       "CKG_MTRL_CN            0\n",
       "CKG_INBUN_NM         538\n",
       "CKG_DODF_NM            0\n",
       "CKG_TIME_NM         1260\n",
       "FIRST_REG_DT           0\n",
       "RCP_IMG_URL            4\n",
       "대표명칭                   1\n",
       "dtype: int64"
      ]
     },
     "execution_count": 93,
     "metadata": {},
     "output_type": "execute_result"
    }
   ],
   "source": [
    "recipe_df.isna().sum()"
   ]
  },
  {
   "cell_type": "code",
   "execution_count": 94,
   "metadata": {
    "executionInfo": {
     "elapsed": 1302,
     "status": "ok",
     "timestamp": 1736325116979,
     "user": {
      "displayName": "이유리",
      "userId": "07944853073863522042"
     },
     "user_tz": -540
    },
    "id": "22hvh328kEAQ"
   },
   "outputs": [],
   "source": [
    "recipe_df = recipe_df.dropna(subset=\"CKG_NM\")"
   ]
  },
  {
   "cell_type": "code",
   "execution_count": 95,
   "metadata": {
    "colab": {
     "base_uri": "https://localhost:8080/"
    },
    "executionInfo": {
     "elapsed": 9,
     "status": "ok",
     "timestamp": 1736325116981,
     "user": {
      "displayName": "이유리",
      "userId": "07944853073863522042"
     },
     "user_tz": -540
    },
    "id": "KPxLOlwskEAR",
    "outputId": "0762bae2-1677-41c8-b3fd-f1f469c4157f"
   },
   "outputs": [
    {
     "data": {
      "text/plain": [
       "RCP_SNO                0\n",
       "RCP_TTL                0\n",
       "CKG_NM                 0\n",
       "RGTR_ID                0\n",
       "RGTR_NM                0\n",
       "INQ_CNT                0\n",
       "RCMM_CNT               0\n",
       "SRAP_CNT               0\n",
       "CKG_MTH_ACTO_NM        1\n",
       "CKG_STA_ACTO_NM       28\n",
       "CKG_MTRL_ACTO_NM       0\n",
       "CKG_KND_ACTO_NM        0\n",
       "CKG_IPDC               1\n",
       "CKG_MTRL_CN            0\n",
       "CKG_INBUN_NM         537\n",
       "CKG_DODF_NM            0\n",
       "CKG_TIME_NM         1259\n",
       "FIRST_REG_DT           0\n",
       "RCP_IMG_URL            4\n",
       "대표명칭                   0\n",
       "dtype: int64"
      ]
     },
     "execution_count": 95,
     "metadata": {},
     "output_type": "execute_result"
    }
   ],
   "source": [
    "recipe_df.isna().sum()"
   ]
  },
  {
   "cell_type": "code",
   "execution_count": 96,
   "metadata": {
    "colab": {
     "base_uri": "https://localhost:8080/"
    },
    "executionInfo": {
     "elapsed": 374,
     "status": "ok",
     "timestamp": 1736325201731,
     "user": {
      "displayName": "이유리",
      "userId": "07944853073863522042"
     },
     "user_tz": -540
    },
    "id": "gYfZKRMxCxNF",
    "outputId": "1d9c4e90-faed-439e-a88e-5ac7621af454"
   },
   "outputs": [
    {
     "data": {
      "text/plain": [
       "array(['절임', '끓이기', '기타', '조림', '찜', '무침', '삶기', '볶음', '부침', '비빔', '굽기',\n",
       "       '데치기', '튀김', '회', nan], dtype=object)"
      ]
     },
     "execution_count": 96,
     "metadata": {},
     "output_type": "execute_result"
    }
   ],
   "source": [
    "recipe_df['CKG_MTH_ACTO_NM'].unique()"
   ]
  },
  {
   "cell_type": "code",
   "execution_count": 97,
   "metadata": {
    "colab": {
     "base_uri": "https://localhost:8080/"
    },
    "executionInfo": {
     "elapsed": 15,
     "status": "ok",
     "timestamp": 1736325202306,
     "user": {
      "displayName": "이유리",
      "userId": "07944853073863522042"
     },
     "user_tz": -540
    },
    "id": "vv4O4WgdCsN2",
    "outputId": "912578d9-b9dc-406e-cede-07f0d30f627f"
   },
   "outputs": [
    {
     "data": {
      "text/plain": [
       "array(['채소류', '닭고기', '기타', '과일류', '콩/견과류', '돼지고기', '가공식품류', '건어물류', '밀가루',\n",
       "       '소고기', '곡류', '버섯류', '해물류', '달걀/유제품', '쌀', '육류'], dtype=object)"
      ]
     },
     "execution_count": 97,
     "metadata": {},
     "output_type": "execute_result"
    }
   ],
   "source": [
    "recipe_df['CKG_MTRL_ACTO_NM'].unique()"
   ]
  },
  {
   "cell_type": "code",
   "execution_count": 98,
   "metadata": {
    "colab": {
     "base_uri": "https://localhost:8080/"
    },
    "executionInfo": {
     "elapsed": 10,
     "status": "ok",
     "timestamp": 1736325202307,
     "user": {
      "displayName": "이유리",
      "userId": "07944853073863522042"
     },
     "user_tz": -540
    },
    "id": "bLcDyOcJC8Hw",
    "outputId": "47061c3e-9904-46ab-f094-d840d1996f90"
   },
   "outputs": [
    {
     "data": {
      "text/plain": [
       "array(['김치/젓갈/장류', '메인반찬', '밑반찬', '밥/죽/떡', '차/음료/술', '찌개', '국/탕', '양식',\n",
       "       '면/만두', '양념/소스/잼', '과자', '기타', '디저트', '스프', '퓨전', '샐러드', '빵'],\n",
       "      dtype=object)"
      ]
     },
     "execution_count": 98,
     "metadata": {},
     "output_type": "execute_result"
    }
   ],
   "source": [
    "recipe_df['CKG_KND_ACTO_NM'].unique()"
   ]
  },
  {
   "cell_type": "code",
   "execution_count": 99,
   "metadata": {
    "id": "H8WEnb-beSV1"
   },
   "outputs": [],
   "source": [
    "# recipe_df2 = recipe_df[['CKG_NM', 'INQ_CNT', 'RCMM_CNT', 'SRAP_CNT', 'CKG_MTH_ACTO_NM',\n",
    "#                         'CKG_MTRL_ACTO_NM', 'CKG_KND_ACTO_NM', 'CKG_MTRL_CN',]]"
   ]
  },
  {
   "cell_type": "code",
   "execution_count": 100,
   "metadata": {
    "id": "FjH8pf_nkEAS"
   },
   "outputs": [],
   "source": [
    "# recipe_df_clean = recipe_df2.dropna().reset_index(drop=True)\n",
    "# recipe_df_clean = recipe_df_clean.drop_duplicates(subset='CKG_NM').reset_index(drop=True)"
   ]
  },
  {
   "cell_type": "code",
   "execution_count": 103,
   "metadata": {
    "id": "_S2p886ru3Fd"
   },
   "outputs": [],
   "source": [
    "# 모든 데이터를 문자열로 변환 후 특수 문자 제거\n",
    "recipe_df[\"CKG_MTRL_CN\"] = recipe_df[\"CKG_MTRL_CN\"].astype(str)\n",
    "recipe_df[\"CKG_MTRL_CN\"] = recipe_df[\"CKG_MTRL_CN\"].str.replace(\"[^가-힣a-zA-Z0-9, ]\", \"\", regex=True)\n",
    "# recipe_df[\"CKG_MTRL_CN\"] = recipe_df[\"CKG_MTRL_CN\"].str.replace(\"[\\[\\]]\", \"\", regex=True)\n",
    "\n",
    "# 쉼표 기준 분리\n",
    "recipe_df[\"CKG_MTRL_CN\"] = recipe_df[\"CKG_MTRL_CN\"].str.split(\",\")"
   ]
  },
  {
   "cell_type": "code",
   "execution_count": 106,
   "metadata": {},
   "outputs": [
    {
     "data": {
      "text/plain": [
       "CKG_MTRL_CN\n",
       "<class 'list'>    5968\n",
       "Name: count, dtype: int64"
      ]
     },
     "execution_count": 106,
     "metadata": {},
     "output_type": "execute_result"
    }
   ],
   "source": [
    "# 데이터 타입 확인\n",
    "recipe_df[\"CKG_MTRL_CN\"].apply(type).value_counts()\n"
   ]
  },
  {
   "cell_type": "code",
   "execution_count": 107,
   "metadata": {},
   "outputs": [],
   "source": [
    "# 리스트 타입일 경우 처리\n",
    "def process_materials(value):\n",
    "    if isinstance(value, list):\n",
    "        return \", \".join(value)  # 리스트를 쉼표로 연결된 문자열로 변환\n",
    "    return value\n",
    "\n",
    "recipe_df[\"CKG_MTRL_CN\"] = recipe_df[\"CKG_MTRL_CN\"].apply(process_materials)"
   ]
  },
  {
   "cell_type": "code",
   "execution_count": 109,
   "metadata": {},
   "outputs": [
    {
     "data": {
      "text/html": [
       "<div>\n",
       "<style scoped>\n",
       "    .dataframe tbody tr th:only-of-type {\n",
       "        vertical-align: middle;\n",
       "    }\n",
       "\n",
       "    .dataframe tbody tr th {\n",
       "        vertical-align: top;\n",
       "    }\n",
       "\n",
       "    .dataframe thead th {\n",
       "        text-align: right;\n",
       "    }\n",
       "</style>\n",
       "<table border=\"1\" class=\"dataframe\">\n",
       "  <thead>\n",
       "    <tr style=\"text-align: right;\">\n",
       "      <th></th>\n",
       "      <th>RCP_SNO</th>\n",
       "      <th>RCP_TTL</th>\n",
       "      <th>CKG_NM</th>\n",
       "      <th>RGTR_ID</th>\n",
       "      <th>RGTR_NM</th>\n",
       "      <th>INQ_CNT</th>\n",
       "      <th>RCMM_CNT</th>\n",
       "      <th>SRAP_CNT</th>\n",
       "      <th>CKG_MTH_ACTO_NM</th>\n",
       "      <th>CKG_STA_ACTO_NM</th>\n",
       "      <th>CKG_MTRL_ACTO_NM</th>\n",
       "      <th>CKG_KND_ACTO_NM</th>\n",
       "      <th>CKG_IPDC</th>\n",
       "      <th>CKG_MTRL_CN</th>\n",
       "      <th>CKG_INBUN_NM</th>\n",
       "      <th>CKG_DODF_NM</th>\n",
       "      <th>CKG_TIME_NM</th>\n",
       "      <th>FIRST_REG_DT</th>\n",
       "      <th>RCP_IMG_URL</th>\n",
       "      <th>대표명칭</th>\n",
       "    </tr>\n",
       "  </thead>\n",
       "  <tbody>\n",
       "    <tr>\n",
       "      <th>0</th>\n",
       "      <td>7037475</td>\n",
       "      <td>실패할일 없는 김장김치양념 /절임배추20kg/ 김장김치 양념비율 황금레시피 /김장담그기</td>\n",
       "      <td>김장김치</td>\n",
       "      <td>kjo2456</td>\n",
       "      <td>김진옥요리가좋다</td>\n",
       "      <td>60777</td>\n",
       "      <td>0</td>\n",
       "      <td>52</td>\n",
       "      <td>절임</td>\n",
       "      <td>일상</td>\n",
       "      <td>채소류</td>\n",
       "      <td>김치/젓갈/장류</td>\n",
       "      <td>안녕하세요 김진옥입니다. 제가 반찬쇼핑몰 10년 운영했던것은 아시죠~ 그때 김장철에...</td>\n",
       "      <td>재료 절임배추20kg1상자 79포기 무1개1600g 채썰때 사용 홍갓400g 쪽파2...</td>\n",
       "      <td>6인분이상</td>\n",
       "      <td>중급</td>\n",
       "      <td>2시간이내</td>\n",
       "      <td>20241031052836</td>\n",
       "      <td>https://recipe1.ezmember.co.kr/cache/recipe/20...</td>\n",
       "      <td>김장김치</td>\n",
       "    </tr>\n",
       "    <tr>\n",
       "      <th>1</th>\n",
       "      <td>7022686</td>\n",
       "      <td>국물 닭볶음탕 황금레시피</td>\n",
       "      <td>국물닭볶음탕</td>\n",
       "      <td>81748884</td>\n",
       "      <td>요리하는쮸네</td>\n",
       "      <td>45495</td>\n",
       "      <td>0</td>\n",
       "      <td>35</td>\n",
       "      <td>끓이기</td>\n",
       "      <td>일상</td>\n",
       "      <td>닭고기</td>\n",
       "      <td>메인반찬</td>\n",
       "      <td>국물 닭볶음탕 황금레시피 알려드릴게요 : )</td>\n",
       "      <td>재료 절단 닭1kg 대파1대 양파12개 당근12개 감자4개 청양고추2개 물900ml...</td>\n",
       "      <td>2인분</td>\n",
       "      <td>아무나</td>\n",
       "      <td>60분이내</td>\n",
       "      <td>20240321110944</td>\n",
       "      <td>https://recipe1.ezmember.co.kr/cache/recipe/20...</td>\n",
       "      <td>국물닭볶음탕</td>\n",
       "    </tr>\n",
       "    <tr>\n",
       "      <th>2</th>\n",
       "      <td>7031356</td>\n",
       "      <td>사먹지 마세요!!! 끓이지 않고 손쉽게 삭힌고추 만드는법 삭힌고추무침 레시피</td>\n",
       "      <td>삭힌고추무침</td>\n",
       "      <td>kjo2456</td>\n",
       "      <td>김진옥요리가좋다</td>\n",
       "      <td>38540</td>\n",
       "      <td>0</td>\n",
       "      <td>214</td>\n",
       "      <td>절임</td>\n",
       "      <td>일상</td>\n",
       "      <td>채소류</td>\n",
       "      <td>밑반찬</td>\n",
       "      <td>안녕하세요 김진옥입니다. 요즘 고추가 맛있고 저렴한 시기입니다. 그래서 청양고추 구...</td>\n",
       "      <td>재료 청양고추500g 굵은소금50ml3T듬쁙 설탕100ml5T정도 식초100ml 삭...</td>\n",
       "      <td>6인분이상</td>\n",
       "      <td>아무나</td>\n",
       "      <td>2시간이상</td>\n",
       "      <td>20240729081111</td>\n",
       "      <td>https://recipe1.ezmember.co.kr/cache/recipe/20...</td>\n",
       "      <td>삭힌고추무침</td>\n",
       "    </tr>\n",
       "    <tr>\n",
       "      <th>3</th>\n",
       "      <td>7020066</td>\n",
       "      <td>떡볶이 만드는 법 백종원 국물 떡볶이 레시피</td>\n",
       "      <td>국물떡볶이</td>\n",
       "      <td>77721145</td>\n",
       "      <td>써지니</td>\n",
       "      <td>37168</td>\n",
       "      <td>0</td>\n",
       "      <td>23</td>\n",
       "      <td>끓이기</td>\n",
       "      <td>일상</td>\n",
       "      <td>기타</td>\n",
       "      <td>밥/죽/떡</td>\n",
       "      <td>짝꿍과 함께 간식으로 먹으려고 만들어 본 백종원 국물 떡볶이를 시판에서 파는 떡볶이...</td>\n",
       "      <td>재료 떡볶이 떡150g 사각 어묵 2장120g 양배추55g 대파35g 물400ml ...</td>\n",
       "      <td>1인분</td>\n",
       "      <td>아무나</td>\n",
       "      <td>30분이내</td>\n",
       "      <td>20240215160135</td>\n",
       "      <td>https://recipe1.ezmember.co.kr/cache/recipe/20...</td>\n",
       "      <td>국물떡볶이</td>\n",
       "    </tr>\n",
       "    <tr>\n",
       "      <th>4</th>\n",
       "      <td>7022132</td>\n",
       "      <td>다이어트에 좋은 디톡스~ 레몬수 레몬물 만들기 레몬손질법</td>\n",
       "      <td>레몬수</td>\n",
       "      <td>kjo2456</td>\n",
       "      <td>김진옥요리가좋다</td>\n",
       "      <td>35210</td>\n",
       "      <td>0</td>\n",
       "      <td>64</td>\n",
       "      <td>기타</td>\n",
       "      <td>기타</td>\n",
       "      <td>과일류</td>\n",
       "      <td>차/음료/술</td>\n",
       "      <td>다이어트에 좋은 디톡스~ 레몬수 레몬물 만들기 레몬손질법</td>\n",
       "      <td>재료 레몬 베이킹소다 식초 굵은소금</td>\n",
       "      <td>NaN</td>\n",
       "      <td>아무나</td>\n",
       "      <td>NaN</td>\n",
       "      <td>20240314081507</td>\n",
       "      <td>https://recipe1.ezmember.co.kr/cache/recipe/20...</td>\n",
       "      <td>레몬수</td>\n",
       "    </tr>\n",
       "  </tbody>\n",
       "</table>\n",
       "</div>"
      ],
      "text/plain": [
       "   RCP_SNO                                           RCP_TTL  CKG_NM  \\\n",
       "0  7037475  실패할일 없는 김장김치양념 /절임배추20kg/ 김장김치 양념비율 황금레시피 /김장담그기    김장김치   \n",
       "1  7022686                                     국물 닭볶음탕 황금레시피  국물닭볶음탕   \n",
       "2  7031356        사먹지 마세요!!! 끓이지 않고 손쉽게 삭힌고추 만드는법 삭힌고추무침 레시피  삭힌고추무침   \n",
       "3  7020066                         떡볶이 만드는 법 백종원 국물 떡볶이 레시피    국물떡볶이   \n",
       "4  7022132                   다이어트에 좋은 디톡스~ 레몬수 레몬물 만들기 레몬손질법     레몬수   \n",
       "\n",
       "    RGTR_ID   RGTR_NM  INQ_CNT  RCMM_CNT  SRAP_CNT CKG_MTH_ACTO_NM  \\\n",
       "0   kjo2456  김진옥요리가좋다    60777         0        52              절임   \n",
       "1  81748884    요리하는쮸네    45495         0        35             끓이기   \n",
       "2   kjo2456  김진옥요리가좋다    38540         0       214              절임   \n",
       "3  77721145       써지니    37168         0        23             끓이기   \n",
       "4   kjo2456  김진옥요리가좋다    35210         0        64              기타   \n",
       "\n",
       "  CKG_STA_ACTO_NM CKG_MTRL_ACTO_NM CKG_KND_ACTO_NM  \\\n",
       "0              일상              채소류        김치/젓갈/장류   \n",
       "1              일상              닭고기            메인반찬   \n",
       "2              일상              채소류             밑반찬   \n",
       "3              일상               기타           밥/죽/떡   \n",
       "4              기타              과일류          차/음료/술   \n",
       "\n",
       "                                            CKG_IPDC  \\\n",
       "0  안녕하세요 김진옥입니다. 제가 반찬쇼핑몰 10년 운영했던것은 아시죠~ 그때 김장철에...   \n",
       "1                           국물 닭볶음탕 황금레시피 알려드릴게요 : )   \n",
       "2  안녕하세요 김진옥입니다. 요즘 고추가 맛있고 저렴한 시기입니다. 그래서 청양고추 구...   \n",
       "3  짝꿍과 함께 간식으로 먹으려고 만들어 본 백종원 국물 떡볶이를 시판에서 파는 떡볶이...   \n",
       "4                    다이어트에 좋은 디톡스~ 레몬수 레몬물 만들기 레몬손질법   \n",
       "\n",
       "                                         CKG_MTRL_CN CKG_INBUN_NM CKG_DODF_NM  \\\n",
       "0  재료 절임배추20kg1상자 79포기 무1개1600g 채썰때 사용 홍갓400g 쪽파2...        6인분이상          중급   \n",
       "1  재료 절단 닭1kg 대파1대 양파12개 당근12개 감자4개 청양고추2개 물900ml...          2인분         아무나   \n",
       "2  재료 청양고추500g 굵은소금50ml3T듬쁙 설탕100ml5T정도 식초100ml 삭...        6인분이상         아무나   \n",
       "3  재료 떡볶이 떡150g 사각 어묵 2장120g 양배추55g 대파35g 물400ml ...          1인분         아무나   \n",
       "4                                재료 레몬 베이킹소다 식초 굵은소금          NaN         아무나   \n",
       "\n",
       "  CKG_TIME_NM    FIRST_REG_DT  \\\n",
       "0       2시간이내  20241031052836   \n",
       "1       60분이내  20240321110944   \n",
       "2       2시간이상  20240729081111   \n",
       "3       30분이내  20240215160135   \n",
       "4         NaN  20240314081507   \n",
       "\n",
       "                                         RCP_IMG_URL    대표명칭  \n",
       "0  https://recipe1.ezmember.co.kr/cache/recipe/20...    김장김치  \n",
       "1  https://recipe1.ezmember.co.kr/cache/recipe/20...  국물닭볶음탕  \n",
       "2  https://recipe1.ezmember.co.kr/cache/recipe/20...  삭힌고추무침  \n",
       "3  https://recipe1.ezmember.co.kr/cache/recipe/20...   국물떡볶이  \n",
       "4  https://recipe1.ezmember.co.kr/cache/recipe/20...     레몬수  "
      ]
     },
     "execution_count": 109,
     "metadata": {},
     "output_type": "execute_result"
    }
   ],
   "source": [
    "recipe_df.head()"
   ]
  },
  {
   "cell_type": "code",
   "execution_count": 110,
   "metadata": {
    "colab": {
     "base_uri": "https://localhost:8080/"
    },
    "executionInfo": {
     "elapsed": 27,
     "status": "ok",
     "timestamp": 1736317145643,
     "user": {
      "displayName": "이유리",
      "userId": "07944853073863522042"
     },
     "user_tz": -540
    },
    "id": "ck7VtEZ_kEAT",
    "outputId": "a035c692-fa96-4e07-9e93-3f80dc3f5c08"
   },
   "outputs": [
    {
     "data": {
      "text/plain": [
       "array(['채소류', '닭고기', '기타', '과일류', '콩/견과류', '돼지고기', '가공식품류', '건어물류', '밀가루',\n",
       "       '소고기', '곡류', '버섯류', '해물류', '달걀/유제품', '쌀', '육류'], dtype=object)"
      ]
     },
     "execution_count": 110,
     "metadata": {},
     "output_type": "execute_result"
    }
   ],
   "source": [
    "recipe_df['CKG_MTRL_ACTO_NM'].unique()"
   ]
  },
  {
   "cell_type": "code",
   "execution_count": 111,
   "metadata": {
    "id": "ZXbnYJ_pkEAT"
   },
   "outputs": [],
   "source": [
    "# 1단계: Omnivore\n",
    "    # 전부 먹는 사람\n",
    "    # 포함:   육류, 동물성해산물, 계란, 유제품, 꿀\n",
    "    # 불포함: 없음\n",
    "# 2단계: Pescatarian\n",
    "    # 육류는 안 먹는 사람\n",
    "    # 포함:   동물성해산물, 계란, 유제품, 꿀\n",
    "    # 불포함: 육류\n",
    "# 3단계: Lacto-Ovo_Vegetarian\n",
    "    # 육류와 생선은 안 먹는 사람\n",
    "    # 포함:   계란, 유제품, 꿀\n",
    "    # 불포함: 육류, 동물성해산물\n",
    "# 4단계: Vegan\n",
    "    # 육류와 생선, 유제품과 계란 안 먹는 사람\n",
    "    # 포함:   꿀\n",
    "    # 불포함: 육류, 동물성해산물, 계란, 유제품\n",
    "# 5단계: Super Vegan\n",
    "    # 육류와 생선, 유제품과 계란, 꿀 안 먹는 사람\n",
    "    # 포함:   없음\n",
    "    # 불포함: 육류, 동물성해산물, 계란, 유제품, 꿀\n",
    "# Omnivore Pescatarian Lacto_Ovo_Vegetarian Vegan super_vegan"
   ]
  },
  {
   "cell_type": "code",
   "execution_count": 112,
   "metadata": {
    "id": "Q9E4b1zpKcik"
   },
   "outputs": [],
   "source": [
    "meat_list = [\"소고기\", \"쇠고기\", \"돼지\", \"돼지고기\", \"닭\", \"닭고기\", \"양고기\", \"육류\", \"삼겹\", \"차돌박이\", \"족발\", \"등갈비\", \"오리\",\n",
    "             \"만두\", \"베이컨\", \"스팸\", \"소세지\", \"소시지\", \"햄\", \"순대\", \"막창\", \"곱창\", \"육포\", \"훈제\", \"치킨\", \"한우\", \"갈비\", \"양꼬치\",\n",
    "             \"라면스프\", \"한알육수\", \"사골\", \"라면\", \"짜장라면\", \"마시멜로\", \"불고기\", \"샤브\", \"다시다\", \"리챔\", \"리쳄\", \"젤라틴\", \"잴라틴\",\n",
    "             \"비프\", \"비프스톡\", \"치킨스톡\", \"스테이크\", \"둥지냉면\", \"비빔면\", \"둥지낸면\", \"핫도그\", \"누텔라\", \"누탤라\", \"뉴텔라\", \"뉴탤라\",\n",
    "             \"마쉬멜로\", \"사리곰탕\", \"곰탕\", \"염소\", \"제육\", \"차슈\", \"라구소스\", \"돈가스\", \"돈까스\", \"짜장\", \"젤리\", \"데리야끼소스\", \"비빔냉면\"]\n",
    "seafood_list = [\"생선\", \"해산물\", \"해물\", \"회\", \"광어\", \"오만둥이\", \"성대\", \"명태\", \"갈치\", \"박대\", \"메로\", \"날치\", \"볼락\", \"우럭\",\n",
    "                \"참치\", \"멸치\", \"조기\", \"북어\", \"연어\", \"가자미\", \"삼치\", \"고등어\", \"대구\", \"장어\", \"옥돔\", \"참돔\", \"실치\", \"양태\",\n",
    "                \"가쓰오\", \"까나리\", \"액젓\", \"꽁치\", \"명란\", \"홍어\", \"방어\", \"쥐포\", \"임연수\", \"코다리\", \"풀치\", \"밴댕이\", \"한치\",\n",
    "                \"대하\", \"랍스터\", \"새우\", \"게\", \"맛살\", \"크래미\", \"크레미\", \"게살\", \"어묵\", \"오뎅\", \"관자\", \"백합\", \"농어\", \"날치알\",\n",
    "                \"꼴뚜기\", \"문어\", \"오징어\", \"낙지\", \"쭈꾸미\", \"진미\", \"골뱅이\", \"소라\", \"자하젓\", \"황태\", \"아구\", \"아귀\", \"병어\", \"다시팩\",\n",
    "                \"굴\", \"조개\", \"가리비\", \"홍합\", \"꼬막\", \"바지락\", \"전복\", \"우렁\", \"다슬기\", \"동죽\", \"육수\", \"김치\", \"주꾸미\",\n",
    "                \"김장\", \"묵은지\", \"어간장\", \"도다리\", \"창란\", \"창란젓\", \"crab\", \"쯔유\", \"스끼야끼간장\", \"미꾸라지\", \"도미\", \"번데기\"]\n",
    "            #  번데기는 육류가 아닌 곤충으로, 동물성 단백질로 분류되므로 동물성해산물 리스트에 넣음\n",
    "egg_and_dairy_list = [\"달걀\", \"계란\", \"흰자\", \"노른자\", \"마요네즈\", \"메추리알\", \"호떡\", \"호빵\", \"참깨드레싱\", \"렌치\",\n",
    "                      \"유제품\", \"우유\", \"치즈\", \"버터\", \"크림\", \"요거트\", \"연유\", \"요구르트\", \"모짜렐라\", \"체다\", \"빵\",\n",
    "                      \"식빵\", \"밀크\", \"초코펜\", \"초코\", \"초콜릿\", \"초콜렛\", \"분유\", \"핫초코\", \"유정란\", \"무정란\",\n",
    "                      \"케이크\", \"카레\", \"파마산\", \"카스테라\", \"카스텔라\", \"야쿠르트\", \"생지\", \"카라멜\", \"도넛\", ]\n",
    "honey_list = [\"꿀\"]"
   ]
  },
  {
   "cell_type": "code",
   "execution_count": 113,
   "metadata": {
    "id": "c6B9pmFWtPBk"
   },
   "outputs": [],
   "source": [
    "# 단계별 패턴 생성\n",
    "meat_pattern = re.compile(\"|\".join(meat_list))\n",
    "seafood_pattern = re.compile(\"|\".join(seafood_list))\n",
    "egg_and_dairy_pattern = re.compile(\"|\".join(egg_and_dairy_list))\n",
    "honey_pattern = re.compile(\"|\".join(honey_list))"
   ]
  },
  {
   "cell_type": "code",
   "execution_count": 114,
   "metadata": {
    "id": "XACGA8InkEAV"
   },
   "outputs": [],
   "source": [
    "# 각 단계별 제외 음식 리스트\n",
    "exclude_dict = {\n",
    "    'Pescatarian': meat_list,                                                  # Pescatarian: 육류 제외\n",
    "    'Lacto_Ovo_Vegetarian': meat_list + seafood_list,                          # Lacto-Ovo Vegetarian: 육류와 생선 제외\n",
    "    'Vegan': meat_list + seafood_list + egg_and_dairy_list,                    # Vegan: + 계란, 유제품 제외\n",
    "    'Super_Vegan': meat_list + seafood_list + egg_and_dairy_list + honey_list, # Super Vegan: + 꿀 제외\n",
    "}"
   ]
  },
  {
   "cell_type": "code",
   "execution_count": 115,
   "metadata": {
    "id": "YpLFHNPQrCrd"
   },
   "outputs": [],
   "source": [
    "# 각 단계별 포함 음식 리스트\n",
    "include_dict = {\n",
    "    'Omnivore': meat_list + seafood_list + egg_and_dairy_list + honey_list,\n",
    "    'Pescatarian': seafood_list + egg_and_dairy_list + honey_list,\n",
    "    'Lacto_Ovo_Vegetarian': egg_and_dairy_list + honey_list,\n",
    "    'Vegan': honey_list,\n",
    "    'Super_Vegan': []\n",
    "}"
   ]
  },
  {
   "cell_type": "code",
   "execution_count": 116,
   "metadata": {
    "id": "NN-QAhiPrcq1"
   },
   "outputs": [],
   "source": [
    "# vegetarian_type 컬럼 추가 및 기본값 설정\n",
    "recipe_df[\"vegetarian_type\"] = recipe_df[\"CKG_MTRL_ACTO_NM\"].apply(\n",
    "    lambda x: \"Omnivore\" if x in meat_list else None\n",
    ")"
   ]
  },
  {
   "cell_type": "code",
   "execution_count": 117,
   "metadata": {
    "id": "OMH2w-fvQMFp"
   },
   "outputs": [],
   "source": [
    "# vegetarian_type 설정 함수\n",
    "def determine_vegetarian_type(row):\n",
    "    \"\"\"\n",
    "    주어진 재료(ingredients)로 vegetarian_type을 결정하는 함수\n",
    "    \"\"\"\n",
    "    # Omnivore로 이미 설정된 경우\n",
    "    if row[\"vegetarian_type\"] == \"Omnivore\":\n",
    "        return \"Omnivore\"\n",
    "\n",
    "    ingredients = row[\"CKG_MTRL_CN\"]\n",
    "\n",
    "    # Omnivore 판별\n",
    "    if any(meat in ingredient for ingredient in ingredients for meat in meat_list):\n",
    "        return \"Omnivore\"\n",
    "\n",
    "    # Pescatarian 판별\n",
    "    if any(seafood in ingredient for ingredient in ingredients for seafood in seafood_list):\n",
    "        return \"Pescatarian\"\n",
    "\n",
    "    # Lacto-Ovo Vegetarian 판별\n",
    "    if any(egg_or_dairy in ingredient for ingredient in ingredients for egg_or_dairy in egg_and_dairy_list):\n",
    "        return \"Lacto-Ovo_Vegetarian\"\n",
    "\n",
    "    # Vegan 판별\n",
    "    if any(honey in ingredient for ingredient in ingredients for honey in honey_list):\n",
    "        return \"Vegan\"\n",
    "\n",
    "    # Super Vegan 판별\n",
    "    return \"Super_Vegan\"\n",
    "    # return None"
   ]
  },
  {
   "cell_type": "code",
   "execution_count": 118,
   "metadata": {
    "id": "UH0UsKV8Qjjw"
   },
   "outputs": [],
   "source": [
    "# vegetarian_type 열 업데이트\n",
    "recipe_df[\"vegetarian_type\"] = recipe_df.apply(determine_vegetarian_type, axis=1)"
   ]
  },
  {
   "cell_type": "code",
   "execution_count": 119,
   "metadata": {
    "colab": {
     "base_uri": "https://localhost:8080/",
     "height": 380
    },
    "executionInfo": {
     "elapsed": 27,
     "status": "ok",
     "timestamp": 1736317146102,
     "user": {
      "displayName": "이유리",
      "userId": "07944853073863522042"
     },
     "user_tz": -540
    },
    "id": "iq1AB-70it4T",
    "outputId": "6a1b337a-1fdc-4355-d48d-d4c0bcc63d1a"
   },
   "outputs": [
    {
     "data": {
      "text/html": [
       "<div>\n",
       "<style scoped>\n",
       "    .dataframe tbody tr th:only-of-type {\n",
       "        vertical-align: middle;\n",
       "    }\n",
       "\n",
       "    .dataframe tbody tr th {\n",
       "        vertical-align: top;\n",
       "    }\n",
       "\n",
       "    .dataframe thead th {\n",
       "        text-align: right;\n",
       "    }\n",
       "</style>\n",
       "<table border=\"1\" class=\"dataframe\">\n",
       "  <thead>\n",
       "    <tr style=\"text-align: right;\">\n",
       "      <th></th>\n",
       "      <th>RCP_SNO</th>\n",
       "      <th>RCP_TTL</th>\n",
       "      <th>CKG_NM</th>\n",
       "      <th>RGTR_ID</th>\n",
       "      <th>RGTR_NM</th>\n",
       "      <th>INQ_CNT</th>\n",
       "      <th>RCMM_CNT</th>\n",
       "      <th>SRAP_CNT</th>\n",
       "      <th>CKG_MTH_ACTO_NM</th>\n",
       "      <th>CKG_STA_ACTO_NM</th>\n",
       "      <th>...</th>\n",
       "      <th>CKG_KND_ACTO_NM</th>\n",
       "      <th>CKG_IPDC</th>\n",
       "      <th>CKG_MTRL_CN</th>\n",
       "      <th>CKG_INBUN_NM</th>\n",
       "      <th>CKG_DODF_NM</th>\n",
       "      <th>CKG_TIME_NM</th>\n",
       "      <th>FIRST_REG_DT</th>\n",
       "      <th>RCP_IMG_URL</th>\n",
       "      <th>대표명칭</th>\n",
       "      <th>vegetarian_type</th>\n",
       "    </tr>\n",
       "  </thead>\n",
       "  <tbody>\n",
       "    <tr>\n",
       "      <th>0</th>\n",
       "      <td>7037475</td>\n",
       "      <td>실패할일 없는 김장김치양념 /절임배추20kg/ 김장김치 양념비율 황금레시피 /김장담그기</td>\n",
       "      <td>김장김치</td>\n",
       "      <td>kjo2456</td>\n",
       "      <td>김진옥요리가좋다</td>\n",
       "      <td>60777</td>\n",
       "      <td>0</td>\n",
       "      <td>52</td>\n",
       "      <td>절임</td>\n",
       "      <td>일상</td>\n",
       "      <td>...</td>\n",
       "      <td>김치/젓갈/장류</td>\n",
       "      <td>안녕하세요 김진옥입니다. 제가 반찬쇼핑몰 10년 운영했던것은 아시죠~ 그때 김장철에...</td>\n",
       "      <td>재료 절임배추20kg1상자 79포기 무1개1600g 채썰때 사용 홍갓400g 쪽파2...</td>\n",
       "      <td>6인분이상</td>\n",
       "      <td>중급</td>\n",
       "      <td>2시간이내</td>\n",
       "      <td>20241031052836</td>\n",
       "      <td>https://recipe1.ezmember.co.kr/cache/recipe/20...</td>\n",
       "      <td>김장김치</td>\n",
       "      <td>Pescatarian</td>\n",
       "    </tr>\n",
       "    <tr>\n",
       "      <th>1</th>\n",
       "      <td>7022686</td>\n",
       "      <td>국물 닭볶음탕 황금레시피</td>\n",
       "      <td>국물닭볶음탕</td>\n",
       "      <td>81748884</td>\n",
       "      <td>요리하는쮸네</td>\n",
       "      <td>45495</td>\n",
       "      <td>0</td>\n",
       "      <td>35</td>\n",
       "      <td>끓이기</td>\n",
       "      <td>일상</td>\n",
       "      <td>...</td>\n",
       "      <td>메인반찬</td>\n",
       "      <td>국물 닭볶음탕 황금레시피 알려드릴게요 : )</td>\n",
       "      <td>재료 절단 닭1kg 대파1대 양파12개 당근12개 감자4개 청양고추2개 물900ml...</td>\n",
       "      <td>2인분</td>\n",
       "      <td>아무나</td>\n",
       "      <td>60분이내</td>\n",
       "      <td>20240321110944</td>\n",
       "      <td>https://recipe1.ezmember.co.kr/cache/recipe/20...</td>\n",
       "      <td>국물닭볶음탕</td>\n",
       "      <td>Omnivore</td>\n",
       "    </tr>\n",
       "    <tr>\n",
       "      <th>2</th>\n",
       "      <td>7031356</td>\n",
       "      <td>사먹지 마세요!!! 끓이지 않고 손쉽게 삭힌고추 만드는법 삭힌고추무침 레시피</td>\n",
       "      <td>삭힌고추무침</td>\n",
       "      <td>kjo2456</td>\n",
       "      <td>김진옥요리가좋다</td>\n",
       "      <td>38540</td>\n",
       "      <td>0</td>\n",
       "      <td>214</td>\n",
       "      <td>절임</td>\n",
       "      <td>일상</td>\n",
       "      <td>...</td>\n",
       "      <td>밑반찬</td>\n",
       "      <td>안녕하세요 김진옥입니다. 요즘 고추가 맛있고 저렴한 시기입니다. 그래서 청양고추 구...</td>\n",
       "      <td>재료 청양고추500g 굵은소금50ml3T듬쁙 설탕100ml5T정도 식초100ml 삭...</td>\n",
       "      <td>6인분이상</td>\n",
       "      <td>아무나</td>\n",
       "      <td>2시간이상</td>\n",
       "      <td>20240729081111</td>\n",
       "      <td>https://recipe1.ezmember.co.kr/cache/recipe/20...</td>\n",
       "      <td>삭힌고추무침</td>\n",
       "      <td>Super_Vegan</td>\n",
       "    </tr>\n",
       "    <tr>\n",
       "      <th>3</th>\n",
       "      <td>7020066</td>\n",
       "      <td>떡볶이 만드는 법 백종원 국물 떡볶이 레시피</td>\n",
       "      <td>국물떡볶이</td>\n",
       "      <td>77721145</td>\n",
       "      <td>써지니</td>\n",
       "      <td>37168</td>\n",
       "      <td>0</td>\n",
       "      <td>23</td>\n",
       "      <td>끓이기</td>\n",
       "      <td>일상</td>\n",
       "      <td>...</td>\n",
       "      <td>밥/죽/떡</td>\n",
       "      <td>짝꿍과 함께 간식으로 먹으려고 만들어 본 백종원 국물 떡볶이를 시판에서 파는 떡볶이...</td>\n",
       "      <td>재료 떡볶이 떡150g 사각 어묵 2장120g 양배추55g 대파35g 물400ml ...</td>\n",
       "      <td>1인분</td>\n",
       "      <td>아무나</td>\n",
       "      <td>30분이내</td>\n",
       "      <td>20240215160135</td>\n",
       "      <td>https://recipe1.ezmember.co.kr/cache/recipe/20...</td>\n",
       "      <td>국물떡볶이</td>\n",
       "      <td>Super_Vegan</td>\n",
       "    </tr>\n",
       "    <tr>\n",
       "      <th>4</th>\n",
       "      <td>7022132</td>\n",
       "      <td>다이어트에 좋은 디톡스~ 레몬수 레몬물 만들기 레몬손질법</td>\n",
       "      <td>레몬수</td>\n",
       "      <td>kjo2456</td>\n",
       "      <td>김진옥요리가좋다</td>\n",
       "      <td>35210</td>\n",
       "      <td>0</td>\n",
       "      <td>64</td>\n",
       "      <td>기타</td>\n",
       "      <td>기타</td>\n",
       "      <td>...</td>\n",
       "      <td>차/음료/술</td>\n",
       "      <td>다이어트에 좋은 디톡스~ 레몬수 레몬물 만들기 레몬손질법</td>\n",
       "      <td>재료 레몬 베이킹소다 식초 굵은소금</td>\n",
       "      <td>NaN</td>\n",
       "      <td>아무나</td>\n",
       "      <td>NaN</td>\n",
       "      <td>20240314081507</td>\n",
       "      <td>https://recipe1.ezmember.co.kr/cache/recipe/20...</td>\n",
       "      <td>레몬수</td>\n",
       "      <td>Super_Vegan</td>\n",
       "    </tr>\n",
       "    <tr>\n",
       "      <th>...</th>\n",
       "      <td>...</td>\n",
       "      <td>...</td>\n",
       "      <td>...</td>\n",
       "      <td>...</td>\n",
       "      <td>...</td>\n",
       "      <td>...</td>\n",
       "      <td>...</td>\n",
       "      <td>...</td>\n",
       "      <td>...</td>\n",
       "      <td>...</td>\n",
       "      <td>...</td>\n",
       "      <td>...</td>\n",
       "      <td>...</td>\n",
       "      <td>...</td>\n",
       "      <td>...</td>\n",
       "      <td>...</td>\n",
       "      <td>...</td>\n",
       "      <td>...</td>\n",
       "      <td>...</td>\n",
       "      <td>...</td>\n",
       "      <td>...</td>\n",
       "    </tr>\n",
       "    <tr>\n",
       "      <th>5964</th>\n",
       "      <td>7041363</td>\n",
       "      <td>백조기 생선찜 레시피 비린내 제거 생선 찌는법</td>\n",
       "      <td>백조기생선찜</td>\n",
       "      <td>91722919</td>\n",
       "      <td>나유</td>\n",
       "      <td>10</td>\n",
       "      <td>0</td>\n",
       "      <td>0</td>\n",
       "      <td>찜</td>\n",
       "      <td>일상</td>\n",
       "      <td>...</td>\n",
       "      <td>메인반찬</td>\n",
       "      <td>생선은 보통 기름을 이용한 구이로 많이 먹죠~ 하지만 기름은 건강하지 않죠 생선의 ...</td>\n",
       "      <td>재료 백 조기2마리 통마늘3개 건고추1개 소금2꼬집 부재료 물500ml 대파2개</td>\n",
       "      <td>2인분</td>\n",
       "      <td>초급</td>\n",
       "      <td>60분이내</td>\n",
       "      <td>20241226223758</td>\n",
       "      <td>https://recipe1.ezmember.co.kr/cache/recipe/20...</td>\n",
       "      <td>백조기생선찜</td>\n",
       "      <td>Super_Vegan</td>\n",
       "    </tr>\n",
       "    <tr>\n",
       "      <th>5965</th>\n",
       "      <td>7041155</td>\n",
       "      <td>비타500 슬러시 만드는법 얼음 믹서기 얼음갈기 믹서로얼음갈기 음료 시원한 비타50...</td>\n",
       "      <td>비타500슬러시</td>\n",
       "      <td>63873539</td>\n",
       "      <td>슈퍼파워</td>\n",
       "      <td>10</td>\n",
       "      <td>0</td>\n",
       "      <td>2</td>\n",
       "      <td>기타</td>\n",
       "      <td>일상</td>\n",
       "      <td>...</td>\n",
       "      <td>차/음료/술</td>\n",
       "      <td>안녕하세요 슈퍼파워입니다. 오늘은 비타 500 슬러시를 만들어 봤어요. 믹서기에 얼...</td>\n",
       "      <td>재료 비타 5001병180ml 얼음적당량200g 사용</td>\n",
       "      <td>1인분</td>\n",
       "      <td>아무나</td>\n",
       "      <td>5분이내</td>\n",
       "      <td>20241223165556</td>\n",
       "      <td>https://recipe1.ezmember.co.kr/cache/recipe/20...</td>\n",
       "      <td>비타500슬러시</td>\n",
       "      <td>Super_Vegan</td>\n",
       "    </tr>\n",
       "    <tr>\n",
       "      <th>5966</th>\n",
       "      <td>7041265</td>\n",
       "      <td>여름과일요리 참외물김치담그기</td>\n",
       "      <td>참외물김치</td>\n",
       "      <td>jsblack</td>\n",
       "      <td>나봄수니</td>\n",
       "      <td>9</td>\n",
       "      <td>0</td>\n",
       "      <td>0</td>\n",
       "      <td>기타</td>\n",
       "      <td>초스피드</td>\n",
       "      <td>...</td>\n",
       "      <td>밑반찬</td>\n",
       "      <td>여름에 달달한 참외를 더욱 맛있게 먹을 수 있는 방법을 찾다가 만들게 된 물김치 레...</td>\n",
       "      <td>재료 참외1개480g 오이230g 당근140g 홍고추1개 굵은소금1티스푼 고춧가루1...</td>\n",
       "      <td>4인분</td>\n",
       "      <td>아무나</td>\n",
       "      <td>15분이내</td>\n",
       "      <td>20241224215431</td>\n",
       "      <td>https://recipe1.ezmember.co.kr/cache/recipe/20...</td>\n",
       "      <td>참외물김치</td>\n",
       "      <td>Super_Vegan</td>\n",
       "    </tr>\n",
       "    <tr>\n",
       "      <th>5967</th>\n",
       "      <td>7040976</td>\n",
       "      <td>특별한 홈카페 레시피 단감청 수제청</td>\n",
       "      <td>단감청</td>\n",
       "      <td>23319879</td>\n",
       "      <td>여기야 여기</td>\n",
       "      <td>8</td>\n",
       "      <td>0</td>\n",
       "      <td>0</td>\n",
       "      <td>절임</td>\n",
       "      <td>일상</td>\n",
       "      <td>...</td>\n",
       "      <td>양념/소스/잼</td>\n",
       "      <td>단감으로 청 만들어보셨나요? 요거트에 올려먹으면 식감도 좋고 달콤한 겨울디저트가 된...</td>\n",
       "      <td>단감청 재료 단감1개 설탕4큰술아빡숟가락</td>\n",
       "      <td>3인분</td>\n",
       "      <td>아무나</td>\n",
       "      <td>NaN</td>\n",
       "      <td>20241220135444</td>\n",
       "      <td>https://recipe1.ezmember.co.kr/cache/recipe/20...</td>\n",
       "      <td>단감청</td>\n",
       "      <td>Super_Vegan</td>\n",
       "    </tr>\n",
       "    <tr>\n",
       "      <th>5968</th>\n",
       "      <td>7041160</td>\n",
       "      <td>페퍼민트 사이다 만드는법 페퍼민트 티백 스프라이트 사이다 달달한 음료 홈카페 페퍼민...</td>\n",
       "      <td>페퍼민트사이다</td>\n",
       "      <td>63873539</td>\n",
       "      <td>슈퍼파워</td>\n",
       "      <td>8</td>\n",
       "      <td>0</td>\n",
       "      <td>2</td>\n",
       "      <td>기타</td>\n",
       "      <td>간식</td>\n",
       "      <td>...</td>\n",
       "      <td>차/음료/술</td>\n",
       "      <td>안녕하세요 슈퍼파워입니다. 오늘은 페퍼민트 사이다를 만들어봤어요. 페퍼민트를 진하게...</td>\n",
       "      <td>재료 물50ml 페퍼민트티백1개 사이다170ml또는 180ml 레몬즙3ml 얼음적당량</td>\n",
       "      <td>1인분</td>\n",
       "      <td>초급</td>\n",
       "      <td>5분이내</td>\n",
       "      <td>20241223171749</td>\n",
       "      <td>https://recipe1.ezmember.co.kr/cache/recipe/20...</td>\n",
       "      <td>페퍼민트사이다</td>\n",
       "      <td>Super_Vegan</td>\n",
       "    </tr>\n",
       "  </tbody>\n",
       "</table>\n",
       "<p>5968 rows × 21 columns</p>\n",
       "</div>"
      ],
      "text/plain": [
       "      RCP_SNO                                            RCP_TTL    CKG_NM  \\\n",
       "0     7037475   실패할일 없는 김장김치양념 /절임배추20kg/ 김장김치 양념비율 황금레시피 /김장담그기      김장김치   \n",
       "1     7022686                                      국물 닭볶음탕 황금레시피    국물닭볶음탕   \n",
       "2     7031356         사먹지 마세요!!! 끓이지 않고 손쉽게 삭힌고추 만드는법 삭힌고추무침 레시피    삭힌고추무침   \n",
       "3     7020066                          떡볶이 만드는 법 백종원 국물 떡볶이 레시피      국물떡볶이   \n",
       "4     7022132                    다이어트에 좋은 디톡스~ 레몬수 레몬물 만들기 레몬손질법       레몬수   \n",
       "...       ...                                                ...       ...   \n",
       "5964  7041363                          백조기 생선찜 레시피 비린내 제거 생선 찌는법    백조기생선찜   \n",
       "5965  7041155  비타500 슬러시 만드는법 얼음 믹서기 얼음갈기 믹서로얼음갈기 음료 시원한 비타50...  비타500슬러시   \n",
       "5966  7041265                                    여름과일요리 참외물김치담그기     참외물김치   \n",
       "5967  7040976                                특별한 홈카페 레시피 단감청 수제청       단감청   \n",
       "5968  7041160  페퍼민트 사이다 만드는법 페퍼민트 티백 스프라이트 사이다 달달한 음료 홈카페 페퍼민...   페퍼민트사이다   \n",
       "\n",
       "       RGTR_ID   RGTR_NM  INQ_CNT  RCMM_CNT  SRAP_CNT CKG_MTH_ACTO_NM  \\\n",
       "0      kjo2456  김진옥요리가좋다    60777         0        52              절임   \n",
       "1     81748884    요리하는쮸네    45495         0        35             끓이기   \n",
       "2      kjo2456  김진옥요리가좋다    38540         0       214              절임   \n",
       "3     77721145       써지니    37168         0        23             끓이기   \n",
       "4      kjo2456  김진옥요리가좋다    35210         0        64              기타   \n",
       "...        ...       ...      ...       ...       ...             ...   \n",
       "5964  91722919        나유       10         0         0               찜   \n",
       "5965  63873539      슈퍼파워       10         0         2              기타   \n",
       "5966   jsblack      나봄수니        9         0         0              기타   \n",
       "5967  23319879    여기야 여기        8         0         0              절임   \n",
       "5968  63873539      슈퍼파워        8         0         2              기타   \n",
       "\n",
       "     CKG_STA_ACTO_NM  ... CKG_KND_ACTO_NM  \\\n",
       "0                 일상  ...        김치/젓갈/장류   \n",
       "1                 일상  ...            메인반찬   \n",
       "2                 일상  ...             밑반찬   \n",
       "3                 일상  ...           밥/죽/떡   \n",
       "4                 기타  ...          차/음료/술   \n",
       "...              ...  ...             ...   \n",
       "5964              일상  ...            메인반찬   \n",
       "5965              일상  ...          차/음료/술   \n",
       "5966            초스피드  ...             밑반찬   \n",
       "5967              일상  ...         양념/소스/잼   \n",
       "5968              간식  ...          차/음료/술   \n",
       "\n",
       "                                               CKG_IPDC  \\\n",
       "0     안녕하세요 김진옥입니다. 제가 반찬쇼핑몰 10년 운영했던것은 아시죠~ 그때 김장철에...   \n",
       "1                              국물 닭볶음탕 황금레시피 알려드릴게요 : )   \n",
       "2     안녕하세요 김진옥입니다. 요즘 고추가 맛있고 저렴한 시기입니다. 그래서 청양고추 구...   \n",
       "3     짝꿍과 함께 간식으로 먹으려고 만들어 본 백종원 국물 떡볶이를 시판에서 파는 떡볶이...   \n",
       "4                       다이어트에 좋은 디톡스~ 레몬수 레몬물 만들기 레몬손질법   \n",
       "...                                                 ...   \n",
       "5964  생선은 보통 기름을 이용한 구이로 많이 먹죠~ 하지만 기름은 건강하지 않죠 생선의 ...   \n",
       "5965  안녕하세요 슈퍼파워입니다. 오늘은 비타 500 슬러시를 만들어 봤어요. 믹서기에 얼...   \n",
       "5966  여름에 달달한 참외를 더욱 맛있게 먹을 수 있는 방법을 찾다가 만들게 된 물김치 레...   \n",
       "5967  단감으로 청 만들어보셨나요? 요거트에 올려먹으면 식감도 좋고 달콤한 겨울디저트가 된...   \n",
       "5968  안녕하세요 슈퍼파워입니다. 오늘은 페퍼민트 사이다를 만들어봤어요. 페퍼민트를 진하게...   \n",
       "\n",
       "                                            CKG_MTRL_CN CKG_INBUN_NM  \\\n",
       "0     재료 절임배추20kg1상자 79포기 무1개1600g 채썰때 사용 홍갓400g 쪽파2...        6인분이상   \n",
       "1     재료 절단 닭1kg 대파1대 양파12개 당근12개 감자4개 청양고추2개 물900ml...          2인분   \n",
       "2     재료 청양고추500g 굵은소금50ml3T듬쁙 설탕100ml5T정도 식초100ml 삭...        6인분이상   \n",
       "3     재료 떡볶이 떡150g 사각 어묵 2장120g 양배추55g 대파35g 물400ml ...          1인분   \n",
       "4                                   재료 레몬 베이킹소다 식초 굵은소금          NaN   \n",
       "...                                                 ...          ...   \n",
       "5964       재료 백 조기2마리 통마늘3개 건고추1개 소금2꼬집 부재료 물500ml 대파2개          2인분   \n",
       "5965                      재료 비타 5001병180ml 얼음적당량200g 사용          1인분   \n",
       "5966  재료 참외1개480g 오이230g 당근140g 홍고추1개 굵은소금1티스푼 고춧가루1...          4인분   \n",
       "5967                             단감청 재료 단감1개 설탕4큰술아빡숟가락          3인분   \n",
       "5968    재료 물50ml 페퍼민트티백1개 사이다170ml또는 180ml 레몬즙3ml 얼음적당량          1인분   \n",
       "\n",
       "     CKG_DODF_NM CKG_TIME_NM    FIRST_REG_DT  \\\n",
       "0             중급       2시간이내  20241031052836   \n",
       "1            아무나       60분이내  20240321110944   \n",
       "2            아무나       2시간이상  20240729081111   \n",
       "3            아무나       30분이내  20240215160135   \n",
       "4            아무나         NaN  20240314081507   \n",
       "...          ...         ...             ...   \n",
       "5964          초급       60분이내  20241226223758   \n",
       "5965         아무나        5분이내  20241223165556   \n",
       "5966         아무나       15분이내  20241224215431   \n",
       "5967         아무나         NaN  20241220135444   \n",
       "5968          초급        5분이내  20241223171749   \n",
       "\n",
       "                                            RCP_IMG_URL      대표명칭  \\\n",
       "0     https://recipe1.ezmember.co.kr/cache/recipe/20...      김장김치   \n",
       "1     https://recipe1.ezmember.co.kr/cache/recipe/20...    국물닭볶음탕   \n",
       "2     https://recipe1.ezmember.co.kr/cache/recipe/20...    삭힌고추무침   \n",
       "3     https://recipe1.ezmember.co.kr/cache/recipe/20...     국물떡볶이   \n",
       "4     https://recipe1.ezmember.co.kr/cache/recipe/20...       레몬수   \n",
       "...                                                 ...       ...   \n",
       "5964  https://recipe1.ezmember.co.kr/cache/recipe/20...    백조기생선찜   \n",
       "5965  https://recipe1.ezmember.co.kr/cache/recipe/20...  비타500슬러시   \n",
       "5966  https://recipe1.ezmember.co.kr/cache/recipe/20...     참외물김치   \n",
       "5967  https://recipe1.ezmember.co.kr/cache/recipe/20...       단감청   \n",
       "5968  https://recipe1.ezmember.co.kr/cache/recipe/20...   페퍼민트사이다   \n",
       "\n",
       "     vegetarian_type  \n",
       "0        Pescatarian  \n",
       "1           Omnivore  \n",
       "2        Super_Vegan  \n",
       "3        Super_Vegan  \n",
       "4        Super_Vegan  \n",
       "...              ...  \n",
       "5964     Super_Vegan  \n",
       "5965     Super_Vegan  \n",
       "5966     Super_Vegan  \n",
       "5967     Super_Vegan  \n",
       "5968     Super_Vegan  \n",
       "\n",
       "[5968 rows x 21 columns]"
      ]
     },
     "execution_count": 119,
     "metadata": {},
     "output_type": "execute_result"
    }
   ],
   "source": [
    "# 결과 확인\n",
    "recipe_df"
   ]
  },
  {
   "cell_type": "code",
   "execution_count": null,
   "metadata": {
    "id": "cK4U36pjz-xE"
   },
   "outputs": [],
   "source": [
    "# # 인덱스 리스트 생성\n",
    "# indices = [23, 34, 59, 60, 63, 64, 65, 91, 94, 106, 124, 133, 138, 148, 161, 163, 185, 189, 192, 198, 208, 209, 216, 217, 231, 243, 244, 256, 259, 260, 263, 264, 265, 266, 269, 273, 275, 279, 281, 301, 305, 306, 316, 318, 330, 331, 348, 355, 360, 362, 366, 381, 382, 386, 392, 409, 414, 417, 421, 423, 425, 426, 427, 436, 440, 443, 458, 460, 461, 463, 469, 470, 491, 492, 504, 521, 523, 524, 527, 529, 540, 559, 570, 574, 580, 581, 594, 601, 605, 622, 625, 629, 631, 637, 640, 644, 651, 664, 665, 673, 677, 694, 699, 700, 701, 702, 703, 705, 712, 714, 715, 718, 719, 720, 721, 726, 735, 737, 742, 746, 757, 759, 771, 783, 792, 802, 817, 819, 825, 831, 832, 835, 839, 854, 874, 877, 880, 888, 897, 899, 903, 904, 913, 914, 919, 926, 927, 930, 933, 934, 935, 944, 960, 980, 989, 1004, 1006, 1016, 1024, 1025, 1029, 1036, 1040, 1045, 1049, 1073, 1076, 1083, 1091, 1092, 1097, 1098, 1112, 1116, 1117, 1118, 1120, 1122, 1140, 1141, 1148, 1149, 1157, 1176, 1178, 1202, 1210, 1213, 1217, 1218, 1228, 1230, 1235, 1236, 1244, 1251, 1252, 1260, 1264, 1265, 1274, 1275, 1298, 1322, 1349, 1367, 1369, 1375, 1376, 1377, 1378, 1398, 1399, 1402, 1413, 1421, 1423, 1430, 1431, 1436, 1440, 1443, 1444, 1450, 1458, 1459, 1460, 1469, 1470, 1471, 1473, 1474, 1477, 1501, 1505, 1506, 1509, 1523, 1531, 1537, 1544, 1545, 1551, 1557, 1572, 1577, 1579, 1601, 1603, 1607, 1629, 1630, 1638, 1640, 1647, 1649, 1653, 1658, 1672, 1678, 1681, 1684, 1697, 1701, 1703, 1710, 1723, 1725, 1727, 1729, 1749, 1754, 1763, 1767, 1769, 1774, 1775, 1778, 1779, 1783, 1786, 1789, 1793, 1801, 1819, 1821, 1828, 1837, 1839, 1841, 1849, 1851, 1855, 1866, 1871, 1872, 1875, 1886, 1887, 1905, 1910, 1917, 1928, 1930, 1937, 1942, 1944, 1951, 1959, 1964, 1965, 1970, 1973, 1974, 1982, 1991, 1998, 2004, 2008, 2020, 2022, 2037, 2038, 2045, 2048, 2049, 2050, 2055, 2058, 2071, 2073, 2075, 2081, 2105, 2106, 2110, 2122, 2123, 2129, 2134, 2142, 2148, 2150, 2157, 2165, 2179, 2190, 2194, 2196, 2199, 2201, 2204, 2229, 2231, 2233, 2241, 2267, 2270, 2275, 2283, 2284, 2292, 2293, 2298, 2300, 2307, 2315, 2321, 2329, 2122, 2123, 2129, 2134, 2142, 2148, 2150, 2157, 2165, 2179, 2190, 2336, 2340, 2347, 2349, 2350, 2352, 2359, 2366, 2370, 2371, 2373, 2384, 2411, 2420, 2441, 2442, 2460, 2463, 2468, 2471, 2475, 2479, 2498, 2506, 2519, 2520, 2548, 2559, 2560, 2575, 2577, 2578, 2584, 2595, 2597, 2614, 2617, 2622, 2641, 2643, 2647, 2663, 2673, 2678, 2696, 2705, 2706, 2708, 2710, 2712, 2719, 2720, 2721, 2725, 2734, 2738, 2741, 2743, 2758, 2763, 2765, 2772, 2778, 2782, 2785, 2806, 2810, 2818, 2820, 2825, 2835, 2841, 2854, 2863, 2866, 2867, 2870, 2872, 2873, 2887, 2888, 2889, 2892, 2902, 2909, 2911, 2915, 2921, 2926, 2929, 2930, 2934, 2936, 2937, 2949, 2959, 2974, 2977, 2980, 2987, 2989, 2994, 3017, 3018, 3036, 3046, 3054, 3059, 3077, 3085, 3096, 3097, 3107, 3109, 3112, 3115, 3124, 3125, 3135, 3142, 3144, 3158, 3162, 3178, 3183, 3186, 3192, 3193, 3200, 3203, 3206, 3208, 3213, 3218, 3229, 3240, 3242, 3248, 3271, 3282, 3296, 3305, 3309, 3314, 3315, 3316, 3319, 3320, 3329, 3345, 3346, 3353, 3354, 3363, 3367, 3374, 3376, 3385, 3397, 3406, 3407, 3416, 3419, 3428, 3436, 3441, 3447, 3449, 3461, 3462, 3469, 3473, 3477, 3478, 3479, 3480, 3493, 3496, 3508, 3509, 3510, 3514, 3538, 3549, 3551, 3553, 3562, 3575, 3584, 3591, 3594, 3603, 3605, 3613, 3615, 3618, 3623, 3636, 3641, 3643, 3652, 3660, 3662, 3673, 3674, 3677, 3679, 3680, 3688, 3693, 3695, 3719, 3722, 3724, 3732, 3739, 3740, 3742, 3748, 3753, 3754, 3764, 3776, 3777, 3801, 3811, 3812, 3825, 3831, 3832, 3833, 3836, 3840, 3844, 3845, 3854, 3855, 3859, 3862, 3863, 3869, 3883, 3892, 3896, 3901, 3908, 3909, 3920, 3921, 3928, 3933, 3947, 3950, 3952, 3954, 3959, 3962, 3965, 3967, 3970, 3972, 3973, 3993, 3999, 4004, 4016, 4018, 4031, 4035, 4047, 4054, 4058, 4064, 4066, 4086, 4089, 4091, 4094, 4097, 4107, 4108, 4111, 4116, 4118, 4119, 4120, 4123, 4126, 4129, 4130, 4132, 4137, 4139, 4142, 4149, 4152, 4154, 4155, 4156, 4159, 4162, 4167, 4170, 4173, 4174, 4175, 4185, 4191, 4193, 4196, 4197, 4199, 4203, 4206, 4209, 4212, 4213, 4214, 4221, 4222, 4229, 4236, 4247, 4261, 4266, 4269, 4273, 4286, 4288, 4299, 4303, 4305, 4311, 4312, 4313, 4316, 4318, 4319, 4320, 4323, 4324, 4328, 4342, 4351, 4363, 4375, 4377, 4380, 4386, 4389, 4395, 4400, 4405, 4406, 4418, 4428, 4437, 4438, 4441, 4449, 4451, 4453, 4459, 4462, 4466, 4482, 4486, 4488, 4489, 4494, 4495, 4502, 4506, 4515, 4523, 4528, 4541, 4542, 4545, 4548, 4551, 4552, 4553, 4560, 4563, 4577, 4578, 4588, 4592, 4593, 4594, 4600, 4604, 4605, 4608, 4612, 4624, 4629, 4632, 4634, 4642, 4643, 4644, 4648, 4654, 4656, 4660, 4662, 4679, 4682, 4688, 4691, 4694, 4698, 4714, 4722, 4730, 4743, 4753, 4758, 4769, 4772, 4773, 4776, 4777, 4778, 4779, 4790, 4791, 4795, 4811, 4831, 4839, 4840, 4844, 4850, 4854, 4855, 4858, 4873, 4874, 4877, 4880, 4881, 4890, 4896, 4899, 4900, 4901, 4903, 4908, 4918, 4921, 4922, 4925, 4929, 4931, 4946, 4958, 4962, 4967, 4974, 4975, 4978, 4979, 4983, 4999, 5003, 5010, 5011, 5012, 5013, 5017, 5018, 5019, 5020, 5021, 5043, 5045, 5059, 5060, 5063, 5064, 5072, 5075, 5084, 5087, 5100, 5102, 5104, 5111, 5113, 5116, 5119, 5125, 5148, 5169, 5174, 5175, 5185, 5188, 5189, 5190, 5191, 5193, 5196, 5198, 5202, 5208, 5209, 5217, 5219, 5228, 5232, 5237, 5241, 5245, 5252, 5254, 5258, 5259, 5260, 5270, 5274, 5285, 5289, 5302, 5304, 5305, 5306, 5307, 5309, 5311, 5312, 5321, 5328, 5330, 5348, 5351, 5363, 5368, 5373, 5389, 5413, 5421, 5436, 5437, 5439, 5443, 5452, 5456, 5458, 5471, 5477, 5479, 5480, 5483, 5489, 5490, 5493, 5497, 5499, 5505, 5507, 5526, 5529, 5531, 5535, 5538, 5539, 5541, 5547, 5552, 5555, 5561, 5563, 5581, 5590, 5604, 5605, 5610, 5611, 5613, 5618, 5624, 5627, 5629, 5630, 5633, 5636, 5639, 5640, 5643, 5646, 5655, 5656, 5661, 5671, 5672, 5677, 5679, 5680, 5685, 5687, 5689, 5691, 5693, 5696, 5704, 5708, 5710, 5712, 5723, 5732, 5736, 5750, 5760, 5761, 5763, 5767, 5771, 5772, 5773, 5775, 5791, 5792, 5803, 5806, 5810, 5825, 5833, 5836, 5837, 5840, 5848, 5874, 5876, 5880, 5892, 5893, 5894, 5898, 5901, 5907, 5914, 5916, 5918, 5923, 5924, 5926, 5934, 5944, 5946, 5955, 5956, 5958, 5963, 5971, 5972, 5975, 5990, 5995, 5996, 6000, 6020, 6024, 6042, 6044, 6053, 6058, 6061, 6063, 6064, 6065, 6066, 6083, 6089, 6093, 6094, 6097, 6099, 6100, 6105, 6106, 6108, 6109, 6124, 6126, 6130, 6139, 6146, 6157, 6165, 6171, 6174, 6180, 6182, 6183, 6189, 6191, 6193, 6196, 6215, 6223, 6229, 6230, 6242, 6248, 6249, 6252, 6256, 6261, 6268, 6271, 6272, 6280, 6283, 6284, 6290, 6299, 6300, 6319, 6323, 6336, 6337, 6339, 6345, 6349, 6371, 6375, 6379, 6381, 6387, 6398, 6405, 6420, 6422, 6423, 6444, 6446, 6461, 6465, 6466, 6477, 6481, 6488, 6490, 6506, 6520, 6521, 6522, 6530, 6531, 6540, 6541, 6543, 6572, 6576, 6579, 6595, 6608, 6621, 6624, 6634, 6645, 6648, 6651, 6655, 6659, 6661, 6663, 6669, 6670, 6672, 6679, 6682, 6691, 6694, 6696, 6702, 6706, 6713, 6714, 6718, 6722, 6726, 6728, 6731, 6753, 6755, 6760, 6761, 6763, 6764, 6779, 6789, 6813, 6815, 6818, 6827, 6831, 6838, 6845, 6849, 6853, 6859, 6860, 6864, 6865, 6867, 6870, 6876, 6882, 6886, 6890, 6908, 6922, 6931, 6933, 6934, 6935, 6942, 6944, 6948, 6956, 6962, 6963, 6964, 6965, 6967, 6968, 6984, 6988, 6999, 7002, 7003, 7005, 7009, 7010, 7015, 7026, 7030, 7031, 7032, 7034, 7038, 7040, 7048, 7057, 7060, 7064, 7071, 7081, 7082, 7101, 7108, 7114, 7121, 7126, 7134, 7147, 7155, 7158, 7159, 7164, 7170, 7171, 7181, 7191, 7194, 7201, 7205, 7215, 7225, 7227, 7230, 7232, 7233, 7234, 7237, 7244, 7254, 7256, 7257, 7258, 7273, 7277, 7280, 7308, 7310, 7327, 7339, 7343, 7344, 7345, 7355, 7362, 7363, 7367, 7368, 7375, 7382, 7387, 7399, 7410, 7416, 7420, 7445, 7447, 7448, 7452, 7459, 7463, 7468, 7480, 7481, 7482, 7484, 7487, 7494, 7500, 7512, 7518, 7520, 7527, 7528, 7538, 7539, 7547, 7549, 7555, 7558, 7559, 7560, 7562, 7565, 7568, 7573, 7579, 7612, 7613, 7621, 7625, 7640, 7647, 7658, 7665, 7671, 7675, 7679, 7703, 7705, 7706, 7707, 7709, 7712, 7713, 7719, 7722, 7723, 7725, 7726, 7734, 7748, 7749, 7755, 7762, 7765, 7767, 7770, 7771, 7799, 7806, 7807, 7808, 7811, 7830, 7832, 7836, 7840, 7867, 7876, 7877, 7878, 7881, 7885, 7895, 7901, 7902, 7915, 7917, 7931, 7937, 7951, 7959, 7969, 7983, 7997, 7999, 8000, 8003, 8008, 8029, 8042, 8048, 8049, 8050, 8058, 8075, 8088, 8095, 8099, 8101, 8111, 8117, 8122, 8123, 8127, 8128, 8133, 8137, 8138, 8143, 8146, 8147, 8162, 8166, 8180, 8184, 8188, 8196, 8201, 8207, 8210, 8249, 8252, 8258, 8273, 8274, 8275, 8277, 8291, 8296, 8299, 8306, 8307, 8308, 8313, 8315, ]\n",
    "\n",
    "# # 해당 인덱스의 vegetarian_type 값을 'Super_Vegan'으로 업데이트\n",
    "# recipe_df_clean.loc[indices, 'vegetarian_type'] = 'Super_Vegan'"
   ]
  },
  {
   "cell_type": "code",
   "execution_count": 121,
   "metadata": {
    "id": "5k-Oorgslaei"
   },
   "outputs": [
    {
     "data": {
      "text/html": [
       "<div>\n",
       "<style scoped>\n",
       "    .dataframe tbody tr th:only-of-type {\n",
       "        vertical-align: middle;\n",
       "    }\n",
       "\n",
       "    .dataframe tbody tr th {\n",
       "        vertical-align: top;\n",
       "    }\n",
       "\n",
       "    .dataframe thead th {\n",
       "        text-align: right;\n",
       "    }\n",
       "</style>\n",
       "<table border=\"1\" class=\"dataframe\">\n",
       "  <thead>\n",
       "    <tr style=\"text-align: right;\">\n",
       "      <th></th>\n",
       "      <th>RCP_SNO</th>\n",
       "      <th>RCP_TTL</th>\n",
       "      <th>CKG_NM</th>\n",
       "      <th>RGTR_ID</th>\n",
       "      <th>RGTR_NM</th>\n",
       "      <th>INQ_CNT</th>\n",
       "      <th>RCMM_CNT</th>\n",
       "      <th>SRAP_CNT</th>\n",
       "      <th>CKG_MTH_ACTO_NM</th>\n",
       "      <th>CKG_STA_ACTO_NM</th>\n",
       "      <th>...</th>\n",
       "      <th>CKG_KND_ACTO_NM</th>\n",
       "      <th>CKG_IPDC</th>\n",
       "      <th>CKG_MTRL_CN</th>\n",
       "      <th>CKG_INBUN_NM</th>\n",
       "      <th>CKG_DODF_NM</th>\n",
       "      <th>CKG_TIME_NM</th>\n",
       "      <th>FIRST_REG_DT</th>\n",
       "      <th>RCP_IMG_URL</th>\n",
       "      <th>대표명칭</th>\n",
       "      <th>vegetarian_type</th>\n",
       "    </tr>\n",
       "  </thead>\n",
       "  <tbody>\n",
       "  </tbody>\n",
       "</table>\n",
       "<p>0 rows × 21 columns</p>\n",
       "</div>"
      ],
      "text/plain": [
       "Empty DataFrame\n",
       "Columns: [RCP_SNO, RCP_TTL, CKG_NM, RGTR_ID, RGTR_NM, INQ_CNT, RCMM_CNT, SRAP_CNT, CKG_MTH_ACTO_NM, CKG_STA_ACTO_NM, CKG_MTRL_ACTO_NM, CKG_KND_ACTO_NM, CKG_IPDC, CKG_MTRL_CN, CKG_INBUN_NM, CKG_DODF_NM, CKG_TIME_NM, FIRST_REG_DT, RCP_IMG_URL, 대표명칭, vegetarian_type]\n",
       "Index: []\n",
       "\n",
       "[0 rows x 21 columns]"
      ]
     },
     "execution_count": 121,
     "metadata": {},
     "output_type": "execute_result"
    }
   ],
   "source": [
    "# vegetarian_type이 None인 데이터 필터링\n",
    "none_df = recipe_df[recipe_df[\"vegetarian_type\"].isna()]\n",
    "none_df"
   ]
  },
  {
   "cell_type": "code",
   "execution_count": 122,
   "metadata": {
    "colab": {
     "base_uri": "https://localhost:8080/",
     "height": 771
    },
    "executionInfo": {
     "elapsed": 21,
     "status": "ok",
     "timestamp": 1736317146103,
     "user": {
      "displayName": "이유리",
      "userId": "07944853073863522042"
     },
     "user_tz": -540
    },
    "id": "ZrrrWJJ0lAdq",
    "outputId": "7ffdc978-f408-4e1c-e3ce-269b7383f8ef"
   },
   "outputs": [],
   "source": [
    "# print(none_df.to_string())"
   ]
  },
  {
   "cell_type": "code",
   "execution_count": 124,
   "metadata": {
    "colab": {
     "base_uri": "https://localhost:8080/"
    },
    "executionInfo": {
     "elapsed": 388,
     "status": "ok",
     "timestamp": 1736317146472,
     "user": {
      "displayName": "이유리",
      "userId": "07944853073863522042"
     },
     "user_tz": -540
    },
    "id": "bS-s43-jkEAW",
    "outputId": "965f1ed5-f7da-427d-ea6b-fdad1129881b"
   },
   "outputs": [
    {
     "name": "stdout",
     "output_type": "stream",
     "text": [
      "recipe_6000_clean.csv 파일로 저장되었습니다.\n"
     ]
    }
   ],
   "source": [
    "# recipe_df_clean 데이터프레임을 CSV 파일로 저장\n",
    "recipe_df.to_csv(\"../data_preprocessing/recipe_6000_clean.csv\", index=False)\n",
    "print(\"recipe_6000_clean.csv 파일로 저장되었습니다.\")"
   ]
  }
 ],
 "metadata": {
  "colab": {
   "provenance": []
  },
  "kernelspec": {
   "display_name": "human-dl-env2",
   "language": "python",
   "name": "python3"
  },
  "language_info": {
   "codemirror_mode": {
    "name": "ipython",
    "version": 3
   },
   "file_extension": ".py",
   "mimetype": "text/x-python",
   "name": "python",
   "nbconvert_exporter": "python",
   "pygments_lexer": "ipython3",
   "version": "3.9.21"
  }
 },
 "nbformat": 4,
 "nbformat_minor": 0
}
