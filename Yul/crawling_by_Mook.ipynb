{
 "cells": [
  {
   "cell_type": "code",
   "execution_count": 91,
   "metadata": {},
   "outputs": [],
   "source": [
    "import requests, json\n",
    "from bs4 import BeautifulSoup\n",
    "def food(name):\n",
    "    url = f\"https://www.10000recipe.com/recipe/list.html?q={name}\"\n",
    "    response = requests.get(url)\n",
    "    html = response.text\n",
    "    soup = BeautifulSoup(html, \"html.parser\")\n",
    "    food_first = soup.select('a[class = \"common_sp_link\"]')\n",
    "    food_id = food_first[0]['href'].split(\"/\")[-1]\n",
    "    food_link = f\"https://www.10000recipe.com/recipe/{food_id}\"\n",
    "    food_response = requests.get(food_link)\n",
    "    food_html = food_response.text\n",
    "    food_soup = BeautifulSoup(food_html, \"html.parser\")\n",
    "    food_info = food_soup.select('script[type=\"application/ld+json\"]')\n",
    "    result = json.loads(food_info[0].text)\n",
    "    ingredient = ','.join(result['recipeIngredient'])\n",
    "    recipe = [ row['text'] for row in result['recipeInstructions'] ]\n",
    "    numbered_recipe = [f\"{i+1}. {step}\" for i, step in enumerate(recipe)]\n",
    "    fd = {\n",
    "        'name': name,\n",
    "        'ingredients' : ingredient,\n",
    "        'recipe' : numbered_recipe\n",
    "    }\n",
    "    return fd\n"
   ]
  },
  {
   "cell_type": "code",
   "execution_count": 92,
   "metadata": {},
   "outputs": [
    {
     "data": {
      "text/plain": [
       "{'name': '김치찌게',\n",
       " 'ingredients': '배추김치420g,돼지목살300g,멸치육수3컵,대파1/4대,양파1/4개,다진마늘1숟갈,고추가루1숟갈,국간장2숟갈,김치국물4숟갈,참기름1숟갈,후추 약간',\n",
       " 'recipe': ['1. 멸치육수를 진하게 3~4컵정도 만들어주세요~',\n",
       "  '2. 돼지목살을 큼직하게 썬후 고기양념을 넣고 조물조물 버무려주세요~',\n",
       "  '3. 배추김치를 큼직하게 듬성듬성 썰어주세요~~',\n",
       "  '4. 냄비에 양념한 돼지목살을 넣고 달달 볶아주세요',\n",
       "  '5. 김치를 넣고 김치가 나른해지는 느낌이 들도록 볶아줍니다~',\n",
       "  '6. 멸치육수를 넣고 냄비 뚜껑을 덮은후 약불에서 부글부글 끓여주세요~',\n",
       "  '7. 마지막에 채썬 양파와 어슷썬 대파를 넣고. 한소끔 더 끓여내면 완성입니다.']}"
      ]
     },
     "execution_count": 92,
     "metadata": {},
     "output_type": "execute_result"
    }
   ],
   "source": [
    "food(\"김치찌게\")"
   ]
  },
  {
   "cell_type": "code",
   "execution_count": null,
   "metadata": {},
   "outputs": [],
   "source": []
  }
 ],
 "metadata": {
  "kernelspec": {
   "display_name": "human-dl-env2",
   "language": "python",
   "name": "python3"
  },
  "language_info": {
   "codemirror_mode": {
    "name": "ipython",
    "version": 3
   },
   "file_extension": ".py",
   "mimetype": "text/x-python",
   "name": "python",
   "nbconvert_exporter": "python",
   "pygments_lexer": "ipython3",
   "version": "3.9.21"
  }
 },
 "nbformat": 4,
 "nbformat_minor": 2
}
