{
 "cells": [
  {
   "cell_type": "code",
   "execution_count": 2,
   "metadata": {},
   "outputs": [],
   "source": [
    "import pymysql\n",
    "import pandas as pd\n",
    "\n",
    "def insert_food_data(file_path):\n",
    "    # MySQL 연결 설정\n",
    "    conn = pymysql.connect(\n",
    "        host=\"192.168.0.9\", \n",
    "        port=3306, \n",
    "        db=\"final_pj\", \n",
    "        user=\"humanda\", \n",
    "        passwd=\"1234\"\n",
    "    )\n",
    "    \n",
    "    cursor = conn.cursor()\n",
    "\n",
    "    # CSV 파일 읽기\n",
    "    data = pd.read_csv(file_path)\n",
    "\n",
    "    # 데이터 삽입\n",
    "    sql = \"\"\"INSERT INTO food_recipes (food_no, name, ingredients, recipe, food_name_eng)\n",
    "             VALUES (%s, %s, %s, %s, %s)\n",
    "             ON DUPLICATE KEY UPDATE\n",
    "                name = VALUES(name),\n",
    "                ingredients = VALUES(ingredients),\n",
    "                recipe = VALUES(recipe),\n",
    "                food_name_eng = VALUES(food_name_eng)\"\"\"\n",
    "    \n",
    "    for index, row in data.iterrows():\n",
    "        cursor.execute(sql, [row['food_no'], row['name'], row['ingredients'], row['recipe'], row['food_name_eng']])\n",
    "\n",
    "    # 변경 사항 커밋\n",
    "    conn.commit()\n",
    "\n",
    "    # 리소스 정리\n",
    "    cursor.close()\n",
    "    conn.close()\n",
    "\n",
    "# CSV 파일 경로\n",
    "file_path = \"D:/humanda/WORKSPACE/webapps/yulweb/data_files/food_final.csv\"\n",
    "\n",
    "# 함수 실행\n",
    "insert_food_data(file_path)\n"
   ]
  },
  {
   "cell_type": "code",
   "execution_count": null,
   "metadata": {},
   "outputs": [],
   "source": []
  }
 ],
 "metadata": {
  "kernelspec": {
   "display_name": "final-pj-env",
   "language": "python",
   "name": "python3"
  },
  "language_info": {
   "codemirror_mode": {
    "name": "ipython",
    "version": 3
   },
   "file_extension": ".py",
   "mimetype": "text/x-python",
   "name": "python",
   "nbconvert_exporter": "python",
   "pygments_lexer": "ipython3",
   "version": "3.10.12"
  }
 },
 "nbformat": 4,
 "nbformat_minor": 2
}
