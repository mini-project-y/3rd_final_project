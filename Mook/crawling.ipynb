{
 "cells": [
  {
   "cell_type": "code",
   "execution_count": 91,
   "metadata": {},
   "outputs": [],
   "source": [
    "import requests, json\n",
    "from bs4 import BeautifulSoup\n",
    "def food(name):\n",
    "    url = f\"https://www.10000recipe.com/recipe/list.html?q={name}\"\n",
    "    response = requests.get(url)\n",
    "    html = response.text\n",
    "    soup = BeautifulSoup(html, \"html.parser\")\n",
    "    food_first = soup.select('a[class = \"common_sp_link\"]')\n",
    "    food_id = food_first[0]['href'].split(\"/\")[-1]\n",
    "    food_link = f\"https://www.10000recipe.com/recipe/{food_id}\"\n",
    "    food_response = requests.get(food_link)\n",
    "    food_html = food_response.text\n",
    "    food_soup = BeautifulSoup(food_html, \"html.parser\")\n",
    "    food_info = food_soup.select('script[type=\"application/ld+json\"]')\n",
    "    result = json.loads(food_info[0].text)\n",
    "    ingredient = ','.join(result['recipeIngredient'])\n",
    "    recipe = [ row['text'] for row in result['recipeInstructions'] ]\n",
    "    numbered_recipe = [f\"{i+1}. {step}\" for i, step in enumerate(recipe)]\n",
    "    fd = {\n",
    "        'name': name,\n",
    "        'ingredients' : ingredient,\n",
    "        'recipe' : numbered_recipe\n",
    "    }\n",
    "    return fd\n"
   ]
  },
  {
   "cell_type": "code",
   "execution_count": 92,
   "metadata": {},
   "outputs": [
    {
     "data": {
      "text/plain": [
       "{'name': '김치찌게',\n",
       " 'ingredients': '배추김치420g,돼지목살300g,멸치육수3컵,대파1/4대,양파1/4개,다진마늘1숟갈,고추가루1숟갈,국간장2숟갈,김치국물4숟갈,참기름1숟갈,후추 약간',\n",
       " 'recipe': ['1. 멸치육수를 진하게 3~4컵정도 만들어주세요~',\n",
       "  '2. 돼지목살을 큼직하게 썬후 고기양념을 넣고 조물조물 버무려주세요~',\n",
       "  '3. 배추김치를 큼직하게 듬성듬성 썰어주세요~~',\n",
       "  '4. 냄비에 양념한 돼지목살을 넣고 달달 볶아주세요',\n",
       "  '5. 김치를 넣고 김치가 나른해지는 느낌이 들도록 볶아줍니다~',\n",
       "  '6. 멸치육수를 넣고 냄비 뚜껑을 덮은후 약불에서 부글부글 끓여주세요~',\n",
       "  '7. 마지막에 채썬 양파와 어슷썬 대파를 넣고. 한소끔 더 끓여내면 완성입니다.']}"
      ]
     },
     "execution_count": 92,
     "metadata": {},
     "output_type": "execute_result"
    }
   ],
   "source": [
    "food(\"김치찌게\")"
   ]
  },
  {
   "cell_type": "code",
   "execution_count": 93,
   "metadata": {},
   "outputs": [
    {
     "data": {
      "text/plain": [
       "{'name': '간장게장',\n",
       " 'ingredients': '꽃게 5마리,간장 3머그컵,물 3.5머그컵,청양고추 4개,홍고추 2개,사과 1개,생강가루 1큰술 (or 날생강 생강청),소주 3큰술 (or청주),통마늘 7~10개',\n",
       " 'recipe': ['1. 4~6월에는 알이 꽉 찬 암꽃게가 실하니 먹을만 하답니다. 들어 봤을때 묵직한 것이 살이 꽉차서 좋다지요.',\n",
       "  '2. 분량의 양념재료 간장 3머그컵, 물 3.5머그컵, 사과 썬 것, 청양고추, 홍고추, 청주 3큰술, 생강가루를 넣고 팔팔 끓여서 식혀 줍니다. 간장 양은 기호에 맞게 가감해서 넣어 주셔도 된답니다. 사과 대용으로 100% 사과즙을 넣어 주셔도 좋습니다.',\n",
       "  '3. 간장게장 소스가 식는 동안 꽃게를 손질 합니다. 게의 뾰족한 부분은 가위로 잘라내 줍니다.',\n",
       "  '4. 주방용 칫솔로 게를 구석구석 닦아 줍니다.',\n",
       "  '5. 통에 꽃게를 담고 완전히 식힌 게장소스를 체에 받쳐 부어 줍니다.',\n",
       "  '6. 생청양고추와 건홍고추 몇개를 넣어서 간장소스 넉넉하니 부어 냉장고에서 만하루 이상 숙성시켜서 드시면 된답니다. 만든지 3일째 되는 날이 가장 맛이 좋답니다. 간장게장 만드는법, 소스 재료 몽땅 넣어 데려서 식혀 붓기만 하면 되니 어렵지 않답니다. 간장게장을 오래 두고 드실거면 꽃게를 따로 건져서 냉동고에 먹을만큼씩 패키지 해서 넣었다가 하나씩 꺼내어 냉장보관한 장을 부어서 드시면 된답니다.']}"
      ]
     },
     "execution_count": 93,
     "metadata": {},
     "output_type": "execute_result"
    }
   ],
   "source": [
    "food('간장게장')"
   ]
  },
  {
   "cell_type": "code",
   "execution_count": 94,
   "metadata": {},
   "outputs": [],
   "source": [
    "food_names = ['갈비구이', '갈치구이']\n",
    "all_recipes = []\n",
    "\n",
    "for name in food_names:\n",
    "    recipes = food(name)\n",
    "    all_recipes.append(recipes)\n"
   ]
  },
  {
   "cell_type": "code",
   "execution_count": 95,
   "metadata": {},
   "outputs": [
    {
     "data": {
      "text/plain": [
       "[{'name': '갈비구이',\n",
       "  'ingredients': 'LA갈비 1kg ,양파대 1/2개,배 1/4개,사과 1/2개,간장 6큰술,설탕 2큰술,맛술 3큰술,참기름 1큰술,생강술 1큰술,다진마늘 1큰술,물엿 3큰술,후추 약간',\n",
       "  'recipe': ['1. 갈비는 찬물에 담가 핏물을 빼고 손으로 주물러 흔들어 씻어 뼛가루를 제거한다. 물기를 뺀다.',\n",
       "   '2. 양파,배,사과는 껍질을 벗기고 강판에 갈아',\n",
       "   '3. 즙만 사용한다.',\n",
       "   '4. 윗 분량으로 양념장을 만든다. 싱거우면 간장 추가',\n",
       "   '5. 갈비를 양념장에 재워둔다.',\n",
       "   '6. 팬에 기름을 두르고 갈비를 구워낸다.',\n",
       "   '7. 접시에 잘라 담는다.']},\n",
       " {'name': '갈치구이',\n",
       "  'ingredients': '갈치 2마리,식용유 3T,부침가루 2T,쌀뜨물 적당량,후추 약간,맛소금 2꼬집',\n",
       "  'recipe': ['1. 갈치를 쌀뜨물에 넣어 해동 해 줍니다. 생물은 그냥 조리하셔도 됩니다.',\n",
       "   '2. 비린내는 껍질에서 많이나므로 껍질을 칼로 쓱쓱 밀듯이하여 벗겨준뒤 맛소금 한꼬집과 후추로 밑간을 합니다.',\n",
       "   '3. 부침가루 2T를 준비해 갈치에 입혀줍니다. 가루는 털어내어 얇게 입혀 줍니다.',\n",
       "   '4. 후라이팬에 식용유를 넉넉히 두르고 예열한뒤 갈치를 올립니다.',\n",
       "   '5. 갈치는 두껍지않은 생선이므로 다른 생선보다 빨리 익습니다. 중불에서 앞뒷면 살이 다 익으면 겉이 노릇해지게 한번씩만 바삭하게 구워내면 완성.']}]"
      ]
     },
     "execution_count": 95,
     "metadata": {},
     "output_type": "execute_result"
    }
   ],
   "source": [
    "all_recipes"
   ]
  },
  {
   "cell_type": "code",
   "execution_count": null,
   "metadata": {},
   "outputs": [],
   "source": []
  }
 ],
 "metadata": {
  "kernelspec": {
   "display_name": "human-dl-env2",
   "language": "python",
   "name": "python3"
  },
  "language_info": {
   "codemirror_mode": {
    "name": "ipython",
    "version": 3
   },
   "file_extension": ".py",
   "mimetype": "text/x-python",
   "name": "python",
   "nbconvert_exporter": "python",
   "pygments_lexer": "ipython3",
   "version": "3.9.21"
  }
 },
 "nbformat": 4,
 "nbformat_minor": 2
}
