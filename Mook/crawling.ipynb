{
 "cells": [
  {
   "cell_type": "markdown",
   "metadata": {},
   "source": [
    "# 크롤링"
   ]
  },
  {
   "cell_type": "code",
   "execution_count": 91,
   "metadata": {},
   "outputs": [],
   "source": [
    "import requests, json\n",
    "from bs4 import BeautifulSoup\n",
    "def food(name):\n",
    "    url = f\"https://www.10000recipe.com/recipe/list.html?q={name}\"\n",
    "    response = requests.get(url)\n",
    "    html = response.text\n",
    "    soup = BeautifulSoup(html, \"html.parser\")\n",
    "    food_first = soup.select('a[class = \"common_sp_link\"]')\n",
    "    food_id = food_first[0]['href'].split(\"/\")[-1]\n",
    "    food_link = f\"https://www.10000recipe.com/recipe/{food_id}\"\n",
    "    food_response = requests.get(food_link)\n",
    "    food_html = food_response.text\n",
    "    food_soup = BeautifulSoup(food_html, \"html.parser\")\n",
    "    food_info = food_soup.select('script[type=\"application/ld+json\"]')\n",
    "    result = json.loads(food_info[0].text)\n",
    "    ingredient = ','.join(result['recipeIngredient'])\n",
    "    recipe = [ row['text'] for row in result['recipeInstructions'] ]\n",
    "    numbered_recipe = [f\"{i+1}. {step}\" for i, step in enumerate(recipe)]\n",
    "    fd = {\n",
    "        'name': name,\n",
    "        'ingredients' : ingredient,\n",
    "        'recipe' : numbered_recipe\n",
    "    }\n",
    "    return fd\n"
   ]
  },
  {
   "cell_type": "code",
   "execution_count": 123,
   "metadata": {},
   "outputs": [],
   "source": [
    "import requests, json\n",
    "from bs4 import BeautifulSoup\n",
    "def food_1(name):\n",
    "    url = f\"https://www.10000recipe.com/recipe/list.html?q={name}\"\n",
    "    response = requests.get(url)\n",
    "    html = response.text\n",
    "    soup = BeautifulSoup(html, \"html.parser\")\n",
    "    food_first = soup.select('a[class = \"common_sp_link\"]')\n",
    "    food_id = food_first[1]['href'].split(\"/\")[-1]\n",
    "    food_link = f\"https://www.10000recipe.com/recipe/{food_id}\"\n",
    "    food_response = requests.get(food_link)\n",
    "    food_html = food_response.text\n",
    "    food_soup = BeautifulSoup(food_html, \"html.parser\")\n",
    "    food_info = food_soup.select('script[type=\"application/ld+json\"]')\n",
    "    result = json.loads(food_info[0].text)\n",
    "    ingredient = ','.join(result['recipeIngredient'])\n",
    "    recipe = [ row['text'] for row in result['recipeInstructions'] ]\n",
    "    numbered_recipe = [f\"{i+1}. {step}\" for i, step in enumerate(recipe)]\n",
    "    fd = {\n",
    "        'name': name,\n",
    "        'ingredients' : ingredient,\n",
    "        'recipe' : numbered_recipe\n",
    "    }\n",
    "    return fd"
   ]
  },
  {
   "cell_type": "code",
   "execution_count": 92,
   "metadata": {},
   "outputs": [
    {
     "data": {
      "text/plain": [
       "{'name': '김치찌게',\n",
       " 'ingredients': '배추김치420g,돼지목살300g,멸치육수3컵,대파1/4대,양파1/4개,다진마늘1숟갈,고추가루1숟갈,국간장2숟갈,김치국물4숟갈,참기름1숟갈,후추 약간',\n",
       " 'recipe': ['1. 멸치육수를 진하게 3~4컵정도 만들어주세요~',\n",
       "  '2. 돼지목살을 큼직하게 썬후 고기양념을 넣고 조물조물 버무려주세요~',\n",
       "  '3. 배추김치를 큼직하게 듬성듬성 썰어주세요~~',\n",
       "  '4. 냄비에 양념한 돼지목살을 넣고 달달 볶아주세요',\n",
       "  '5. 김치를 넣고 김치가 나른해지는 느낌이 들도록 볶아줍니다~',\n",
       "  '6. 멸치육수를 넣고 냄비 뚜껑을 덮은후 약불에서 부글부글 끓여주세요~',\n",
       "  '7. 마지막에 채썬 양파와 어슷썬 대파를 넣고. 한소끔 더 끓여내면 완성입니다.']}"
      ]
     },
     "execution_count": 92,
     "metadata": {},
     "output_type": "execute_result"
    }
   ],
   "source": [
    "food(\"김치찌게\")"
   ]
  },
  {
   "cell_type": "code",
   "execution_count": null,
   "metadata": {},
   "outputs": [
    {
     "name": "stdout",
     "output_type": "stream",
     "text": [
      "Error with 조개구이: 'recipeIngredient'\n",
      "Error with 시금치나물: 'recipeIngredient'\n",
      "Number of successful recipes: 48\n",
      "Successful food names: ['갈비구이', '갈치구이', '고등어구이', '곱창구이', '닭갈비', '더덕구이', '떡갈비', '불고기', '삼겹살', '장어구이', '조기구이', '황태구이', '훈제오리', '계란국', '떡국_만두국', '무국', '미역국', '북엇국', '시래기국', '육개장', '콩나물국', '과매기', '양념치킨', '젓갈', '콩자반', '편육', '피자', '후라이드_치킨', '갓김치', '깍두기', '나박김치', '무생채', '배추김치', '백김치', '부추김치', '열무김치', '오이소박이', '총각김치', '파김치', '가지볶음', '고사리나물', '미역줄기볶음', '숙주나물', '애호박볶음', '경단', '꿀떡', '송편', '만두']\n"
     ]
    }
   ],
   "source": [
    "import time\n",
    "\n",
    "food_names = [ '갈비구이', '갈치구이', '고등어구이', '곱창구이', '닭갈비', '더덕구이', '떡갈비', '불고기', '삼겹살',\n",
    "               '장어구이', '조개구이', '조기구이', '황태구이', '훈제오리', '계란국', '떡국_만두국', '무국', '미역국', \n",
    "               '북엇국', '시래기국', '육개장', '콩나물국', '과매기', '양념치킨', '젓갈', '콩자반', '편육', '피자',\n",
    "               '후라이드_치킨', '갓김치', '깍두기', '나박김치', '무생채', '배추김치', '백김치', '부추김치', '열무김치', \n",
    "               '오이소박이', '총각김치', '파김치', '가지볶음', '고사리나물', '미역줄기볶음', '숙주나물', '시금치나물', \n",
    "               '애호박볶음', '경단', '꿀떡', '송편', '만두' ]\n",
    "all_recipes = []\n",
    "successful_food_names = []\n",
    "\n",
    "for name in food_names:\n",
    "    try:\n",
    "        recipes = food(name)\n",
    "        all_recipes.append(recipes)\n",
    "        successful_food_names.append(name)\n",
    "        time.sleep(1)\n",
    "    except Exception as e:\n",
    "        print(f\"Error with {name}: {e}\")\n",
    "\n",
    "\n",
    "print(\"Number of successful recipes:\", len(all_recipes))\n",
    "print(\"Successful food names:\", successful_food_names)"
   ]
  },
  {
   "cell_type": "code",
   "execution_count": 127,
   "metadata": {},
   "outputs": [],
   "source": [
    "all_recipes.append(food_1(\"조개구이\"))\n",
    "all_recipes.append(food_1(\"시금치나물\"))"
   ]
  },
  {
   "cell_type": "code",
   "execution_count": 128,
   "metadata": {},
   "outputs": [
    {
     "data": {
      "text/plain": [
       "50"
      ]
     },
     "execution_count": 128,
     "metadata": {},
     "output_type": "execute_result"
    }
   ],
   "source": [
    "len(all_recipes)"
   ]
  },
  {
   "cell_type": "code",
   "execution_count": 131,
   "metadata": {},
   "outputs": [],
   "source": [
    "import pandas as pd\n",
    "\n",
    "df = pd.DataFrame(all_recipes)\n",
    "df['recipe'] = df['recipe'].apply(lambda x: '|'.join(x))\n",
    "df.to_csv('Mook_food.csv', index=False, encoding='utf-8-sig')"
   ]
  },
  {
   "cell_type": "code",
   "execution_count": null,
   "metadata": {},
   "outputs": [],
   "source": []
  }
 ],
 "metadata": {
  "kernelspec": {
   "display_name": "human-dl-env2",
   "language": "python",
   "name": "python3"
  },
  "language_info": {
   "codemirror_mode": {
    "name": "ipython",
    "version": 3
   },
   "file_extension": ".py",
   "mimetype": "text/x-python",
   "name": "python",
   "nbconvert_exporter": "python",
   "pygments_lexer": "ipython3",
   "version": "3.9.21"
  }
 },
 "nbformat": 4,
 "nbformat_minor": 2
}
